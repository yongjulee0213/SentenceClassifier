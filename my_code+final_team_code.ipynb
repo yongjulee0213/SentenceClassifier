{
  "cells": [
    {
      "cell_type": "markdown",
      "metadata": {
        "id": "view-in-github",
        "colab_type": "text"
      },
      "source": [
        "<a href=\"https://colab.research.google.com/github/yongjulee0213/SentenceClassifier/blob/main/my_code%2Bfinal_team_code.ipynb\" target=\"_parent\"><img src=\"https://colab.research.google.com/assets/colab-badge.svg\" alt=\"Open In Colab\"/></a>"
      ]
    },
    {
      "cell_type": "markdown",
      "source": [
        "## 필요한 라이브러리 설치/임포트/WANDB 로그인\n"
      ],
      "metadata": {
        "id": "NYkQbydzw6HR"
      }
    },
    {
      "cell_type": "code",
      "execution_count": 1,
      "metadata": {
        "colab": {
          "base_uri": "https://localhost:8080/"
        },
        "id": "G9EvC1HBuf41",
        "outputId": "4376e93d-c9ff-4bbb-cc11-28f22c73dfb7"
      },
      "outputs": [
        {
          "output_type": "stream",
          "name": "stdout",
          "text": [
            "Looking in indexes: https://pypi.org/simple, https://us-python.pkg.dev/colab-wheels/public/simple/\n",
            "Requirement already satisfied: transformers in /usr/local/lib/python3.8/dist-packages (4.25.1)\n",
            "Requirement already satisfied: regex!=2019.12.17 in /usr/local/lib/python3.8/dist-packages (from transformers) (2022.6.2)\n",
            "Requirement already satisfied: huggingface-hub<1.0,>=0.10.0 in /usr/local/lib/python3.8/dist-packages (from transformers) (0.11.1)\n",
            "Requirement already satisfied: numpy>=1.17 in /usr/local/lib/python3.8/dist-packages (from transformers) (1.21.6)\n",
            "Requirement already satisfied: filelock in /usr/local/lib/python3.8/dist-packages (from transformers) (3.8.2)\n",
            "Requirement already satisfied: packaging>=20.0 in /usr/local/lib/python3.8/dist-packages (from transformers) (21.3)\n",
            "Requirement already satisfied: tqdm>=4.27 in /usr/local/lib/python3.8/dist-packages (from transformers) (4.64.1)\n",
            "Requirement already satisfied: pyyaml>=5.1 in /usr/local/lib/python3.8/dist-packages (from transformers) (6.0)\n",
            "Requirement already satisfied: requests in /usr/local/lib/python3.8/dist-packages (from transformers) (2.23.0)\n",
            "Requirement already satisfied: tokenizers!=0.11.3,<0.14,>=0.11.1 in /usr/local/lib/python3.8/dist-packages (from transformers) (0.13.2)\n",
            "Requirement already satisfied: typing-extensions>=3.7.4.3 in /usr/local/lib/python3.8/dist-packages (from huggingface-hub<1.0,>=0.10.0->transformers) (4.4.0)\n",
            "Requirement already satisfied: pyparsing!=3.0.5,>=2.0.2 in /usr/local/lib/python3.8/dist-packages (from packaging>=20.0->transformers) (3.0.9)\n",
            "Requirement already satisfied: chardet<4,>=3.0.2 in /usr/local/lib/python3.8/dist-packages (from requests->transformers) (3.0.4)\n",
            "Requirement already satisfied: certifi>=2017.4.17 in /usr/local/lib/python3.8/dist-packages (from requests->transformers) (2022.12.7)\n",
            "Requirement already satisfied: urllib3!=1.25.0,!=1.25.1,<1.26,>=1.21.1 in /usr/local/lib/python3.8/dist-packages (from requests->transformers) (1.24.3)\n",
            "Requirement already satisfied: idna<3,>=2.5 in /usr/local/lib/python3.8/dist-packages (from requests->transformers) (2.10)\n"
          ]
        }
      ],
      "source": [
        "!pip install transformers"
      ]
    },
    {
      "cell_type": "code",
      "execution_count": 2,
      "metadata": {
        "colab": {
          "base_uri": "https://localhost:8080/"
        },
        "id": "X0Ga7SPdLpkh",
        "outputId": "4da5ae62-04f8-42cd-8a4d-ecd9e854a95c"
      },
      "outputs": [
        {
          "output_type": "stream",
          "name": "stdout",
          "text": [
            "Looking in indexes: https://pypi.org/simple, https://us-python.pkg.dev/colab-wheels/public/simple/\n",
            "Requirement already satisfied: wandb in /usr/local/lib/python3.8/dist-packages (0.13.7)\n",
            "Requirement already satisfied: PyYAML in /usr/local/lib/python3.8/dist-packages (from wandb) (6.0)\n",
            "Requirement already satisfied: setuptools in /usr/local/lib/python3.8/dist-packages (from wandb) (57.4.0)\n",
            "Requirement already satisfied: protobuf!=4.21.0,<5,>=3.12.0 in /usr/local/lib/python3.8/dist-packages (from wandb) (3.19.6)\n",
            "Requirement already satisfied: requests<3,>=2.0.0 in /usr/local/lib/python3.8/dist-packages (from wandb) (2.23.0)\n",
            "Requirement already satisfied: promise<3,>=2.0 in /usr/local/lib/python3.8/dist-packages (from wandb) (2.3)\n",
            "Requirement already satisfied: GitPython>=1.0.0 in /usr/local/lib/python3.8/dist-packages (from wandb) (3.1.30)\n",
            "Requirement already satisfied: pathtools in /usr/local/lib/python3.8/dist-packages (from wandb) (0.1.2)\n",
            "Requirement already satisfied: setproctitle in /usr/local/lib/python3.8/dist-packages (from wandb) (1.3.2)\n",
            "Requirement already satisfied: psutil>=5.0.0 in /usr/local/lib/python3.8/dist-packages (from wandb) (5.4.8)\n",
            "Requirement already satisfied: sentry-sdk>=1.0.0 in /usr/local/lib/python3.8/dist-packages (from wandb) (1.9.0)\n",
            "Requirement already satisfied: shortuuid>=0.5.0 in /usr/local/lib/python3.8/dist-packages (from wandb) (1.0.11)\n",
            "Requirement already satisfied: Click!=8.0.0,>=7.0 in /usr/local/lib/python3.8/dist-packages (from wandb) (7.1.2)\n",
            "Requirement already satisfied: docker-pycreds>=0.4.0 in /usr/local/lib/python3.8/dist-packages (from wandb) (0.4.0)\n",
            "Requirement already satisfied: six>=1.4.0 in /usr/local/lib/python3.8/dist-packages (from docker-pycreds>=0.4.0->wandb) (1.15.0)\n",
            "Requirement already satisfied: gitdb<5,>=4.0.1 in /usr/local/lib/python3.8/dist-packages (from GitPython>=1.0.0->wandb) (4.0.10)\n",
            "Requirement already satisfied: smmap<6,>=3.0.1 in /usr/local/lib/python3.8/dist-packages (from gitdb<5,>=4.0.1->GitPython>=1.0.0->wandb) (5.0.0)\n",
            "Requirement already satisfied: idna<3,>=2.5 in /usr/local/lib/python3.8/dist-packages (from requests<3,>=2.0.0->wandb) (2.10)\n",
            "Requirement already satisfied: chardet<4,>=3.0.2 in /usr/local/lib/python3.8/dist-packages (from requests<3,>=2.0.0->wandb) (3.0.4)\n",
            "Requirement already satisfied: certifi>=2017.4.17 in /usr/local/lib/python3.8/dist-packages (from requests<3,>=2.0.0->wandb) (2022.12.7)\n",
            "Requirement already satisfied: urllib3!=1.25.0,!=1.25.1,<1.26,>=1.21.1 in /usr/local/lib/python3.8/dist-packages (from requests<3,>=2.0.0->wandb) (1.24.3)\n"
          ]
        }
      ],
      "source": [
        "!pip install wandb"
      ]
    },
    {
      "cell_type": "code",
      "source": [
        "!pip install sentencepiece"
      ],
      "metadata": {
        "colab": {
          "base_uri": "https://localhost:8080/"
        },
        "id": "OgN0At6wxfQr",
        "outputId": "1d4be402-1478-4779-f7d1-2adb2f0d0105"
      },
      "execution_count": 3,
      "outputs": [
        {
          "output_type": "stream",
          "name": "stdout",
          "text": [
            "Looking in indexes: https://pypi.org/simple, https://us-python.pkg.dev/colab-wheels/public/simple/\n",
            "Requirement already satisfied: sentencepiece in /usr/local/lib/python3.8/dist-packages (0.1.97)\n"
          ]
        }
      ]
    },
    {
      "cell_type": "code",
      "execution_count": 4,
      "metadata": {
        "id": "AAdLxrUZrvgP"
      },
      "outputs": [],
      "source": [
        "import os\n",
        "from collections import defaultdict\n",
        "import random\n",
        "import gc\n",
        "\n",
        "import torch\n",
        "import torch.nn as nn\n",
        "from torch.nn.utils.rnn import pad_sequence\n",
        "import torch.optim as optim\n",
        "\n",
        "import numpy as np\n",
        "from tqdm import tqdm\n",
        "\n",
        "import sentencepiece #transformer의 몇 라이브러리가 sentencepiece 요구함\n",
        "\n",
        "\n",
        "from transformers import (\n",
        "    BertForSequenceClassification,\n",
        "    BertTokenizer,\n",
        "    AutoConfig,\n",
        "    AdamW,\n",
        "    AlbertForSequenceClassification,\n",
        "    AlbertTokenizer,\n",
        "    RobertaForSequenceClassification,\n",
        "    RobertaTokenizer,\n",
        "    ElectraForSequenceClassification,\n",
        "    ElectraTokenizer\n",
        ")\n",
        "import pandas as pd\n",
        "# 📈 For Visualization\n",
        "import matplotlib.pyplot as plt\n",
        "import seaborn as sns\n",
        "import wandb\n",
        "\n",
        "from torch.utils.data import Dataset, DataLoader"
      ]
    },
    {
      "cell_type": "code",
      "execution_count": 5,
      "metadata": {
        "colab": {
          "base_uri": "https://localhost:8080/"
        },
        "id": "WqNt-5raXnrY",
        "outputId": "2dbb5b74-f61f-4e9f-e8ed-8be159d2b731"
      },
      "outputs": [
        {
          "output_type": "stream",
          "name": "stderr",
          "text": [
            "ERROR:wandb.jupyter:Failed to detect the name of this notebook, you can set it manually with the WANDB_NOTEBOOK_NAME environment variable to enable code saving.\n",
            "\u001b[34m\u001b[1mwandb\u001b[0m: Currently logged in as: \u001b[33mtarcon3\u001b[0m (\u001b[33mgoorm\u001b[0m). Use \u001b[1m`wandb login --relogin`\u001b[0m to force relogin\n"
          ]
        },
        {
          "output_type": "execute_result",
          "data": {
            "text/plain": [
              "True"
            ]
          },
          "metadata": {},
          "execution_count": 5
        }
      ],
      "source": [
        "# Log in to your W&B account\n",
        "wandb.login()\n"
      ]
    },
    {
      "cell_type": "markdown",
      "source": [
        "\n",
        "\n",
        "## seed 고정/GPU 설정"
      ],
      "metadata": {
        "id": "vbYHamv6yXrj"
      }
    },
    {
      "cell_type": "code",
      "execution_count": 6,
      "metadata": {
        "id": "0Yz0guxnfSKz"
      },
      "outputs": [],
      "source": [
        "# random seed\n",
        "def seed_everything(seed):\n",
        "    np.random.seed(seed)\n",
        "    torch.manual_seed(seed)\n",
        "    torch.cuda.manual_seed(seed)\n",
        "    torch.backends.cudnn.deterministic = True\n",
        "    torch.backends.cudnn.benchmark = True\n",
        "seed_everything(42)\n",
        "\n",
        "device = torch.device('cuda' if torch.cuda.is_available() else 'cpu')"
      ]
    },
    {
      "cell_type": "markdown",
      "metadata": {
        "id": "AiST94r4mSxR"
      },
      "source": [
        "## Tokenizer & model name"
      ]
    },
    {
      "cell_type": "code",
      "execution_count": 7,
      "metadata": {
        "id": "hC8e9ygzmj6R"
      },
      "outputs": [],
      "source": [
        "#MY_MODEL_NAME = 'bert-base'\n",
        "#MY_MODEL_NAME = 'bert-large'\n",
        "MY_MODEL_NAME = 'albert-base'\n",
        "#MY_MODEL_NAME = 'albert-large'\n",
        "#MY_MODEL_NAME = 'roberta-base'\n",
        "#MY_MODEL_NAME = 'roberta-large'\n",
        "#MY_MODEL_NAME = 'electra-base'"
      ]
    },
    {
      "cell_type": "code",
      "source": [
        "if MY_MODEL_NAME == 'bert-base': tokenizer = BertTokenizer.from_pretrained('bert-base-uncased')\n",
        "elif MY_MODEL_NAME == 'bert-large': tokenizer = BertTokenizer.from_pretrained('bert-large-uncased')\n",
        "elif MY_MODEL_NAME == 'albert-base': tokenizer = AlbertTokenizer.from_pretrained(\"albert-base-v2\")\n",
        "elif MY_MODEL_NAME == 'albert-large': tokenizer = AlbertTokenizer.from_pretrained(\"albert-large-v2\")\n",
        "elif MY_MODEL_NAME == 'roberta-base': tokenizer = RobertaTokenizer.from_pretrained(\"roberta-base\")\n",
        "elif MY_MODEL_NAME == 'roberta-large': tokenizer = RobertaTokenizer.from_pretrained(\"roberta-large\")\n",
        "elif MY_MODEL_NAME == 'electra-base': tokenizer = ElectraTokenizer.from_pretrained(\"bhadresh-savani/electra-base-emotion\")"
      ],
      "metadata": {
        "id": "1Y7Xwf6txN-L"
      },
      "execution_count": 8,
      "outputs": []
    },
    {
      "cell_type": "code",
      "execution_count": 9,
      "metadata": {
        "colab": {
          "base_uri": "https://localhost:8080/"
        },
        "id": "gjg6ZNRgxQMY",
        "outputId": "12393223-8a56-4fcc-b9ac-da2121387ec6"
      },
      "outputs": [
        {
          "output_type": "stream",
          "name": "stdout",
          "text": [
            "albert-base\n",
            "PreTrainedTokenizer(name_or_path='albert-base-v2', vocab_size=30000, model_max_len=512, is_fast=False, padding_side='right', truncation_side='right', special_tokens={'bos_token': '[CLS]', 'eos_token': '[SEP]', 'unk_token': '<unk>', 'sep_token': '[SEP]', 'pad_token': '<pad>', 'cls_token': '[CLS]', 'mask_token': AddedToken(\"[MASK]\", rstrip=False, lstrip=True, single_word=False, normalized=False)})\n"
          ]
        }
      ],
      "source": [
        "print(MY_MODEL_NAME)\n",
        "print(tokenizer)"
      ]
    },
    {
      "cell_type": "markdown",
      "metadata": {
        "id": "ASWOOmXqrvgQ"
      },
      "source": [
        "## dataset"
      ]
    },
    {
      "cell_type": "markdown",
      "source": [
        "1. data file 업로드"
      ],
      "metadata": {
        "id": "lLbdALlAyrik"
      }
    },
    {
      "cell_type": "code",
      "execution_count": 10,
      "metadata": {
        "colab": {
          "base_uri": "https://localhost:8080/",
          "height": 216
        },
        "id": "4jVuK-V1uq3L",
        "outputId": "48fcf2da-affe-479e-9afe-b07fde7116fe"
      },
      "outputs": [
        {
          "output_type": "display_data",
          "data": {
            "text/plain": [
              "<IPython.core.display.HTML object>"
            ],
            "text/html": [
              "\n",
              "     <input type=\"file\" id=\"files-6f7f771c-a192-4b41-a50b-29430345c909\" name=\"files[]\" multiple disabled\n",
              "        style=\"border:none\" />\n",
              "     <output id=\"result-6f7f771c-a192-4b41-a50b-29430345c909\">\n",
              "      Upload widget is only available when the cell has been executed in the\n",
              "      current browser session. Please rerun this cell to enable.\n",
              "      </output>\n",
              "      <script>// Copyright 2017 Google LLC\n",
              "//\n",
              "// Licensed under the Apache License, Version 2.0 (the \"License\");\n",
              "// you may not use this file except in compliance with the License.\n",
              "// You may obtain a copy of the License at\n",
              "//\n",
              "//      http://www.apache.org/licenses/LICENSE-2.0\n",
              "//\n",
              "// Unless required by applicable law or agreed to in writing, software\n",
              "// distributed under the License is distributed on an \"AS IS\" BASIS,\n",
              "// WITHOUT WARRANTIES OR CONDITIONS OF ANY KIND, either express or implied.\n",
              "// See the License for the specific language governing permissions and\n",
              "// limitations under the License.\n",
              "\n",
              "/**\n",
              " * @fileoverview Helpers for google.colab Python module.\n",
              " */\n",
              "(function(scope) {\n",
              "function span(text, styleAttributes = {}) {\n",
              "  const element = document.createElement('span');\n",
              "  element.textContent = text;\n",
              "  for (const key of Object.keys(styleAttributes)) {\n",
              "    element.style[key] = styleAttributes[key];\n",
              "  }\n",
              "  return element;\n",
              "}\n",
              "\n",
              "// Max number of bytes which will be uploaded at a time.\n",
              "const MAX_PAYLOAD_SIZE = 100 * 1024;\n",
              "\n",
              "function _uploadFiles(inputId, outputId) {\n",
              "  const steps = uploadFilesStep(inputId, outputId);\n",
              "  const outputElement = document.getElementById(outputId);\n",
              "  // Cache steps on the outputElement to make it available for the next call\n",
              "  // to uploadFilesContinue from Python.\n",
              "  outputElement.steps = steps;\n",
              "\n",
              "  return _uploadFilesContinue(outputId);\n",
              "}\n",
              "\n",
              "// This is roughly an async generator (not supported in the browser yet),\n",
              "// where there are multiple asynchronous steps and the Python side is going\n",
              "// to poll for completion of each step.\n",
              "// This uses a Promise to block the python side on completion of each step,\n",
              "// then passes the result of the previous step as the input to the next step.\n",
              "function _uploadFilesContinue(outputId) {\n",
              "  const outputElement = document.getElementById(outputId);\n",
              "  const steps = outputElement.steps;\n",
              "\n",
              "  const next = steps.next(outputElement.lastPromiseValue);\n",
              "  return Promise.resolve(next.value.promise).then((value) => {\n",
              "    // Cache the last promise value to make it available to the next\n",
              "    // step of the generator.\n",
              "    outputElement.lastPromiseValue = value;\n",
              "    return next.value.response;\n",
              "  });\n",
              "}\n",
              "\n",
              "/**\n",
              " * Generator function which is called between each async step of the upload\n",
              " * process.\n",
              " * @param {string} inputId Element ID of the input file picker element.\n",
              " * @param {string} outputId Element ID of the output display.\n",
              " * @return {!Iterable<!Object>} Iterable of next steps.\n",
              " */\n",
              "function* uploadFilesStep(inputId, outputId) {\n",
              "  const inputElement = document.getElementById(inputId);\n",
              "  inputElement.disabled = false;\n",
              "\n",
              "  const outputElement = document.getElementById(outputId);\n",
              "  outputElement.innerHTML = '';\n",
              "\n",
              "  const pickedPromise = new Promise((resolve) => {\n",
              "    inputElement.addEventListener('change', (e) => {\n",
              "      resolve(e.target.files);\n",
              "    });\n",
              "  });\n",
              "\n",
              "  const cancel = document.createElement('button');\n",
              "  inputElement.parentElement.appendChild(cancel);\n",
              "  cancel.textContent = 'Cancel upload';\n",
              "  const cancelPromise = new Promise((resolve) => {\n",
              "    cancel.onclick = () => {\n",
              "      resolve(null);\n",
              "    };\n",
              "  });\n",
              "\n",
              "  // Wait for the user to pick the files.\n",
              "  const files = yield {\n",
              "    promise: Promise.race([pickedPromise, cancelPromise]),\n",
              "    response: {\n",
              "      action: 'starting',\n",
              "    }\n",
              "  };\n",
              "\n",
              "  cancel.remove();\n",
              "\n",
              "  // Disable the input element since further picks are not allowed.\n",
              "  inputElement.disabled = true;\n",
              "\n",
              "  if (!files) {\n",
              "    return {\n",
              "      response: {\n",
              "        action: 'complete',\n",
              "      }\n",
              "    };\n",
              "  }\n",
              "\n",
              "  for (const file of files) {\n",
              "    const li = document.createElement('li');\n",
              "    li.append(span(file.name, {fontWeight: 'bold'}));\n",
              "    li.append(span(\n",
              "        `(${file.type || 'n/a'}) - ${file.size} bytes, ` +\n",
              "        `last modified: ${\n",
              "            file.lastModifiedDate ? file.lastModifiedDate.toLocaleDateString() :\n",
              "                                    'n/a'} - `));\n",
              "    const percent = span('0% done');\n",
              "    li.appendChild(percent);\n",
              "\n",
              "    outputElement.appendChild(li);\n",
              "\n",
              "    const fileDataPromise = new Promise((resolve) => {\n",
              "      const reader = new FileReader();\n",
              "      reader.onload = (e) => {\n",
              "        resolve(e.target.result);\n",
              "      };\n",
              "      reader.readAsArrayBuffer(file);\n",
              "    });\n",
              "    // Wait for the data to be ready.\n",
              "    let fileData = yield {\n",
              "      promise: fileDataPromise,\n",
              "      response: {\n",
              "        action: 'continue',\n",
              "      }\n",
              "    };\n",
              "\n",
              "    // Use a chunked sending to avoid message size limits. See b/62115660.\n",
              "    let position = 0;\n",
              "    do {\n",
              "      const length = Math.min(fileData.byteLength - position, MAX_PAYLOAD_SIZE);\n",
              "      const chunk = new Uint8Array(fileData, position, length);\n",
              "      position += length;\n",
              "\n",
              "      const base64 = btoa(String.fromCharCode.apply(null, chunk));\n",
              "      yield {\n",
              "        response: {\n",
              "          action: 'append',\n",
              "          file: file.name,\n",
              "          data: base64,\n",
              "        },\n",
              "      };\n",
              "\n",
              "      let percentDone = fileData.byteLength === 0 ?\n",
              "          100 :\n",
              "          Math.round((position / fileData.byteLength) * 100);\n",
              "      percent.textContent = `${percentDone}% done`;\n",
              "\n",
              "    } while (position < fileData.byteLength);\n",
              "  }\n",
              "\n",
              "  // All done.\n",
              "  yield {\n",
              "    response: {\n",
              "      action: 'complete',\n",
              "    }\n",
              "  };\n",
              "}\n",
              "\n",
              "scope.google = scope.google || {};\n",
              "scope.google.colab = scope.google.colab || {};\n",
              "scope.google.colab._files = {\n",
              "  _uploadFiles,\n",
              "  _uploadFilesContinue,\n",
              "};\n",
              "})(self);\n",
              "</script> "
            ]
          },
          "metadata": {}
        },
        {
          "output_type": "stream",
          "name": "stdout",
          "text": [
            "Saving sentiment.dev.0 to sentiment.dev (1).0\n",
            "Saving sentiment.dev.1 to sentiment.dev (1).1\n",
            "Saving sentiment.train.0 to sentiment.train (1).0\n",
            "Saving sentiment.train.1 to sentiment.train (1).1\n",
            "Saving test_no_label.csv to test_no_label (1).csv\n"
          ]
        }
      ],
      "source": [
        "from google.colab import files\n",
        "uploaded = files.upload()"
      ]
    },
    {
      "cell_type": "code",
      "execution_count": 11,
      "metadata": {
        "colab": {
          "base_uri": "https://localhost:8080/"
        },
        "id": "ttzRlY4Ov0jZ",
        "outputId": "ea6037c2-bdb1-4922-cd9b-0cd789cfc3e7"
      },
      "outputs": [
        {
          "output_type": "stream",
          "name": "stdout",
          "text": [
            " model_albert-base_32_adamw_1e-05_0_1_ckp.bin   sentiment.train.1\n",
            " sample_data\t\t\t\t       'sentiment.train (1).0'\n",
            " sentiment.dev.0\t\t\t       'sentiment.train (1).1'\n",
            " sentiment.dev.1\t\t\t       'test_no_label (1).csv'\n",
            "'sentiment.dev (1).0'\t\t\t        test_no_label.csv\n",
            "'sentiment.dev (1).1'\t\t\t        wandb\n",
            " sentiment.train.0\n"
          ]
        }
      ],
      "source": [
        "!ls"
      ]
    },
    {
      "cell_type": "markdown",
      "source": [
        "2. preprocessing ; 데이터 파일 가져와 데이터 구분하기"
      ],
      "metadata": {
        "id": "GFWr7wujyxp9"
      }
    },
    {
      "cell_type": "code",
      "source": [
        "def file_to_sentence_dataframe(file_name):\n",
        "  file_data=[]\n",
        "  with open(file_name,'r',encoding='utf-8') as f: #파일 가져와서\n",
        "    for sentence in f: #파일을 한줄 씩 읽어서 문장을 가져와\n",
        "      file_data.append(str(sentence.lower()[:-1].strip()))#모두 소문자로 만들기+공백제거\n",
        "#review ,label을 가진 dataframe으로 변환\n",
        "  file_csv=pd.DataFrame({'review':file_data,'label':int(file_name[-1])})\n",
        "  return file_csv"
      ],
      "metadata": {
        "id": "PzGyJxKFy4Or"
      },
      "execution_count": 12,
      "outputs": []
    },
    {
      "cell_type": "code",
      "source": [
        "train_pos=file_to_sentence_dataframe('sentiment.train.1')\n",
        "train_neg=file_to_sentence_dataframe('sentiment.train.0')\n",
        "dev_pos=file_to_sentence_dataframe('sentiment.dev.1')\n",
        "dev_neg=file_to_sentence_dataframe('sentiment.dev.0')"
      ],
      "metadata": {
        "id": "9gjWVhkzy5gP"
      },
      "execution_count": 13,
      "outputs": []
    },
    {
      "cell_type": "code",
      "source": [
        "train_pos.head()"
      ],
      "metadata": {
        "colab": {
          "base_uri": "https://localhost:8080/",
          "height": 206
        },
        "id": "18WGUKFvzPTJ",
        "outputId": "63b64ed0-4ba2-4dd2-86ff-a0383307761e"
      },
      "execution_count": 14,
      "outputs": [
        {
          "output_type": "execute_result",
          "data": {
            "text/plain": [
              "                                              review  label\n",
              "0                                   excellent food .      1\n",
              "1                          superb customer service .      1\n",
              "2  they also have daily specials and ice cream wh...      1\n",
              "3                      it 's a good toasted hoagie .      1\n",
              "4                            the staff is friendly .      1"
            ],
            "text/html": [
              "\n",
              "  <div id=\"df-25a2a2a6-60d9-4746-ba84-f3535ce10cd6\">\n",
              "    <div class=\"colab-df-container\">\n",
              "      <div>\n",
              "<style scoped>\n",
              "    .dataframe tbody tr th:only-of-type {\n",
              "        vertical-align: middle;\n",
              "    }\n",
              "\n",
              "    .dataframe tbody tr th {\n",
              "        vertical-align: top;\n",
              "    }\n",
              "\n",
              "    .dataframe thead th {\n",
              "        text-align: right;\n",
              "    }\n",
              "</style>\n",
              "<table border=\"1\" class=\"dataframe\">\n",
              "  <thead>\n",
              "    <tr style=\"text-align: right;\">\n",
              "      <th></th>\n",
              "      <th>review</th>\n",
              "      <th>label</th>\n",
              "    </tr>\n",
              "  </thead>\n",
              "  <tbody>\n",
              "    <tr>\n",
              "      <th>0</th>\n",
              "      <td>excellent food .</td>\n",
              "      <td>1</td>\n",
              "    </tr>\n",
              "    <tr>\n",
              "      <th>1</th>\n",
              "      <td>superb customer service .</td>\n",
              "      <td>1</td>\n",
              "    </tr>\n",
              "    <tr>\n",
              "      <th>2</th>\n",
              "      <td>they also have daily specials and ice cream wh...</td>\n",
              "      <td>1</td>\n",
              "    </tr>\n",
              "    <tr>\n",
              "      <th>3</th>\n",
              "      <td>it 's a good toasted hoagie .</td>\n",
              "      <td>1</td>\n",
              "    </tr>\n",
              "    <tr>\n",
              "      <th>4</th>\n",
              "      <td>the staff is friendly .</td>\n",
              "      <td>1</td>\n",
              "    </tr>\n",
              "  </tbody>\n",
              "</table>\n",
              "</div>\n",
              "      <button class=\"colab-df-convert\" onclick=\"convertToInteractive('df-25a2a2a6-60d9-4746-ba84-f3535ce10cd6')\"\n",
              "              title=\"Convert this dataframe to an interactive table.\"\n",
              "              style=\"display:none;\">\n",
              "        \n",
              "  <svg xmlns=\"http://www.w3.org/2000/svg\" height=\"24px\"viewBox=\"0 0 24 24\"\n",
              "       width=\"24px\">\n",
              "    <path d=\"M0 0h24v24H0V0z\" fill=\"none\"/>\n",
              "    <path d=\"M18.56 5.44l.94 2.06.94-2.06 2.06-.94-2.06-.94-.94-2.06-.94 2.06-2.06.94zm-11 1L8.5 8.5l.94-2.06 2.06-.94-2.06-.94L8.5 2.5l-.94 2.06-2.06.94zm10 10l.94 2.06.94-2.06 2.06-.94-2.06-.94-.94-2.06-.94 2.06-2.06.94z\"/><path d=\"M17.41 7.96l-1.37-1.37c-.4-.4-.92-.59-1.43-.59-.52 0-1.04.2-1.43.59L10.3 9.45l-7.72 7.72c-.78.78-.78 2.05 0 2.83L4 21.41c.39.39.9.59 1.41.59.51 0 1.02-.2 1.41-.59l7.78-7.78 2.81-2.81c.8-.78.8-2.07 0-2.86zM5.41 20L4 18.59l7.72-7.72 1.47 1.35L5.41 20z\"/>\n",
              "  </svg>\n",
              "      </button>\n",
              "      \n",
              "  <style>\n",
              "    .colab-df-container {\n",
              "      display:flex;\n",
              "      flex-wrap:wrap;\n",
              "      gap: 12px;\n",
              "    }\n",
              "\n",
              "    .colab-df-convert {\n",
              "      background-color: #E8F0FE;\n",
              "      border: none;\n",
              "      border-radius: 50%;\n",
              "      cursor: pointer;\n",
              "      display: none;\n",
              "      fill: #1967D2;\n",
              "      height: 32px;\n",
              "      padding: 0 0 0 0;\n",
              "      width: 32px;\n",
              "    }\n",
              "\n",
              "    .colab-df-convert:hover {\n",
              "      background-color: #E2EBFA;\n",
              "      box-shadow: 0px 1px 2px rgba(60, 64, 67, 0.3), 0px 1px 3px 1px rgba(60, 64, 67, 0.15);\n",
              "      fill: #174EA6;\n",
              "    }\n",
              "\n",
              "    [theme=dark] .colab-df-convert {\n",
              "      background-color: #3B4455;\n",
              "      fill: #D2E3FC;\n",
              "    }\n",
              "\n",
              "    [theme=dark] .colab-df-convert:hover {\n",
              "      background-color: #434B5C;\n",
              "      box-shadow: 0px 1px 3px 1px rgba(0, 0, 0, 0.15);\n",
              "      filter: drop-shadow(0px 1px 2px rgba(0, 0, 0, 0.3));\n",
              "      fill: #FFFFFF;\n",
              "    }\n",
              "  </style>\n",
              "\n",
              "      <script>\n",
              "        const buttonEl =\n",
              "          document.querySelector('#df-25a2a2a6-60d9-4746-ba84-f3535ce10cd6 button.colab-df-convert');\n",
              "        buttonEl.style.display =\n",
              "          google.colab.kernel.accessAllowed ? 'block' : 'none';\n",
              "\n",
              "        async function convertToInteractive(key) {\n",
              "          const element = document.querySelector('#df-25a2a2a6-60d9-4746-ba84-f3535ce10cd6');\n",
              "          const dataTable =\n",
              "            await google.colab.kernel.invokeFunction('convertToInteractive',\n",
              "                                                     [key], {});\n",
              "          if (!dataTable) return;\n",
              "\n",
              "          const docLinkHtml = 'Like what you see? Visit the ' +\n",
              "            '<a target=\"_blank\" href=https://colab.research.google.com/notebooks/data_table.ipynb>data table notebook</a>'\n",
              "            + ' to learn more about interactive tables.';\n",
              "          element.innerHTML = '';\n",
              "          dataTable['output_type'] = 'display_data';\n",
              "          await google.colab.output.renderOutput(dataTable, element);\n",
              "          const docLink = document.createElement('div');\n",
              "          docLink.innerHTML = docLinkHtml;\n",
              "          element.appendChild(docLink);\n",
              "        }\n",
              "      </script>\n",
              "    </div>\n",
              "  </div>\n",
              "  "
            ]
          },
          "metadata": {},
          "execution_count": 14
        }
      ]
    },
    {
      "cell_type": "code",
      "source": [
        "train_neg.head()"
      ],
      "metadata": {
        "colab": {
          "base_uri": "https://localhost:8080/",
          "height": 206
        },
        "id": "eKCyRuZPzRb1",
        "outputId": "f73904da-8e45-40d9-b1ed-50e483a982c2"
      },
      "execution_count": 15,
      "outputs": [
        {
          "output_type": "execute_result",
          "data": {
            "text/plain": [
              "                                              review  label\n",
              "0                             i was sadly mistaken .      0\n",
              "1  so on to the hoagies , the italian is general ...      0\n",
              "2       minimal meat and a ton of shredded lettuce .      0\n",
              "3  nothing really special & not worthy of the $ _...      0\n",
              "4      second , the steak hoagie , it is atrocious .      0"
            ],
            "text/html": [
              "\n",
              "  <div id=\"df-4b200968-1ba9-4b5f-9b4c-c7cec213654a\">\n",
              "    <div class=\"colab-df-container\">\n",
              "      <div>\n",
              "<style scoped>\n",
              "    .dataframe tbody tr th:only-of-type {\n",
              "        vertical-align: middle;\n",
              "    }\n",
              "\n",
              "    .dataframe tbody tr th {\n",
              "        vertical-align: top;\n",
              "    }\n",
              "\n",
              "    .dataframe thead th {\n",
              "        text-align: right;\n",
              "    }\n",
              "</style>\n",
              "<table border=\"1\" class=\"dataframe\">\n",
              "  <thead>\n",
              "    <tr style=\"text-align: right;\">\n",
              "      <th></th>\n",
              "      <th>review</th>\n",
              "      <th>label</th>\n",
              "    </tr>\n",
              "  </thead>\n",
              "  <tbody>\n",
              "    <tr>\n",
              "      <th>0</th>\n",
              "      <td>i was sadly mistaken .</td>\n",
              "      <td>0</td>\n",
              "    </tr>\n",
              "    <tr>\n",
              "      <th>1</th>\n",
              "      <td>so on to the hoagies , the italian is general ...</td>\n",
              "      <td>0</td>\n",
              "    </tr>\n",
              "    <tr>\n",
              "      <th>2</th>\n",
              "      <td>minimal meat and a ton of shredded lettuce .</td>\n",
              "      <td>0</td>\n",
              "    </tr>\n",
              "    <tr>\n",
              "      <th>3</th>\n",
              "      <td>nothing really special &amp; not worthy of the $ _...</td>\n",
              "      <td>0</td>\n",
              "    </tr>\n",
              "    <tr>\n",
              "      <th>4</th>\n",
              "      <td>second , the steak hoagie , it is atrocious .</td>\n",
              "      <td>0</td>\n",
              "    </tr>\n",
              "  </tbody>\n",
              "</table>\n",
              "</div>\n",
              "      <button class=\"colab-df-convert\" onclick=\"convertToInteractive('df-4b200968-1ba9-4b5f-9b4c-c7cec213654a')\"\n",
              "              title=\"Convert this dataframe to an interactive table.\"\n",
              "              style=\"display:none;\">\n",
              "        \n",
              "  <svg xmlns=\"http://www.w3.org/2000/svg\" height=\"24px\"viewBox=\"0 0 24 24\"\n",
              "       width=\"24px\">\n",
              "    <path d=\"M0 0h24v24H0V0z\" fill=\"none\"/>\n",
              "    <path d=\"M18.56 5.44l.94 2.06.94-2.06 2.06-.94-2.06-.94-.94-2.06-.94 2.06-2.06.94zm-11 1L8.5 8.5l.94-2.06 2.06-.94-2.06-.94L8.5 2.5l-.94 2.06-2.06.94zm10 10l.94 2.06.94-2.06 2.06-.94-2.06-.94-.94-2.06-.94 2.06-2.06.94z\"/><path d=\"M17.41 7.96l-1.37-1.37c-.4-.4-.92-.59-1.43-.59-.52 0-1.04.2-1.43.59L10.3 9.45l-7.72 7.72c-.78.78-.78 2.05 0 2.83L4 21.41c.39.39.9.59 1.41.59.51 0 1.02-.2 1.41-.59l7.78-7.78 2.81-2.81c.8-.78.8-2.07 0-2.86zM5.41 20L4 18.59l7.72-7.72 1.47 1.35L5.41 20z\"/>\n",
              "  </svg>\n",
              "      </button>\n",
              "      \n",
              "  <style>\n",
              "    .colab-df-container {\n",
              "      display:flex;\n",
              "      flex-wrap:wrap;\n",
              "      gap: 12px;\n",
              "    }\n",
              "\n",
              "    .colab-df-convert {\n",
              "      background-color: #E8F0FE;\n",
              "      border: none;\n",
              "      border-radius: 50%;\n",
              "      cursor: pointer;\n",
              "      display: none;\n",
              "      fill: #1967D2;\n",
              "      height: 32px;\n",
              "      padding: 0 0 0 0;\n",
              "      width: 32px;\n",
              "    }\n",
              "\n",
              "    .colab-df-convert:hover {\n",
              "      background-color: #E2EBFA;\n",
              "      box-shadow: 0px 1px 2px rgba(60, 64, 67, 0.3), 0px 1px 3px 1px rgba(60, 64, 67, 0.15);\n",
              "      fill: #174EA6;\n",
              "    }\n",
              "\n",
              "    [theme=dark] .colab-df-convert {\n",
              "      background-color: #3B4455;\n",
              "      fill: #D2E3FC;\n",
              "    }\n",
              "\n",
              "    [theme=dark] .colab-df-convert:hover {\n",
              "      background-color: #434B5C;\n",
              "      box-shadow: 0px 1px 3px 1px rgba(0, 0, 0, 0.15);\n",
              "      filter: drop-shadow(0px 1px 2px rgba(0, 0, 0, 0.3));\n",
              "      fill: #FFFFFF;\n",
              "    }\n",
              "  </style>\n",
              "\n",
              "      <script>\n",
              "        const buttonEl =\n",
              "          document.querySelector('#df-4b200968-1ba9-4b5f-9b4c-c7cec213654a button.colab-df-convert');\n",
              "        buttonEl.style.display =\n",
              "          google.colab.kernel.accessAllowed ? 'block' : 'none';\n",
              "\n",
              "        async function convertToInteractive(key) {\n",
              "          const element = document.querySelector('#df-4b200968-1ba9-4b5f-9b4c-c7cec213654a');\n",
              "          const dataTable =\n",
              "            await google.colab.kernel.invokeFunction('convertToInteractive',\n",
              "                                                     [key], {});\n",
              "          if (!dataTable) return;\n",
              "\n",
              "          const docLinkHtml = 'Like what you see? Visit the ' +\n",
              "            '<a target=\"_blank\" href=https://colab.research.google.com/notebooks/data_table.ipynb>data table notebook</a>'\n",
              "            + ' to learn more about interactive tables.';\n",
              "          element.innerHTML = '';\n",
              "          dataTable['output_type'] = 'display_data';\n",
              "          await google.colab.output.renderOutput(dataTable, element);\n",
              "          const docLink = document.createElement('div');\n",
              "          docLink.innerHTML = docLinkHtml;\n",
              "          element.appendChild(docLink);\n",
              "        }\n",
              "      </script>\n",
              "    </div>\n",
              "  </div>\n",
              "  "
            ]
          },
          "metadata": {},
          "execution_count": 15
        }
      ]
    },
    {
      "cell_type": "code",
      "source": [
        "dev_pos.head()"
      ],
      "metadata": {
        "colab": {
          "base_uri": "https://localhost:8080/",
          "height": 206
        },
        "id": "bZECGqu1zSxe",
        "outputId": "c7b9a8e0-8fcf-42b0-a05b-4ca1b1007985"
      },
      "execution_count": 16,
      "outputs": [
        {
          "output_type": "execute_result",
          "data": {
            "text/plain": [
              "                                              review  label\n",
              "0  these donuts have the perfect texture and taste .      1\n",
              "1                          good food for the price .      1\n",
              "2  a little dirty on the inside , but wonderful p...      1\n",
              "3  i always order it when i go there and it is al...      1\n",
              "4  the rest of the food there is good also and no...      1"
            ],
            "text/html": [
              "\n",
              "  <div id=\"df-a5d34dce-dd21-436b-b27e-ca13cb23b5b5\">\n",
              "    <div class=\"colab-df-container\">\n",
              "      <div>\n",
              "<style scoped>\n",
              "    .dataframe tbody tr th:only-of-type {\n",
              "        vertical-align: middle;\n",
              "    }\n",
              "\n",
              "    .dataframe tbody tr th {\n",
              "        vertical-align: top;\n",
              "    }\n",
              "\n",
              "    .dataframe thead th {\n",
              "        text-align: right;\n",
              "    }\n",
              "</style>\n",
              "<table border=\"1\" class=\"dataframe\">\n",
              "  <thead>\n",
              "    <tr style=\"text-align: right;\">\n",
              "      <th></th>\n",
              "      <th>review</th>\n",
              "      <th>label</th>\n",
              "    </tr>\n",
              "  </thead>\n",
              "  <tbody>\n",
              "    <tr>\n",
              "      <th>0</th>\n",
              "      <td>these donuts have the perfect texture and taste .</td>\n",
              "      <td>1</td>\n",
              "    </tr>\n",
              "    <tr>\n",
              "      <th>1</th>\n",
              "      <td>good food for the price .</td>\n",
              "      <td>1</td>\n",
              "    </tr>\n",
              "    <tr>\n",
              "      <th>2</th>\n",
              "      <td>a little dirty on the inside , but wonderful p...</td>\n",
              "      <td>1</td>\n",
              "    </tr>\n",
              "    <tr>\n",
              "      <th>3</th>\n",
              "      <td>i always order it when i go there and it is al...</td>\n",
              "      <td>1</td>\n",
              "    </tr>\n",
              "    <tr>\n",
              "      <th>4</th>\n",
              "      <td>the rest of the food there is good also and no...</td>\n",
              "      <td>1</td>\n",
              "    </tr>\n",
              "  </tbody>\n",
              "</table>\n",
              "</div>\n",
              "      <button class=\"colab-df-convert\" onclick=\"convertToInteractive('df-a5d34dce-dd21-436b-b27e-ca13cb23b5b5')\"\n",
              "              title=\"Convert this dataframe to an interactive table.\"\n",
              "              style=\"display:none;\">\n",
              "        \n",
              "  <svg xmlns=\"http://www.w3.org/2000/svg\" height=\"24px\"viewBox=\"0 0 24 24\"\n",
              "       width=\"24px\">\n",
              "    <path d=\"M0 0h24v24H0V0z\" fill=\"none\"/>\n",
              "    <path d=\"M18.56 5.44l.94 2.06.94-2.06 2.06-.94-2.06-.94-.94-2.06-.94 2.06-2.06.94zm-11 1L8.5 8.5l.94-2.06 2.06-.94-2.06-.94L8.5 2.5l-.94 2.06-2.06.94zm10 10l.94 2.06.94-2.06 2.06-.94-2.06-.94-.94-2.06-.94 2.06-2.06.94z\"/><path d=\"M17.41 7.96l-1.37-1.37c-.4-.4-.92-.59-1.43-.59-.52 0-1.04.2-1.43.59L10.3 9.45l-7.72 7.72c-.78.78-.78 2.05 0 2.83L4 21.41c.39.39.9.59 1.41.59.51 0 1.02-.2 1.41-.59l7.78-7.78 2.81-2.81c.8-.78.8-2.07 0-2.86zM5.41 20L4 18.59l7.72-7.72 1.47 1.35L5.41 20z\"/>\n",
              "  </svg>\n",
              "      </button>\n",
              "      \n",
              "  <style>\n",
              "    .colab-df-container {\n",
              "      display:flex;\n",
              "      flex-wrap:wrap;\n",
              "      gap: 12px;\n",
              "    }\n",
              "\n",
              "    .colab-df-convert {\n",
              "      background-color: #E8F0FE;\n",
              "      border: none;\n",
              "      border-radius: 50%;\n",
              "      cursor: pointer;\n",
              "      display: none;\n",
              "      fill: #1967D2;\n",
              "      height: 32px;\n",
              "      padding: 0 0 0 0;\n",
              "      width: 32px;\n",
              "    }\n",
              "\n",
              "    .colab-df-convert:hover {\n",
              "      background-color: #E2EBFA;\n",
              "      box-shadow: 0px 1px 2px rgba(60, 64, 67, 0.3), 0px 1px 3px 1px rgba(60, 64, 67, 0.15);\n",
              "      fill: #174EA6;\n",
              "    }\n",
              "\n",
              "    [theme=dark] .colab-df-convert {\n",
              "      background-color: #3B4455;\n",
              "      fill: #D2E3FC;\n",
              "    }\n",
              "\n",
              "    [theme=dark] .colab-df-convert:hover {\n",
              "      background-color: #434B5C;\n",
              "      box-shadow: 0px 1px 3px 1px rgba(0, 0, 0, 0.15);\n",
              "      filter: drop-shadow(0px 1px 2px rgba(0, 0, 0, 0.3));\n",
              "      fill: #FFFFFF;\n",
              "    }\n",
              "  </style>\n",
              "\n",
              "      <script>\n",
              "        const buttonEl =\n",
              "          document.querySelector('#df-a5d34dce-dd21-436b-b27e-ca13cb23b5b5 button.colab-df-convert');\n",
              "        buttonEl.style.display =\n",
              "          google.colab.kernel.accessAllowed ? 'block' : 'none';\n",
              "\n",
              "        async function convertToInteractive(key) {\n",
              "          const element = document.querySelector('#df-a5d34dce-dd21-436b-b27e-ca13cb23b5b5');\n",
              "          const dataTable =\n",
              "            await google.colab.kernel.invokeFunction('convertToInteractive',\n",
              "                                                     [key], {});\n",
              "          if (!dataTable) return;\n",
              "\n",
              "          const docLinkHtml = 'Like what you see? Visit the ' +\n",
              "            '<a target=\"_blank\" href=https://colab.research.google.com/notebooks/data_table.ipynb>data table notebook</a>'\n",
              "            + ' to learn more about interactive tables.';\n",
              "          element.innerHTML = '';\n",
              "          dataTable['output_type'] = 'display_data';\n",
              "          await google.colab.output.renderOutput(dataTable, element);\n",
              "          const docLink = document.createElement('div');\n",
              "          docLink.innerHTML = docLinkHtml;\n",
              "          element.appendChild(docLink);\n",
              "        }\n",
              "      </script>\n",
              "    </div>\n",
              "  </div>\n",
              "  "
            ]
          },
          "metadata": {},
          "execution_count": 16
        }
      ]
    },
    {
      "cell_type": "code",
      "source": [
        "dev_neg.head()"
      ],
      "metadata": {
        "colab": {
          "base_uri": "https://localhost:8080/",
          "height": 206
        },
        "id": "HUJVx2qbzUVb",
        "outputId": "596a0a37-c545-4ea9-bc10-964c52be41ed"
      },
      "execution_count": 17,
      "outputs": [
        {
          "output_type": "execute_result",
          "data": {
            "text/plain": [
              "                                              review  label\n",
              "0  windows have n't been cleaned in years you can...      0\n",
              "1                              waitresses are slow .      0\n",
              "2                   just a mess avoid at all costs !      0\n",
              "3                                              bad !      0\n",
              "4  now pizza is beyond awful and wings are down t...      0"
            ],
            "text/html": [
              "\n",
              "  <div id=\"df-d95d16ff-b631-4b39-a2f4-d61c002d24bd\">\n",
              "    <div class=\"colab-df-container\">\n",
              "      <div>\n",
              "<style scoped>\n",
              "    .dataframe tbody tr th:only-of-type {\n",
              "        vertical-align: middle;\n",
              "    }\n",
              "\n",
              "    .dataframe tbody tr th {\n",
              "        vertical-align: top;\n",
              "    }\n",
              "\n",
              "    .dataframe thead th {\n",
              "        text-align: right;\n",
              "    }\n",
              "</style>\n",
              "<table border=\"1\" class=\"dataframe\">\n",
              "  <thead>\n",
              "    <tr style=\"text-align: right;\">\n",
              "      <th></th>\n",
              "      <th>review</th>\n",
              "      <th>label</th>\n",
              "    </tr>\n",
              "  </thead>\n",
              "  <tbody>\n",
              "    <tr>\n",
              "      <th>0</th>\n",
              "      <td>windows have n't been cleaned in years you can...</td>\n",
              "      <td>0</td>\n",
              "    </tr>\n",
              "    <tr>\n",
              "      <th>1</th>\n",
              "      <td>waitresses are slow .</td>\n",
              "      <td>0</td>\n",
              "    </tr>\n",
              "    <tr>\n",
              "      <th>2</th>\n",
              "      <td>just a mess avoid at all costs !</td>\n",
              "      <td>0</td>\n",
              "    </tr>\n",
              "    <tr>\n",
              "      <th>3</th>\n",
              "      <td>bad !</td>\n",
              "      <td>0</td>\n",
              "    </tr>\n",
              "    <tr>\n",
              "      <th>4</th>\n",
              "      <td>now pizza is beyond awful and wings are down t...</td>\n",
              "      <td>0</td>\n",
              "    </tr>\n",
              "  </tbody>\n",
              "</table>\n",
              "</div>\n",
              "      <button class=\"colab-df-convert\" onclick=\"convertToInteractive('df-d95d16ff-b631-4b39-a2f4-d61c002d24bd')\"\n",
              "              title=\"Convert this dataframe to an interactive table.\"\n",
              "              style=\"display:none;\">\n",
              "        \n",
              "  <svg xmlns=\"http://www.w3.org/2000/svg\" height=\"24px\"viewBox=\"0 0 24 24\"\n",
              "       width=\"24px\">\n",
              "    <path d=\"M0 0h24v24H0V0z\" fill=\"none\"/>\n",
              "    <path d=\"M18.56 5.44l.94 2.06.94-2.06 2.06-.94-2.06-.94-.94-2.06-.94 2.06-2.06.94zm-11 1L8.5 8.5l.94-2.06 2.06-.94-2.06-.94L8.5 2.5l-.94 2.06-2.06.94zm10 10l.94 2.06.94-2.06 2.06-.94-2.06-.94-.94-2.06-.94 2.06-2.06.94z\"/><path d=\"M17.41 7.96l-1.37-1.37c-.4-.4-.92-.59-1.43-.59-.52 0-1.04.2-1.43.59L10.3 9.45l-7.72 7.72c-.78.78-.78 2.05 0 2.83L4 21.41c.39.39.9.59 1.41.59.51 0 1.02-.2 1.41-.59l7.78-7.78 2.81-2.81c.8-.78.8-2.07 0-2.86zM5.41 20L4 18.59l7.72-7.72 1.47 1.35L5.41 20z\"/>\n",
              "  </svg>\n",
              "      </button>\n",
              "      \n",
              "  <style>\n",
              "    .colab-df-container {\n",
              "      display:flex;\n",
              "      flex-wrap:wrap;\n",
              "      gap: 12px;\n",
              "    }\n",
              "\n",
              "    .colab-df-convert {\n",
              "      background-color: #E8F0FE;\n",
              "      border: none;\n",
              "      border-radius: 50%;\n",
              "      cursor: pointer;\n",
              "      display: none;\n",
              "      fill: #1967D2;\n",
              "      height: 32px;\n",
              "      padding: 0 0 0 0;\n",
              "      width: 32px;\n",
              "    }\n",
              "\n",
              "    .colab-df-convert:hover {\n",
              "      background-color: #E2EBFA;\n",
              "      box-shadow: 0px 1px 2px rgba(60, 64, 67, 0.3), 0px 1px 3px 1px rgba(60, 64, 67, 0.15);\n",
              "      fill: #174EA6;\n",
              "    }\n",
              "\n",
              "    [theme=dark] .colab-df-convert {\n",
              "      background-color: #3B4455;\n",
              "      fill: #D2E3FC;\n",
              "    }\n",
              "\n",
              "    [theme=dark] .colab-df-convert:hover {\n",
              "      background-color: #434B5C;\n",
              "      box-shadow: 0px 1px 3px 1px rgba(0, 0, 0, 0.15);\n",
              "      filter: drop-shadow(0px 1px 2px rgba(0, 0, 0, 0.3));\n",
              "      fill: #FFFFFF;\n",
              "    }\n",
              "  </style>\n",
              "\n",
              "      <script>\n",
              "        const buttonEl =\n",
              "          document.querySelector('#df-d95d16ff-b631-4b39-a2f4-d61c002d24bd button.colab-df-convert');\n",
              "        buttonEl.style.display =\n",
              "          google.colab.kernel.accessAllowed ? 'block' : 'none';\n",
              "\n",
              "        async function convertToInteractive(key) {\n",
              "          const element = document.querySelector('#df-d95d16ff-b631-4b39-a2f4-d61c002d24bd');\n",
              "          const dataTable =\n",
              "            await google.colab.kernel.invokeFunction('convertToInteractive',\n",
              "                                                     [key], {});\n",
              "          if (!dataTable) return;\n",
              "\n",
              "          const docLinkHtml = 'Like what you see? Visit the ' +\n",
              "            '<a target=\"_blank\" href=https://colab.research.google.com/notebooks/data_table.ipynb>data table notebook</a>'\n",
              "            + ' to learn more about interactive tables.';\n",
              "          element.innerHTML = '';\n",
              "          dataTable['output_type'] = 'display_data';\n",
              "          await google.colab.output.renderOutput(dataTable, element);\n",
              "          const docLink = document.createElement('div');\n",
              "          docLink.innerHTML = docLinkHtml;\n",
              "          element.appendChild(docLink);\n",
              "        }\n",
              "      </script>\n",
              "    </div>\n",
              "  </div>\n",
              "  "
            ]
          },
          "metadata": {},
          "execution_count": 17
        }
      ]
    },
    {
      "cell_type": "code",
      "execution_count": 18,
      "metadata": {
        "colab": {
          "base_uri": "https://localhost:8080/",
          "height": 341
        },
        "id": "i7pdFRvHMglY",
        "outputId": "1943300b-35c7-44b8-8bd1-fff7c1eb40b3"
      },
      "outputs": [
        {
          "output_type": "display_data",
          "data": {
            "text/plain": [
              "<Figure size 864x360 with 2 Axes>"
            ],
            "image/png": "[encoded data removed]"
          },
          "metadata": {
            "needs_background": "light"
          }
        }
      ],
      "source": [
        "fig, ax = plt.subplots(ncols = 2, figsize = (12, 5), constrained_layout = True)\n",
        "\n",
        "g1 = sns.barplot(x = np.array(['train_pos', 'train_neg']),\n",
        "                y = np.array([len(train_pos), len(train_neg)]),\n",
        "                alpha = .4, ax = ax[0])\n",
        "g1.set_title(\"train labels count\")\n",
        "\n",
        "g2 = sns.barplot(x = np.array(['dev_pos', 'dev_neg']),\n",
        "                y = np.array([len(dev_pos), len(dev_neg)]),\n",
        "                alpha = .4, ax = ax[1])\n",
        "g2.set_title(\"dev labels count\")\n",
        "\n",
        "fig.suptitle('labels count', fontsize=20)\n",
        "plt.show()"
      ]
    },
    {
      "cell_type": "markdown",
      "source": [
        "2-2. train, validation용으로 데이터셋 합치기 + 인덱스 reset하여 인덱스가 고유값갖도록 하기"
      ],
      "metadata": {
        "id": "64W9QYC6y_Pf"
      }
    },
    {
      "cell_type": "code",
      "source": [
        "#train, validation용으로 합치고 인덱스 새로 맞춰주기\n",
        "train_data=pd.concat([train_pos, train_neg])\n",
        "dev_data=pd.concat([dev_pos, dev_neg])\n",
        "\n",
        "train_data=train_data.reset_index(drop=True)\n",
        "dev_data=dev_data.reset_index(drop=True)"
      ],
      "metadata": {
        "id": "SrlhhojvzA1Z"
      },
      "execution_count": 19,
      "outputs": []
    },
    {
      "cell_type": "code",
      "source": [
        "train_data"
      ],
      "metadata": {
        "colab": {
          "base_uri": "https://localhost:8080/",
          "height": 423
        },
        "id": "usSkWWOOzWsL",
        "outputId": "db70f6fb-da62-4bdf-9186-395cdd7082ad"
      },
      "execution_count": 20,
      "outputs": [
        {
          "output_type": "execute_result",
          "data": {
            "text/plain": [
              "                                                   review  label\n",
              "0                                        excellent food .      1\n",
              "1                               superb customer service .      1\n",
              "2       they also have daily specials and ice cream wh...      1\n",
              "3                           it 's a good toasted hoagie .      1\n",
              "4                                 the staff is friendly .      1\n",
              "...                                                   ...    ...\n",
              "443254                                 this place sucks .      0\n",
              "443255     does n't stop by to see if you need anything .      0\n",
              "443256                                 food is terrible .      0\n",
              "443257                                 service horrible .      0\n",
              "443258                 the worst place i 've ever eaten !      0\n",
              "\n",
              "[443259 rows x 2 columns]"
            ],
            "text/html": [
              "\n",
              "  <div id=\"df-691b8ef6-a5ea-4487-a53d-a057a7abae0f\">\n",
              "    <div class=\"colab-df-container\">\n",
              "      <div>\n",
              "<style scoped>\n",
              "    .dataframe tbody tr th:only-of-type {\n",
              "        vertical-align: middle;\n",
              "    }\n",
              "\n",
              "    .dataframe tbody tr th {\n",
              "        vertical-align: top;\n",
              "    }\n",
              "\n",
              "    .dataframe thead th {\n",
              "        text-align: right;\n",
              "    }\n",
              "</style>\n",
              "<table border=\"1\" class=\"dataframe\">\n",
              "  <thead>\n",
              "    <tr style=\"text-align: right;\">\n",
              "      <th></th>\n",
              "      <th>review</th>\n",
              "      <th>label</th>\n",
              "    </tr>\n",
              "  </thead>\n",
              "  <tbody>\n",
              "    <tr>\n",
              "      <th>0</th>\n",
              "      <td>excellent food .</td>\n",
              "      <td>1</td>\n",
              "    </tr>\n",
              "    <tr>\n",
              "      <th>1</th>\n",
              "      <td>superb customer service .</td>\n",
              "      <td>1</td>\n",
              "    </tr>\n",
              "    <tr>\n",
              "      <th>2</th>\n",
              "      <td>they also have daily specials and ice cream wh...</td>\n",
              "      <td>1</td>\n",
              "    </tr>\n",
              "    <tr>\n",
              "      <th>3</th>\n",
              "      <td>it 's a good toasted hoagie .</td>\n",
              "      <td>1</td>\n",
              "    </tr>\n",
              "    <tr>\n",
              "      <th>4</th>\n",
              "      <td>the staff is friendly .</td>\n",
              "      <td>1</td>\n",
              "    </tr>\n",
              "    <tr>\n",
              "      <th>...</th>\n",
              "      <td>...</td>\n",
              "      <td>...</td>\n",
              "    </tr>\n",
              "    <tr>\n",
              "      <th>443254</th>\n",
              "      <td>this place sucks .</td>\n",
              "      <td>0</td>\n",
              "    </tr>\n",
              "    <tr>\n",
              "      <th>443255</th>\n",
              "      <td>does n't stop by to see if you need anything .</td>\n",
              "      <td>0</td>\n",
              "    </tr>\n",
              "    <tr>\n",
              "      <th>443256</th>\n",
              "      <td>food is terrible .</td>\n",
              "      <td>0</td>\n",
              "    </tr>\n",
              "    <tr>\n",
              "      <th>443257</th>\n",
              "      <td>service horrible .</td>\n",
              "      <td>0</td>\n",
              "    </tr>\n",
              "    <tr>\n",
              "      <th>443258</th>\n",
              "      <td>the worst place i 've ever eaten !</td>\n",
              "      <td>0</td>\n",
              "    </tr>\n",
              "  </tbody>\n",
              "</table>\n",
              "<p>443259 rows × 2 columns</p>\n",
              "</div>\n",
              "      <button class=\"colab-df-convert\" onclick=\"convertToInteractive('df-691b8ef6-a5ea-4487-a53d-a057a7abae0f')\"\n",
              "              title=\"Convert this dataframe to an interactive table.\"\n",
              "              style=\"display:none;\">\n",
              "        \n",
              "  <svg xmlns=\"http://www.w3.org/2000/svg\" height=\"24px\"viewBox=\"0 0 24 24\"\n",
              "       width=\"24px\">\n",
              "    <path d=\"M0 0h24v24H0V0z\" fill=\"none\"/>\n",
              "    <path d=\"M18.56 5.44l.94 2.06.94-2.06 2.06-.94-2.06-.94-.94-2.06-.94 2.06-2.06.94zm-11 1L8.5 8.5l.94-2.06 2.06-.94-2.06-.94L8.5 2.5l-.94 2.06-2.06.94zm10 10l.94 2.06.94-2.06 2.06-.94-2.06-.94-.94-2.06-.94 2.06-2.06.94z\"/><path d=\"M17.41 7.96l-1.37-1.37c-.4-.4-.92-.59-1.43-.59-.52 0-1.04.2-1.43.59L10.3 9.45l-7.72 7.72c-.78.78-.78 2.05 0 2.83L4 21.41c.39.39.9.59 1.41.59.51 0 1.02-.2 1.41-.59l7.78-7.78 2.81-2.81c.8-.78.8-2.07 0-2.86zM5.41 20L4 18.59l7.72-7.72 1.47 1.35L5.41 20z\"/>\n",
              "  </svg>\n",
              "      </button>\n",
              "      \n",
              "  <style>\n",
              "    .colab-df-container {\n",
              "      display:flex;\n",
              "      flex-wrap:wrap;\n",
              "      gap: 12px;\n",
              "    }\n",
              "\n",
              "    .colab-df-convert {\n",
              "      background-color: #E8F0FE;\n",
              "      border: none;\n",
              "      border-radius: 50%;\n",
              "      cursor: pointer;\n",
              "      display: none;\n",
              "      fill: #1967D2;\n",
              "      height: 32px;\n",
              "      padding: 0 0 0 0;\n",
              "      width: 32px;\n",
              "    }\n",
              "\n",
              "    .colab-df-convert:hover {\n",
              "      background-color: #E2EBFA;\n",
              "      box-shadow: 0px 1px 2px rgba(60, 64, 67, 0.3), 0px 1px 3px 1px rgba(60, 64, 67, 0.15);\n",
              "      fill: #174EA6;\n",
              "    }\n",
              "\n",
              "    [theme=dark] .colab-df-convert {\n",
              "      background-color: #3B4455;\n",
              "      fill: #D2E3FC;\n",
              "    }\n",
              "\n",
              "    [theme=dark] .colab-df-convert:hover {\n",
              "      background-color: #434B5C;\n",
              "      box-shadow: 0px 1px 3px 1px rgba(0, 0, 0, 0.15);\n",
              "      filter: drop-shadow(0px 1px 2px rgba(0, 0, 0, 0.3));\n",
              "      fill: #FFFFFF;\n",
              "    }\n",
              "  </style>\n",
              "\n",
              "      <script>\n",
              "        const buttonEl =\n",
              "          document.querySelector('#df-691b8ef6-a5ea-4487-a53d-a057a7abae0f button.colab-df-convert');\n",
              "        buttonEl.style.display =\n",
              "          google.colab.kernel.accessAllowed ? 'block' : 'none';\n",
              "\n",
              "        async function convertToInteractive(key) {\n",
              "          const element = document.querySelector('#df-691b8ef6-a5ea-4487-a53d-a057a7abae0f');\n",
              "          const dataTable =\n",
              "            await google.colab.kernel.invokeFunction('convertToInteractive',\n",
              "                                                     [key], {});\n",
              "          if (!dataTable) return;\n",
              "\n",
              "          const docLinkHtml = 'Like what you see? Visit the ' +\n",
              "            '<a target=\"_blank\" href=https://colab.research.google.com/notebooks/data_table.ipynb>data table notebook</a>'\n",
              "            + ' to learn more about interactive tables.';\n",
              "          element.innerHTML = '';\n",
              "          dataTable['output_type'] = 'display_data';\n",
              "          await google.colab.output.renderOutput(dataTable, element);\n",
              "          const docLink = document.createElement('div');\n",
              "          docLink.innerHTML = docLinkHtml;\n",
              "          element.appendChild(docLink);\n",
              "        }\n",
              "      </script>\n",
              "    </div>\n",
              "  </div>\n",
              "  "
            ]
          },
          "metadata": {},
          "execution_count": 20
        }
      ]
    },
    {
      "cell_type": "code",
      "source": [
        "dev_data"
      ],
      "metadata": {
        "colab": {
          "base_uri": "https://localhost:8080/",
          "height": 423
        },
        "id": "hsdzYS_bzXe0",
        "outputId": "fa08d7f9-5dc5-4d0b-bb15-ce54027e1773"
      },
      "execution_count": 21,
      "outputs": [
        {
          "output_type": "execute_result",
          "data": {
            "text/plain": [
              "                                                 review  label\n",
              "0     these donuts have the perfect texture and taste .      1\n",
              "1                             good food for the price .      1\n",
              "2     a little dirty on the inside , but wonderful p...      1\n",
              "3     i always order it when i go there and it is al...      1\n",
              "4     the rest of the food there is good also and no...      1\n",
              "...                                                 ...    ...\n",
              "3995  i am sad to see how much this place has gone d...      0\n",
              "3996                   the food here is n't very good .      0\n",
              "3997            it has n't been for quite a few years .      0\n",
              "3998  the service the last time i went was just terr...      0\n",
              "3999  i guess i need to spell that out more clearly ...      0\n",
              "\n",
              "[4000 rows x 2 columns]"
            ],
            "text/html": [
              "\n",
              "  <div id=\"df-b3edfe5b-301c-42e9-949f-45acf22dcaf8\">\n",
              "    <div class=\"colab-df-container\">\n",
              "      <div>\n",
              "<style scoped>\n",
              "    .dataframe tbody tr th:only-of-type {\n",
              "        vertical-align: middle;\n",
              "    }\n",
              "\n",
              "    .dataframe tbody tr th {\n",
              "        vertical-align: top;\n",
              "    }\n",
              "\n",
              "    .dataframe thead th {\n",
              "        text-align: right;\n",
              "    }\n",
              "</style>\n",
              "<table border=\"1\" class=\"dataframe\">\n",
              "  <thead>\n",
              "    <tr style=\"text-align: right;\">\n",
              "      <th></th>\n",
              "      <th>review</th>\n",
              "      <th>label</th>\n",
              "    </tr>\n",
              "  </thead>\n",
              "  <tbody>\n",
              "    <tr>\n",
              "      <th>0</th>\n",
              "      <td>these donuts have the perfect texture and taste .</td>\n",
              "      <td>1</td>\n",
              "    </tr>\n",
              "    <tr>\n",
              "      <th>1</th>\n",
              "      <td>good food for the price .</td>\n",
              "      <td>1</td>\n",
              "    </tr>\n",
              "    <tr>\n",
              "      <th>2</th>\n",
              "      <td>a little dirty on the inside , but wonderful p...</td>\n",
              "      <td>1</td>\n",
              "    </tr>\n",
              "    <tr>\n",
              "      <th>3</th>\n",
              "      <td>i always order it when i go there and it is al...</td>\n",
              "      <td>1</td>\n",
              "    </tr>\n",
              "    <tr>\n",
              "      <th>4</th>\n",
              "      <td>the rest of the food there is good also and no...</td>\n",
              "      <td>1</td>\n",
              "    </tr>\n",
              "    <tr>\n",
              "      <th>...</th>\n",
              "      <td>...</td>\n",
              "      <td>...</td>\n",
              "    </tr>\n",
              "    <tr>\n",
              "      <th>3995</th>\n",
              "      <td>i am sad to see how much this place has gone d...</td>\n",
              "      <td>0</td>\n",
              "    </tr>\n",
              "    <tr>\n",
              "      <th>3996</th>\n",
              "      <td>the food here is n't very good .</td>\n",
              "      <td>0</td>\n",
              "    </tr>\n",
              "    <tr>\n",
              "      <th>3997</th>\n",
              "      <td>it has n't been for quite a few years .</td>\n",
              "      <td>0</td>\n",
              "    </tr>\n",
              "    <tr>\n",
              "      <th>3998</th>\n",
              "      <td>the service the last time i went was just terr...</td>\n",
              "      <td>0</td>\n",
              "    </tr>\n",
              "    <tr>\n",
              "      <th>3999</th>\n",
              "      <td>i guess i need to spell that out more clearly ...</td>\n",
              "      <td>0</td>\n",
              "    </tr>\n",
              "  </tbody>\n",
              "</table>\n",
              "<p>4000 rows × 2 columns</p>\n",
              "</div>\n",
              "      <button class=\"colab-df-convert\" onclick=\"convertToInteractive('df-b3edfe5b-301c-42e9-949f-45acf22dcaf8')\"\n",
              "              title=\"Convert this dataframe to an interactive table.\"\n",
              "              style=\"display:none;\">\n",
              "        \n",
              "  <svg xmlns=\"http://www.w3.org/2000/svg\" height=\"24px\"viewBox=\"0 0 24 24\"\n",
              "       width=\"24px\">\n",
              "    <path d=\"M0 0h24v24H0V0z\" fill=\"none\"/>\n",
              "    <path d=\"M18.56 5.44l.94 2.06.94-2.06 2.06-.94-2.06-.94-.94-2.06-.94 2.06-2.06.94zm-11 1L8.5 8.5l.94-2.06 2.06-.94-2.06-.94L8.5 2.5l-.94 2.06-2.06.94zm10 10l.94 2.06.94-2.06 2.06-.94-2.06-.94-.94-2.06-.94 2.06-2.06.94z\"/><path d=\"M17.41 7.96l-1.37-1.37c-.4-.4-.92-.59-1.43-.59-.52 0-1.04.2-1.43.59L10.3 9.45l-7.72 7.72c-.78.78-.78 2.05 0 2.83L4 21.41c.39.39.9.59 1.41.59.51 0 1.02-.2 1.41-.59l7.78-7.78 2.81-2.81c.8-.78.8-2.07 0-2.86zM5.41 20L4 18.59l7.72-7.72 1.47 1.35L5.41 20z\"/>\n",
              "  </svg>\n",
              "      </button>\n",
              "      \n",
              "  <style>\n",
              "    .colab-df-container {\n",
              "      display:flex;\n",
              "      flex-wrap:wrap;\n",
              "      gap: 12px;\n",
              "    }\n",
              "\n",
              "    .colab-df-convert {\n",
              "      background-color: #E8F0FE;\n",
              "      border: none;\n",
              "      border-radius: 50%;\n",
              "      cursor: pointer;\n",
              "      display: none;\n",
              "      fill: #1967D2;\n",
              "      height: 32px;\n",
              "      padding: 0 0 0 0;\n",
              "      width: 32px;\n",
              "    }\n",
              "\n",
              "    .colab-df-convert:hover {\n",
              "      background-color: #E2EBFA;\n",
              "      box-shadow: 0px 1px 2px rgba(60, 64, 67, 0.3), 0px 1px 3px 1px rgba(60, 64, 67, 0.15);\n",
              "      fill: #174EA6;\n",
              "    }\n",
              "\n",
              "    [theme=dark] .colab-df-convert {\n",
              "      background-color: #3B4455;\n",
              "      fill: #D2E3FC;\n",
              "    }\n",
              "\n",
              "    [theme=dark] .colab-df-convert:hover {\n",
              "      background-color: #434B5C;\n",
              "      box-shadow: 0px 1px 3px 1px rgba(0, 0, 0, 0.15);\n",
              "      filter: drop-shadow(0px 1px 2px rgba(0, 0, 0, 0.3));\n",
              "      fill: #FFFFFF;\n",
              "    }\n",
              "  </style>\n",
              "\n",
              "      <script>\n",
              "        const buttonEl =\n",
              "          document.querySelector('#df-b3edfe5b-301c-42e9-949f-45acf22dcaf8 button.colab-df-convert');\n",
              "        buttonEl.style.display =\n",
              "          google.colab.kernel.accessAllowed ? 'block' : 'none';\n",
              "\n",
              "        async function convertToInteractive(key) {\n",
              "          const element = document.querySelector('#df-b3edfe5b-301c-42e9-949f-45acf22dcaf8');\n",
              "          const dataTable =\n",
              "            await google.colab.kernel.invokeFunction('convertToInteractive',\n",
              "                                                     [key], {});\n",
              "          if (!dataTable) return;\n",
              "\n",
              "          const docLinkHtml = 'Like what you see? Visit the ' +\n",
              "            '<a target=\"_blank\" href=https://colab.research.google.com/notebooks/data_table.ipynb>data table notebook</a>'\n",
              "            + ' to learn more about interactive tables.';\n",
              "          element.innerHTML = '';\n",
              "          dataTable['output_type'] = 'display_data';\n",
              "          await google.colab.output.renderOutput(dataTable, element);\n",
              "          const docLink = document.createElement('div');\n",
              "          docLink.innerHTML = docLinkHtml;\n",
              "          element.appendChild(docLink);\n",
              "        }\n",
              "      </script>\n",
              "    </div>\n",
              "  </div>\n",
              "  "
            ]
          },
          "metadata": {},
          "execution_count": 21
        }
      ]
    },
    {
      "cell_type": "markdown",
      "source": [
        "2-3. tokenizer로 인코딩"
      ],
      "metadata": {
        "id": "h9D4RPIfzCXz"
      }
    },
    {
      "cell_type": "code",
      "source": [
        "#수치화하기\n",
        "def make_id(tokenizer,data):\n",
        "  id_file=[]\n",
        "  for sentence in data['review']:\n",
        "    id_file.append(tokenizer.encode(sentence))\n",
        "  return id_file"
      ],
      "metadata": {
        "id": "yn62NnTzzFJG"
      },
      "execution_count": 22,
      "outputs": []
    },
    {
      "cell_type": "code",
      "source": [
        "train_data_id=make_id(tokenizer, train_data)\n",
        "dev_data_id=make_id(tokenizer, dev_data)"
      ],
      "metadata": {
        "id": "i-ZFfUKEzGN7"
      },
      "execution_count": 23,
      "outputs": []
    },
    {
      "cell_type": "code",
      "source": [
        "train_data_id[:5]"
      ],
      "metadata": {
        "colab": {
          "base_uri": "https://localhost:8080/"
        },
        "id": "oX_Cjl2QzdXK",
        "outputId": "cd8bcb55-4a0f-4283-d704-2c4a41007cfa"
      },
      "execution_count": 24,
      "outputs": [
        {
          "output_type": "execute_result",
          "data": {
            "text/plain": [
              "[[2, 5977, 950, 13, 9, 3],\n",
              " [2, 18656, 7705, 365, 13, 9, 3],\n",
              " [2, 59, 67, 57, 1954, 621, 18, 17, 1392, 5262, 56, 25, 510, 254, 13, 9, 3],\n",
              " [2, 32, 13, 22, 18, 21, 254, 13865, 69, 20538, 7298, 13, 9, 3],\n",
              " [2, 14, 1138, 25, 4753, 13, 9, 3]]"
            ]
          },
          "metadata": {},
          "execution_count": 24
        }
      ]
    },
    {
      "cell_type": "code",
      "source": [
        "dev_data_id[:5]"
      ],
      "metadata": {
        "colab": {
          "base_uri": "https://localhost:8080/"
        },
        "id": "m7hAET1JzgZZ",
        "outputId": "4c08a4f8-5ba2-45c0-f932-e8329cccd1f6"
      },
      "execution_count": 25,
      "outputs": [
        {
          "output_type": "execute_result",
          "data": {
            "text/plain": [
              "[[2, 158, 221, 1982, 18, 57, 14, 2107, 12714, 17, 3576, 13, 9, 3],\n",
              " [2, 254, 950, 26, 14, 2162, 13, 9, 3],\n",
              " [2,\n",
              "  21,\n",
              "  265,\n",
              "  6121,\n",
              "  27,\n",
              "  14,\n",
              "  572,\n",
              "  13,\n",
              "  15,\n",
              "  47,\n",
              "  5934,\n",
              "  148,\n",
              "  30,\n",
              "  170,\n",
              "  80,\n",
              "  13,\n",
              "  187,\n",
              "  3],\n",
              " [2, 31, 550, 389, 32, 76, 31, 162, 80, 17, 32, 25, 550, 13706, 13, 9, 3],\n",
              " [2, 14, 760, 16, 14, 950, 80, 25, 254, 67, 17, 52, 253, 5381, 13, 9, 3]]"
            ]
          },
          "metadata": {},
          "execution_count": 25
        }
      ]
    },
    {
      "cell_type": "markdown",
      "source": [
        "3.dataset 재정의/생성"
      ],
      "metadata": {
        "id": "T70l2lMIzHwd"
      }
    },
    {
      "cell_type": "code",
      "source": [
        "class SentimentDataset(object):\n",
        "    def __init__(self,dataframe_ids, dataframe):\n",
        "        self.dataframe=dataframe\n",
        "        self.dataframe_ids=dataframe_ids\n",
        "\n",
        "    def __len__(self):\n",
        "        return len(self.dataframe)\n",
        "\n",
        "    def __getitem__(self, index):\n",
        "\t\t\t\t#인코딩된 문장과 레이블 내보내기\n",
        "        return np.array(self.dataframe_ids[index]),np.array(self.dataframe['label'][index])"
      ],
      "metadata": {
        "id": "7WOTxSPozJ7G"
      },
      "execution_count": 26,
      "outputs": []
    },
    {
      "cell_type": "code",
      "source": [
        "#데이터 셋 구성 ; get_item ; 숫자화된 리뷰데이터와 레이블 가져오기\n",
        "train_dataset = SentimentDataset(train_data_id,train_data)\n",
        "dev_dataset = SentimentDataset(dev_data_id,dev_data)"
      ],
      "metadata": {
        "id": "Thi5isUczLiY"
      },
      "execution_count": 27,
      "outputs": []
    },
    {
      "cell_type": "markdown",
      "source": [
        "4. dataloader 만들기"
      ],
      "metadata": {
        "id": "bgcMSmGHz0kL"
      }
    },
    {
      "cell_type": "code",
      "source": [
        "def collate_fn_style(samples):#가변길이 배치를 패딩하는데 사용?samples ; train_dataset/dev_dataset\n",
        "    input_ids_, labels = zip(*samples)#input_ids 수치화된 리뷰데이터, labels ; 긍부정\n",
        "\n",
        "    max_len = max(len(input_id) for input_id in input_ids_)#42 : 가장 문장의 길이가 긴 것을 찾자\n",
        "    \n",
        "    #[::-1] ; 문자열 거꾸로 출력하기\n",
        "    #문장길이를 작은것->큰것으로 정렬한 인덱스를 취해서 반대로 정렬 -> 왼쪽이 길이가 긴것. 오른쪽으로 갈수록 길이가 짧아짐\n",
        "    sorted_indices = np.argsort([len(input_id) for input_id in input_ids_])[::-1]\n",
        "\n",
        "    #pad_sequence : 일정한 길이로 맞춰줄 때 사용. 빈공간은 0 으로 채워짐.\n",
        "    '''\n",
        "    pad_sequence(sequences, batch_first,padding_value)\n",
        "    sequence ; 가변길이 시퀀스 리스트 ; 길이가 다양한 문장 시퀀스\n",
        "    batch_first ;  B x T x * if True, or in T x B x * otherwise\n",
        "    '''\n",
        "    input_ids = pad_sequence([torch.tensor(input_ids_[index]) for index in sorted_indices],\n",
        "                             batch_first=True)\n",
        "    \n",
        "    #attention 연산이 수행되어야할 토큰과 그렇지 않은 토큰 구분\n",
        "    #인덱스에 해당하는 패딩된 수치로 표현된 문장의 전체길이의 크기만큼 1로 채운다 =연산수행\n",
        "    #padding으로 채워진 부분은 attention 연산이 수행될 필요가 없으므로 0 부여.\n",
        "    attention_mask = torch.tensor(\n",
        "        [[1] * len(input_ids_[index]) + [0] * (max_len - len(input_ids_[index])) for index in\n",
        "         sorted_indices])\n",
        "    \n",
        "    #각 토큰이 어떤 문장에 속하는지 나타냄 : 첫번째 문장이 0, 두번째 문장이 1\n",
        "    token_type_ids = torch.tensor([[0] * len(input_ids[index]) for index in sorted_indices])\n",
        "    position_ids = torch.tensor([list(range(len(input_ids[index]))) for index in sorted_indices])\n",
        "    labels = torch.tensor(np.stack(labels, axis=0)[sorted_indices])\n",
        "\n",
        "    return input_ids, attention_mask, token_type_ids, position_ids, labels"
      ],
      "metadata": {
        "id": "Ax8YM-Moz0MS"
      },
      "execution_count": 28,
      "outputs": []
    },
    {
      "cell_type": "code",
      "source": [
        "train_batch_size=32\n",
        "eval_batch_size=64\n",
        "#collate_fn : dataset이 고정길이가 아닌 경우, 배치를 2 이상으로 dataloader를 호출하면\n",
        "#dataloader에서 batch로 바로 못묶이고 에러가남.-> 함수를 직접 작성해서 넘겨줘야함.\n",
        "train_loader = torch.utils.data.DataLoader(train_dataset,\n",
        "                                           batch_size=train_batch_size,\n",
        "                                           shuffle=True, collate_fn=collate_fn_style,\n",
        "                                           pin_memory=True, num_workers=2)\n",
        "dev_loader = torch.utils.data.DataLoader(dev_dataset, batch_size=eval_batch_size,\n",
        "                                         shuffle=False, collate_fn=collate_fn_style,\n",
        "                                         num_workers=2)"
      ],
      "metadata": {
        "id": "vmOJuz-Zz6GF"
      },
      "execution_count": 29,
      "outputs": []
    },
    {
      "cell_type": "markdown",
      "metadata": {
        "id": "orjNcc7v4L6C"
      },
      "source": [
        "5. Small sample of dataset\n",
        "\n",
        "- 데이터셋 일부만 사용하고 싶다면"
      ]
    },
    {
      "cell_type": "code",
      "execution_count": 30,
      "metadata": {
        "id": "Y7ZYUZ0VyNMT"
      },
      "outputs": [],
      "source": [
        "#SMALL_SAMPLE, PERC = True, 0.01 # 데이터셋 일부만 사용하고 싶다면\n",
        "SMALL_SAMPLE = False # 전체 데이터셋을 사용하고 싶다면면"
      ]
    },
    {
      "cell_type": "code",
      "execution_count": 31,
      "metadata": {
        "id": "yMpTfv0V35On"
      },
      "outputs": [],
      "source": [
        "if SMALL_SAMPLE == True:\n",
        "    train_dataset_total = SentimentDataset(tokenizer, train_pos, train_neg)\n",
        "    dev_dataset_total = SentimentDataset(tokenizer, dev_pos, dev_neg)\n",
        "\n",
        "    train_dataset = random.sample(list(train_dataset_total), int(PERC * len(train_dataset_total)))\n",
        "    dev_dataset = random.sample(list(dev_dataset_total), int(PERC * len(dev_dataset_total)))\n",
        "\n",
        "    print(len(train_dataset_total))\n",
        "    print(len(dev_dataset_total))\n",
        "    print(len(train_dataset))\n",
        "    print(len(dev_dataset))\n",
        "\n",
        "    del train_dataset_total\n",
        "    del dev_dataset_total\n",
        "    gc.collect()"
      ]
    },
    {
      "cell_type": "markdown",
      "metadata": {
        "id": "d1M5Jw5bY_jO"
      },
      "source": [
        "## Model"
      ]
    },
    {
      "cell_type": "code",
      "source": [
        "if MY_MODEL_NAME == 'bert-base': model = BertForSequenceClassification.from_pretrained('bert-base-uncased')\n",
        "elif MY_MODEL_NAME == 'bert-large': model = BertForSequenceClassification.from_pretrained('bert-large-uncased')\n",
        "elif MY_MODEL_NAME == 'albert-base': model = AlbertForSequenceClassification.from_pretrained(\"albert-base-v2\")\n",
        "elif MY_MODEL_NAME == 'albert-large': model = AlbertForSequenceClassification.from_pretrained(\"albert-large-v2\")\n",
        "model.to(device)"
      ],
      "metadata": {
        "colab": {
          "base_uri": "https://localhost:8080/"
        },
        "id": "_5hn3C3w2GiT",
        "outputId": "33ecceda-46c2-4f16-b630-6b65a1b5f0c6"
      },
      "execution_count": 32,
      "outputs": [
        {
          "output_type": "stream",
          "name": "stderr",
          "text": [
            "Some weights of the model checkpoint at albert-base-v2 were not used when initializing AlbertForSequenceClassification: ['predictions.LayerNorm.weight', 'predictions.dense.weight', 'predictions.LayerNorm.bias', 'predictions.bias', 'predictions.dense.bias', 'predictions.decoder.weight', 'predictions.decoder.bias']\n",
            "- This IS expected if you are initializing AlbertForSequenceClassification from the checkpoint of a model trained on another task or with another architecture (e.g. initializing a BertForSequenceClassification model from a BertForPreTraining model).\n",
            "- This IS NOT expected if you are initializing AlbertForSequenceClassification from the checkpoint of a model that you expect to be exactly identical (initializing a BertForSequenceClassification model from a BertForSequenceClassification model).\n",
            "Some weights of AlbertForSequenceClassification were not initialized from the model checkpoint at albert-base-v2 and are newly initialized: ['classifier.bias', 'classifier.weight']\n",
            "You should probably TRAIN this model on a down-stream task to be able to use it for predictions and inference.\n"
          ]
        },
        {
          "output_type": "execute_result",
          "data": {
            "text/plain": [
              "AlbertForSequenceClassification(\n",
              "  (albert): AlbertModel(\n",
              "    (embeddings): AlbertEmbeddings(\n",
              "      (word_embeddings): Embedding(30000, 128, padding_idx=0)\n",
              "      (position_embeddings): Embedding(512, 128)\n",
              "      (token_type_embeddings): Embedding(2, 128)\n",
              "      (LayerNorm): LayerNorm((128,), eps=1e-12, elementwise_affine=True)\n",
              "      (dropout): Dropout(p=0, inplace=False)\n",
              "    )\n",
              "    (encoder): AlbertTransformer(\n",
              "      (embedding_hidden_mapping_in): Linear(in_features=128, out_features=768, bias=True)\n",
              "      (albert_layer_groups): ModuleList(\n",
              "        (0): AlbertLayerGroup(\n",
              "          (albert_layers): ModuleList(\n",
              "            (0): AlbertLayer(\n",
              "              (full_layer_layer_norm): LayerNorm((768,), eps=1e-12, elementwise_affine=True)\n",
              "              (attention): AlbertAttention(\n",
              "                (query): Linear(in_features=768, out_features=768, bias=True)\n",
              "                (key): Linear(in_features=768, out_features=768, bias=True)\n",
              "                (value): Linear(in_features=768, out_features=768, bias=True)\n",
              "                (attention_dropout): Dropout(p=0, inplace=False)\n",
              "                (output_dropout): Dropout(p=0, inplace=False)\n",
              "                (dense): Linear(in_features=768, out_features=768, bias=True)\n",
              "                (LayerNorm): LayerNorm((768,), eps=1e-12, elementwise_affine=True)\n",
              "              )\n",
              "              (ffn): Linear(in_features=768, out_features=3072, bias=True)\n",
              "              (ffn_output): Linear(in_features=3072, out_features=768, bias=True)\n",
              "              (activation): NewGELUActivation()\n",
              "              (dropout): Dropout(p=0, inplace=False)\n",
              "            )\n",
              "          )\n",
              "        )\n",
              "      )\n",
              "    )\n",
              "    (pooler): Linear(in_features=768, out_features=768, bias=True)\n",
              "    (pooler_activation): Tanh()\n",
              "  )\n",
              "  (dropout): Dropout(p=0.1, inplace=False)\n",
              "  (classifier): Linear(in_features=768, out_features=2, bias=True)\n",
              ")"
            ]
          },
          "metadata": {},
          "execution_count": 32
        }
      ]
    },
    {
      "cell_type": "markdown",
      "metadata": {
        "id": "Xvq3ydiwRARd"
      },
      "source": [
        "## Hyperparameter Tuning"
      ]
    },
    {
      "cell_type": "code",
      "execution_count": 33,
      "metadata": {
        "id": "ivg_ebSzdAU3"
      },
      "outputs": [],
      "source": [
        "def build_optimizer(model, optimizer, learning_rate, weight_decay):\n",
        "    if optimizer == \"adam\":\n",
        "        optimizer = optim.Adam(model.parameters(), lr=learning_rate)\n",
        "    elif optimizer == 'adamw':\n",
        "        optimizer = AdamW(model.parameters(), lr=learning_rate, weight_decay=weight_decay)\n",
        "\n",
        "    return optimizer"
      ]
    },
    {
      "cell_type": "markdown",
      "metadata": {
        "id": "Y_N8KGr_qvEt"
      },
      "source": [
        "### ✅ Define sweep config\n",
        "\n",
        "- sweep_configuration\n",
        "```\n",
        "CASE = 'Case3'\n",
        "```\n",
        "- [`method`](https://docs.wandb.ai/guides/sweeps/define-sweep-configuration#method)\n",
        "```\n",
        "'method': 'grid',\n",
        "```\n",
        "    - grid: Grid search iterates over all possible combinations of parameter values.\n",
        "    - random: Random search chooses a random set of values on each iteration.\n",
        "    - bayes: Our Bayesian hyperparameter search method uses a Gaussian Process to model the relationship between the parameters and the model metric and chooses parameters to optimize the probability of improvement. This strategy requires the metric key to be specified."
      ]
    },
    {
      "cell_type": "code",
      "execution_count": 34,
      "metadata": {
        "id": "o_C53YHWn5H5"
      },
      "outputs": [],
      "source": [
        "CASE = 'Case3' # 'Case1', 'Case2', 'Case3' 중 하나만"
      ]
    },
    {
      "cell_type": "code",
      "execution_count": 35,
      "metadata": {
        "colab": {
          "base_uri": "https://localhost:8080/"
        },
        "id": "Y0RTKgPz_0Ud",
        "outputId": "7c1e04a0-7f99-4f7b-bc75-72914b3f5707"
      },
      "outputs": [
        {
          "output_type": "stream",
          "name": "stdout",
          "text": [
            "Create sweep with ID: u9osbunp\n",
            "Sweep URL: https://wandb.ai/goorm/albert-baseCase3/sweeps/u9osbunp\n"
          ]
        }
      ],
      "source": [
        "# 🐝 Step 1: Define sweep config\n",
        "if CASE == 'Case1':\n",
        "    MY_PARAMETERS = {\n",
        "        'batch_size': {'values': [32]},\n",
        "        'optimizer': {'values': ['adamw']},\n",
        "        'lr': {'values': [1e-01, 1e-02, 1e-03, 1e-04, 1e-05]},\n",
        "        'weight_decay': {'values': [0]},\n",
        "        'epochs': {'values': [1]}\n",
        "    }\n",
        "elif CASE == 'Case2':\n",
        "    MY_PARAMETERS = {\n",
        "        'batch_size': {'values': [32,64,128]},\n",
        "        'optimizer': {'values': ['adamw']},\n",
        "        'lr': {'values': [ 1e-04, 1e-05]}, # {'max': 0.1, 'min': 0.0001}\n",
        "        'weight_decay': {'values': [1e-04,1e-05,0]}, # {'max': 0.1, 'min': 0.0}\n",
        "        'epochs': {'values': [1]} # {'values': [1]}\n",
        "    }\n",
        "elif CASE == 'Case3':\n",
        "    MY_PARAMETERS = {\n",
        "        'batch_size': {'values': [32,64]},\n",
        "        'optimizer': {'values': ['adamw']},\n",
        "        'lr': {'values': [1e-05]}, # {'max': 0.1, 'min': 0.0001}\n",
        "        'weight_decay': {'values': [0,0.0001]}, # {'max': 0.1, 'min': 0.0}\n",
        "        'epochs': {'values': [1,3,5,10]} # {'values': [1]}\n",
        "    }\n",
        "\n",
        "sweep_configuration = {\n",
        "    'method': 'grid', # 'random'\n",
        "    'name': 'sweep',\n",
        "    'metric': {'goal': 'maximize', 'name': \"val/val_accuracy\"},\n",
        "    'description': MY_MODEL_NAME,\n",
        "    'parameters': MY_PARAMETERS\n",
        "}\n",
        "\n",
        "# 🐝 Step 2: Initialize sweep by passing in config\n",
        "sweep_id = wandb.sweep(sweep=sweep_configuration, project=f'albert-base{CASE}')"
      ]
    },
    {
      "cell_type": "markdown",
      "metadata": {
        "id": "5UQiiBZVrCSQ"
      },
      "source": [
        "## Training"
      ]
    },
    {
      "cell_type": "code",
      "execution_count": 36,
      "metadata": {
        "id": "Ow1qU7rb4tmg"
      },
      "outputs": [],
      "source": [
        "# Choose whether to draw loss graph using Matplotlip\n",
        "DRAW_GRAPH = True # 그래프를 그리고 싶다면\n",
        "#DRAW_GRAPH = False # 그래프를 그리고 싶지 않다면\n",
        "\n",
        "# Determine how many times to validate per epoch\n",
        "VALID_INTERVAL = 5 # 5 (권장)\n",
        "\n",
        "# Determine minimum validation accuracy\n",
        "LOWEST_VAL_ACC = 0.9"
      ]
    },
    {
      "cell_type": "code",
      "execution_count": 37,
      "metadata": {
        "id": "MztU-L83rvgW"
      },
      "outputs": [],
      "source": [
        "def compute_acc(predictions, target_labels):\n",
        "    return (np.array(predictions) == np.array(target_labels)).mean()"
      ]
    },
    {
      "cell_type": "code",
      "execution_count": 45,
      "metadata": {
        "id": "mEQLYqeib93V"
      },
      "outputs": [],
      "source": [
        "# 🐝 Step 3: Define training function that takes in hyperparameter \n",
        "# values from `wandb.config` and uses them to train a model and return metric\n",
        "def main():\n",
        "    # 🐝 initialise a wandb run\n",
        "    # Use the wandb.init() API to generate a background process \n",
        "    # to sync and log data as a Weights and Biases run.\n",
        "    # Optionally provide the name of the project.\n",
        "    # 🐝 initialise a wandb run\n",
        "    run = wandb.init(project=f'albert-base{CASE}')\n",
        "\n",
        "    # note that we define values from `wandb.config` instead of \n",
        "    # defining hard values\n",
        "    batch_size = wandb.config.batch_size\n",
        "    optim = wandb.config.optimizer\n",
        "    lr  =  wandb.config.lr\n",
        "    weight_decay = wandb.config.weight_decay\n",
        "    epochs = wandb.config.epochs\n",
        "\n",
        "    my_name = \"model_\" + MY_MODEL_NAME + \"_\" + str(batch_size) + \"_\" + str(optim) + \"_\" + str(lr) + \"_\" + str(weight_decay) + \"_\" + str(epochs)\n",
        "    run.name = my_name\n",
        "    \n",
        "    # Make the loss and optimizer\n",
        "    optimizer = build_optimizer(model, optim, lr, weight_decay)\n",
        "\n",
        "     # 📈 For visualization using Matplotlib\n",
        "    train_loss_history = []\n",
        "    valid_loss_history = []\n",
        "\n",
        "    # Training\n",
        "    for epoch in range(epochs):\n",
        "        with tqdm(train_loader, unit=\"batch\") as tepoch:\n",
        "            for iteration, (input_ids, attention_mask, token_type_ids, position_ids, labels) in enumerate(tepoch):\n",
        "                model.train()\n",
        "                tepoch.set_description(f\"Epoch {epoch}\")\n",
        "                \n",
        "                # Train\n",
        "                input_ids = input_ids.to(device)\n",
        "                attention_mask = attention_mask.to(device)\n",
        "                token_type_ids = token_type_ids.to(device)\n",
        "                position_ids = position_ids.to(device)\n",
        "                labels = labels.to(device, dtype=torch.long)\n",
        "\n",
        "                optimizer.zero_grad()\n",
        "                outputs = model(\n",
        "                    input_ids=input_ids,\n",
        "                    attention_mask=attention_mask,\n",
        "                    token_type_ids=token_type_ids,\n",
        "                    position_ids=position_ids,\n",
        "                    labels=labels)\n",
        "                train_loss = outputs.loss\n",
        "                train_loss.backward()\n",
        "                optimizer.step()\n",
        "                \n",
        "                # 🐝 Log train metrics to wandb \n",
        "                wandb.log({\n",
        "                    \"train/epoch\": epoch,\n",
        "                    \"train/train_loss\": train_loss\n",
        "                })\n",
        "\n",
        "                tepoch.set_postfix(loss=train_loss.item())\n",
        "\n",
        "                if iteration != 0 and iteration % int(len(train_loader) / VALID_INTERVAL) == 0:\n",
        "                    # Evaluate the model [VALID_INTERVAL] times per epoch\n",
        "                    model.eval()\n",
        "                    with torch.no_grad():\n",
        "                        val_losses = []\n",
        "                        predictions = []\n",
        "                        target_labels = []\n",
        "                        for input_ids, attention_mask, token_type_ids, position_ids, labels in tqdm(\n",
        "                            dev_loader,\n",
        "                            desc='Eval',\n",
        "                            position=1,\n",
        "                            leave=None):\n",
        "                            # Validation\n",
        "                            input_ids = input_ids.to(device)\n",
        "                            attention_mask = attention_mask.to(device)\n",
        "                            token_type_ids = token_type_ids.to(device)\n",
        "                            position_ids = position_ids.to(device)\n",
        "                            labels = labels.to(device, dtype=torch.long)\n",
        "\n",
        "                            outputs = model(\n",
        "                                input_ids=input_ids,\n",
        "                                attention_mask=attention_mask,\n",
        "                                token_type_ids=token_type_ids,\n",
        "                                position_ids=position_ids,\n",
        "                                labels=labels)\n",
        "                            loss = outputs.loss\n",
        "                            logits = outputs.logits\n",
        "                            val_losses.append(loss.item())\n",
        "\n",
        "                            batch_predictions = [0 if example[0] > example[1] else 1 for example in logits]\n",
        "                            batch_labels = [int(example) for example in labels]\n",
        "\n",
        "                            predictions += batch_predictions\n",
        "                            target_labels += batch_labels\n",
        "                    \n",
        "                    val_loss = sum(val_losses) / len(val_losses)\n",
        "                    val_acc = compute_acc(predictions, target_labels)\n",
        "\n",
        "                    # 🐝 Log validation metrics to wandb\n",
        "                    wandb.log({\n",
        "                        \"val/val_accuracy\": val_acc,\n",
        "                        \"val/val_loss\": val_loss\n",
        "                    })\n",
        "                    train_loss_history.append(train_loss)  # 📈 For visualization using Matplotlib\n",
        "                    valid_loss_history.append(val_loss)  # 📈 For visualization using Matplotlib\n",
        "                    print('=====> val_acc: ', val_acc)\n",
        "                    \n",
        "                    # 💾 [LOWEST_VAL_ACC]보다 크면 parameters 저장\n",
        "                    if val_acc > LOWEST_VAL_ACC:\n",
        "                        torch.save(model.state_dict(), my_name + '_ckp.bin') # checkpoint\n",
        "                        print('\\nSaved the model!')\n",
        "\n",
        "    # 💾 학습이 완료되면 최종 parameters를 저장\n",
        "    torch.save(model.state_dict(), my_name + '.bin')\n",
        "\n",
        "    if DRAW_GRAPH:\n",
        "        # 📈 For visualization using Matplotlib\n",
        "        # 간단하게 train loss & validation loss 시각화\n",
        "        train_loss_history = torch.tensor(train_loss_history).detach().cpu().numpy()\n",
        "        valid_loss_history = torch.tensor(valid_loss_history).detach().cpu().numpy()\n",
        "        plt.plot(train_loss_history, label = \"Train Loss\")\n",
        "        plt.plot(valid_loss_history, label = \"Validation Loss\")\n",
        "        plt.title('Loss (' + my_name + ')')\n",
        "        plt.xlabel('Iteration')\n",
        "        plt.ylabel('Loss')\n",
        "        plt.legend()\n",
        "        plt.savefig(my_name + '.png') # 💾\n",
        "        plt.close()"
      ]
    },
    {
      "cell_type": "code",
      "execution_count": 46,
      "metadata": {
        "colab": {
          "base_uri": "https://localhost:8080/",
          "height": 1000,
          "referenced_widgets": [
            "2a16152edc964d52bf089920f3ba80d7",
            "951fa5e1ad1948909839061d1d93778c",
            "f31f5e6080b24209b3e4cacaeac4b2ad",
            "0346f91e3b9f4102bcc337a069dc7509",
            "1a442f9c00f843008e51523f345f1731",
            "9166b56e4f49470d9fbf4240e2fb0438",
            "595f28ddfd4045bc8ed960a6f6d15f97",
            "4010c3d41e1b40a38c6110068bb1d0b0"
          ]
        },
        "id": "1ygHMTAd_40-",
        "outputId": "e2c6ea6d-04b5-4ba1-fb7f-e4abb6501f57"
      },
      "outputs": [
        {
          "output_type": "stream",
          "name": "stderr",
          "text": [
            "\u001b[34m\u001b[1mwandb\u001b[0m: Agent Starting Run: qp2cxhgq with config:\n",
            "\u001b[34m\u001b[1mwandb\u001b[0m: \tbatch_size: 32\n",
            "\u001b[34m\u001b[1mwandb\u001b[0m: \tepochs: 3\n",
            "\u001b[34m\u001b[1mwandb\u001b[0m: \tlr: 1e-05\n",
            "\u001b[34m\u001b[1mwandb\u001b[0m: \toptimizer: adamw\n",
            "\u001b[34m\u001b[1mwandb\u001b[0m: \tweight_decay: 0\n",
            "Failed to detect the name of this notebook, you can set it manually with the WANDB_NOTEBOOK_NAME environment variable to enable code saving.\n",
            "\u001b[34m\u001b[1mwandb\u001b[0m: \u001b[33mWARNING\u001b[0m Ignored wandb.init() arg project when running a sweep.\n"
          ]
        },
        {
          "output_type": "display_data",
          "data": {
            "text/plain": [
              "<IPython.core.display.HTML object>"
            ],
            "text/html": [
              "Tracking run with wandb version 0.13.7"
            ]
          },
          "metadata": {}
        },
        {
          "output_type": "display_data",
          "data": {
            "text/plain": [
              "<IPython.core.display.HTML object>"
            ],
            "text/html": [
              "Run data is saved locally in <code>/content/wandb/run-20221230_073524-qp2cxhgq</code>"
            ]
          },
          "metadata": {}
        },
        {
          "output_type": "display_data",
          "data": {
            "text/plain": [
              "<IPython.core.display.HTML object>"
            ],
            "text/html": [
              "Syncing run <strong><a href=\"https://wandb.ai/goorm/albert-baseCase3/runs/qp2cxhgq\" target=\"_blank\">sweet-sweep-3</a></strong> to <a href=\"https://wandb.ai/goorm/albert-baseCase3\" target=\"_blank\">Weights & Biases</a> (<a href=\"https://wandb.me/run\" target=\"_blank\">docs</a>)<br/>Sweep page:  <a href=\"https://wandb.ai/goorm/albert-baseCase3/sweeps/u9osbunp\" target=\"_blank\">https://wandb.ai/goorm/albert-baseCase3/sweeps/u9osbunp</a>"
            ]
          },
          "metadata": {}
        },
        {
          "output_type": "stream",
          "name": "stderr",
          "text": [
            "Epoch 0:  20%|█▉        | 2769/13852 [02:11<08:49, 20.93batch/s, loss=0.26]  \n",
            "Eval:   0%|          | 0/63 [00:00<?, ?it/s]\u001b[A\n",
            "Eval:   2%|▏         | 1/63 [00:00<00:08,  7.62it/s]\u001b[A\n",
            "Eval:   8%|▊         | 5/63 [00:00<00:02, 21.85it/s]\u001b[A\n",
            "Eval:  14%|█▍        | 9/63 [00:00<00:02, 26.76it/s]\u001b[A\n",
            "Eval:  21%|██        | 13/63 [00:00<00:01, 29.36it/s]\u001b[A\n",
            "Eval:  27%|██▋       | 17/63 [00:00<00:01, 30.74it/s]\u001b[A\n",
            "Eval:  33%|███▎      | 21/63 [00:00<00:01, 31.95it/s]\u001b[A\n",
            "Eval:  40%|███▉      | 25/63 [00:00<00:01, 32.49it/s]\u001b[A\n",
            "Eval:  46%|████▌     | 29/63 [00:00<00:01, 32.93it/s]\u001b[A\n",
            "Eval:  52%|█████▏    | 33/63 [00:01<00:00, 33.09it/s]\u001b[A\n",
            "Eval:  59%|█████▊    | 37/63 [00:01<00:00, 32.63it/s]\u001b[A\n",
            "Eval:  65%|██████▌   | 41/63 [00:01<00:00, 31.82it/s]\u001b[A\n",
            "Eval:  71%|███████▏  | 45/63 [00:01<00:00, 31.94it/s]\u001b[A\n",
            "Eval:  78%|███████▊  | 49/63 [00:01<00:00, 32.32it/s]\u001b[A\n",
            "Eval:  84%|████████▍ | 53/63 [00:01<00:00, 32.52it/s]\u001b[A\n",
            "Eval:  90%|█████████ | 57/63 [00:01<00:00, 32.23it/s]\u001b[A\n",
            "Eval:  97%|█████████▋| 61/63 [00:01<00:00, 32.54it/s]\u001b[A\n",
            "Epoch 0:  20%|██        | 2772/13852 [02:14<48:58,  3.77batch/s, loss=0.0765]"
          ]
        },
        {
          "output_type": "stream",
          "name": "stdout",
          "text": [
            "=====> val_acc:  0.97575\n",
            "\n",
            "Saved the model!\n"
          ]
        },
        {
          "output_type": "stream",
          "name": "stderr",
          "text": [
            "Epoch 0:  40%|███▉      | 5538/13852 [04:25<06:54, 20.07batch/s, loss=0.082]\n",
            "Eval:   0%|          | 0/63 [00:00<?, ?it/s]\u001b[A\n",
            "Eval:   2%|▏         | 1/63 [00:00<00:08,  7.11it/s]\u001b[A\n",
            "Eval:   8%|▊         | 5/63 [00:00<00:02, 21.72it/s]\u001b[A\n",
            "Eval:  14%|█▍        | 9/63 [00:00<00:02, 26.48it/s]\u001b[A\n",
            "Eval:  21%|██        | 13/63 [00:00<00:01, 29.33it/s]\u001b[A\n",
            "Eval:  27%|██▋       | 17/63 [00:00<00:01, 30.83it/s]\u001b[A\n",
            "Eval:  33%|███▎      | 21/63 [00:00<00:01, 32.04it/s]\u001b[A\n",
            "Eval:  40%|███▉      | 25/63 [00:00<00:01, 32.60it/s]\u001b[A\n",
            "Eval:  46%|████▌     | 29/63 [00:00<00:01, 33.28it/s]\u001b[A\n",
            "Eval:  52%|█████▏    | 33/63 [00:01<00:00, 33.40it/s]\u001b[A\n",
            "Eval:  59%|█████▊    | 37/63 [00:01<00:00, 32.92it/s]\u001b[A\n",
            "Eval:  65%|██████▌   | 41/63 [00:01<00:00, 32.08it/s]\u001b[A\n",
            "Eval:  71%|███████▏  | 45/63 [00:01<00:00, 32.09it/s]\u001b[A\n",
            "Eval:  78%|███████▊  | 49/63 [00:01<00:00, 32.17it/s]\u001b[A\n",
            "Eval:  84%|████████▍ | 53/63 [00:01<00:00, 32.34it/s]\u001b[A\n",
            "Eval:  90%|█████████ | 57/63 [00:01<00:00, 32.01it/s]\u001b[A\n",
            "Eval:  97%|█████████▋| 61/63 [00:01<00:00, 32.36it/s]\u001b[A\n",
            "Epoch 0:  40%|████      | 5541/13852 [04:28<41:37,  3.33batch/s, loss=0.0281]"
          ]
        },
        {
          "output_type": "stream",
          "name": "stdout",
          "text": [
            "=====> val_acc:  0.9765\n",
            "\n",
            "Saved the model!\n"
          ]
        },
        {
          "output_type": "stream",
          "name": "stderr",
          "text": [
            "Epoch 0:  60%|█████▉    | 8310/13852 [06:40<04:24, 20.96batch/s, loss=0.0256] \n",
            "Eval:   0%|          | 0/63 [00:00<?, ?it/s]\u001b[A\n",
            "Eval:   2%|▏         | 1/63 [00:00<00:08,  7.74it/s]\u001b[A\n",
            "Eval:   8%|▊         | 5/63 [00:00<00:02, 22.35it/s]\u001b[A\n",
            "Eval:  14%|█▍        | 9/63 [00:00<00:01, 27.41it/s]\u001b[A\n",
            "Eval:  21%|██        | 13/63 [00:00<00:01, 29.97it/s]\u001b[A\n",
            "Eval:  27%|██▋       | 17/63 [00:00<00:01, 31.34it/s]\u001b[A\n",
            "Eval:  33%|███▎      | 21/63 [00:00<00:01, 32.51it/s]\u001b[A\n",
            "Eval:  40%|███▉      | 25/63 [00:00<00:01, 32.91it/s]\u001b[A\n",
            "Eval:  46%|████▌     | 29/63 [00:00<00:01, 33.55it/s]\u001b[A\n",
            "Eval:  52%|█████▏    | 33/63 [00:01<00:00, 33.75it/s]\u001b[A\n",
            "Eval:  59%|█████▊    | 37/63 [00:01<00:00, 33.07it/s]\u001b[A\n",
            "Eval:  65%|██████▌   | 41/63 [00:01<00:00, 32.34it/s]\u001b[A\n",
            "Eval:  71%|███████▏  | 45/63 [00:01<00:00, 32.13it/s]\u001b[A\n",
            "Eval:  78%|███████▊  | 49/63 [00:01<00:00, 32.42it/s]\u001b[A\n",
            "Eval:  84%|████████▍ | 53/63 [00:01<00:00, 32.53it/s]\u001b[A\n",
            "Eval:  90%|█████████ | 57/63 [00:01<00:00, 32.22it/s]\u001b[A\n",
            "Eval:  97%|█████████▋| 61/63 [00:01<00:00, 32.56it/s]\u001b[A\n",
            "Epoch 0:  60%|█████▉    | 8310/13852 [06:42<04:24, 20.96batch/s, loss=0.0165]"
          ]
        },
        {
          "output_type": "stream",
          "name": "stdout",
          "text": [
            "=====> val_acc:  0.978\n",
            "\n",
            "Saved the model!\n"
          ]
        },
        {
          "output_type": "stream",
          "name": "stderr",
          "text": [
            "Epoch 0:  80%|███████▉  | 11079/13852 [08:54<02:12, 21.00batch/s, loss=0.0265]\n",
            "Eval:   0%|          | 0/63 [00:00<?, ?it/s]\u001b[A\n",
            "Eval:   2%|▏         | 1/63 [00:00<00:08,  7.59it/s]\u001b[A\n",
            "Eval:   8%|▊         | 5/63 [00:00<00:02, 22.46it/s]\u001b[A\n",
            "Eval:  14%|█▍        | 9/63 [00:00<00:01, 27.43it/s]\u001b[A\n",
            "Eval:  21%|██        | 13/63 [00:00<00:01, 29.59it/s]\u001b[A\n",
            "Eval:  27%|██▋       | 17/63 [00:00<00:01, 31.02it/s]\u001b[A\n",
            "Eval:  33%|███▎      | 21/63 [00:00<00:01, 32.07it/s]\u001b[A\n",
            "Eval:  40%|███▉      | 25/63 [00:00<00:01, 32.64it/s]\u001b[A\n",
            "Eval:  46%|████▌     | 29/63 [00:00<00:01, 33.27it/s]\u001b[A\n",
            "Eval:  52%|█████▏    | 33/63 [00:01<00:00, 33.55it/s]\u001b[A\n",
            "Eval:  59%|█████▊    | 37/63 [00:01<00:00, 33.18it/s]\u001b[A\n",
            "Eval:  65%|██████▌   | 41/63 [00:01<00:00, 32.37it/s]\u001b[A\n",
            "Eval:  71%|███████▏  | 45/63 [00:01<00:00, 31.70it/s]\u001b[A\n",
            "Eval:  78%|███████▊  | 49/63 [00:01<00:00, 32.10it/s]\u001b[A\n",
            "Eval:  84%|████████▍ | 53/63 [00:01<00:00, 32.28it/s]\u001b[A\n",
            "Eval:  90%|█████████ | 57/63 [00:01<00:00, 32.05it/s]\u001b[A\n",
            "Eval:  97%|█████████▋| 61/63 [00:01<00:00, 32.35it/s]\u001b[A\n",
            "Epoch 0:  80%|████████  | 11082/13852 [08:56<12:19,  3.75batch/s, loss=0.0136]"
          ]
        },
        {
          "output_type": "stream",
          "name": "stdout",
          "text": [
            "=====> val_acc:  0.97925\n",
            "\n",
            "Saved the model!\n"
          ]
        },
        {
          "output_type": "stream",
          "name": "stderr",
          "text": [
            "Epoch 0: 100%|█████████▉| 13848/13852 [11:08<00:00, 19.28batch/s, loss=0.0381] \n",
            "Eval:   0%|          | 0/63 [00:00<?, ?it/s]\u001b[A\n",
            "Eval:   2%|▏         | 1/63 [00:00<00:08,  7.69it/s]\u001b[A\n",
            "Eval:   8%|▊         | 5/63 [00:00<00:02, 22.35it/s]\u001b[A\n",
            "Eval:  14%|█▍        | 9/63 [00:00<00:01, 27.38it/s]\u001b[A\n",
            "Eval:  21%|██        | 13/63 [00:00<00:01, 29.66it/s]\u001b[A\n",
            "Eval:  27%|██▋       | 17/63 [00:00<00:01, 30.98it/s]\u001b[A\n",
            "Eval:  33%|███▎      | 21/63 [00:00<00:01, 32.16it/s]\u001b[A\n",
            "Eval:  40%|███▉      | 25/63 [00:00<00:01, 32.58it/s]\u001b[A\n",
            "Eval:  46%|████▌     | 29/63 [00:00<00:01, 33.29it/s]\u001b[A\n",
            "Eval:  52%|█████▏    | 33/63 [00:01<00:00, 33.62it/s]\u001b[A\n",
            "Eval:  59%|█████▊    | 37/63 [00:01<00:00, 32.68it/s]\u001b[A\n",
            "Eval:  65%|██████▌   | 41/63 [00:01<00:00, 31.67it/s]\u001b[A\n",
            "Eval:  71%|███████▏  | 45/63 [00:01<00:00, 31.83it/s]\u001b[A\n",
            "Eval:  78%|███████▊  | 49/63 [00:01<00:00, 32.15it/s]\u001b[A\n",
            "Eval:  84%|████████▍ | 53/63 [00:01<00:00, 32.37it/s]\u001b[A\n",
            "Eval:  90%|█████████ | 57/63 [00:01<00:00, 32.05it/s]\u001b[A\n",
            "Eval:  97%|█████████▋| 61/63 [00:01<00:00, 32.47it/s]\u001b[A\n",
            "Epoch 0: 100%|█████████▉| 13851/13852 [11:10<00:00,  3.71batch/s, loss=0.451] "
          ]
        },
        {
          "output_type": "stream",
          "name": "stdout",
          "text": [
            "=====> val_acc:  0.97925\n",
            "\n",
            "Saved the model!\n"
          ]
        },
        {
          "output_type": "stream",
          "name": "stderr",
          "text": [
            "Epoch 0: 100%|██████████| 13852/13852 [11:10<00:00, 20.66batch/s, loss=0.451]\n",
            "Epoch 1:  20%|█▉        | 2768/13852 [02:12<08:51, 20.87batch/s, loss=0.00337]\n",
            "Eval:   0%|          | 0/63 [00:00<?, ?it/s]\u001b[A\n",
            "Eval:   2%|▏         | 1/63 [00:00<00:08,  7.52it/s]\u001b[A\n",
            "Eval:   8%|▊         | 5/63 [00:00<00:02, 22.18it/s]\u001b[A\n",
            "Eval:  14%|█▍        | 9/63 [00:00<00:01, 27.29it/s]\u001b[A\n",
            "Eval:  21%|██        | 13/63 [00:00<00:01, 29.68it/s]\u001b[A\n",
            "Eval:  27%|██▋       | 17/63 [00:00<00:01, 31.18it/s]\u001b[A\n",
            "Eval:  33%|███▎      | 21/63 [00:00<00:01, 32.36it/s]\u001b[A\n",
            "Eval:  40%|███▉      | 25/63 [00:00<00:01, 32.65it/s]\u001b[A\n",
            "Eval:  46%|████▌     | 29/63 [00:00<00:01, 33.14it/s]\u001b[A\n",
            "Eval:  52%|█████▏    | 33/63 [00:01<00:00, 33.38it/s]\u001b[A\n",
            "Eval:  59%|█████▊    | 37/63 [00:01<00:00, 33.01it/s]\u001b[A\n",
            "Eval:  65%|██████▌   | 41/63 [00:01<00:00, 32.24it/s]\u001b[A\n",
            "Eval:  71%|███████▏  | 45/63 [00:01<00:00, 32.31it/s]\u001b[A\n",
            "Eval:  78%|███████▊  | 49/63 [00:01<00:00, 32.35it/s]\u001b[A\n",
            "Eval:  84%|████████▍ | 53/63 [00:01<00:00, 32.57it/s]\u001b[A\n",
            "Eval:  90%|█████████ | 57/63 [00:01<00:00, 32.13it/s]\u001b[A\n",
            "Eval:  97%|█████████▋| 61/63 [00:01<00:00, 32.30it/s]\u001b[A\n",
            "Epoch 1:  20%|██        | 2771/13852 [02:14<49:27,  3.73batch/s, loss=0.0971]"
          ]
        },
        {
          "output_type": "stream",
          "name": "stdout",
          "text": [
            "=====> val_acc:  0.9785\n",
            "\n",
            "Saved the model!\n"
          ]
        },
        {
          "output_type": "stream",
          "name": "stderr",
          "text": [
            "Epoch 1:  40%|███▉      | 5540/13852 [04:26<06:48, 20.33batch/s, loss=0.251] \n",
            "Eval:   0%|          | 0/63 [00:00<?, ?it/s]\u001b[A\n",
            "Eval:   2%|▏         | 1/63 [00:00<00:08,  7.32it/s]\u001b[A\n",
            "Eval:   8%|▊         | 5/63 [00:00<00:02, 22.02it/s]\u001b[A\n",
            "Eval:  14%|█▍        | 9/63 [00:00<00:02, 26.97it/s]\u001b[A\n",
            "Eval:  21%|██        | 13/63 [00:00<00:01, 29.60it/s]\u001b[A\n",
            "Eval:  27%|██▋       | 17/63 [00:00<00:01, 30.95it/s]\u001b[A\n",
            "Eval:  33%|███▎      | 21/63 [00:00<00:01, 31.87it/s]\u001b[A\n",
            "Eval:  40%|███▉      | 25/63 [00:00<00:01, 32.46it/s]\u001b[A\n",
            "Eval:  46%|████▌     | 29/63 [00:00<00:01, 33.18it/s]\u001b[A\n",
            "Eval:  52%|█████▏    | 33/63 [00:01<00:00, 33.42it/s]\u001b[A\n",
            "Eval:  59%|█████▊    | 37/63 [00:01<00:00, 33.04it/s]\u001b[A\n",
            "Eval:  65%|██████▌   | 41/63 [00:01<00:00, 32.17it/s]\u001b[A\n",
            "Eval:  71%|███████▏  | 45/63 [00:01<00:00, 32.13it/s]\u001b[A\n",
            "Eval:  78%|███████▊  | 49/63 [00:01<00:00, 32.39it/s]\u001b[A\n",
            "Eval:  84%|████████▍ | 53/63 [00:01<00:00, 32.49it/s]\u001b[A\n",
            "Eval:  90%|█████████ | 57/63 [00:01<00:00, 32.08it/s]\u001b[A\n",
            "Eval:  97%|█████████▋| 61/63 [00:01<00:00, 32.30it/s]\u001b[A\n",
            "Epoch 1:  40%|████      | 5543/13852 [04:29<36:50,  3.76batch/s, loss=0.0151]"
          ]
        },
        {
          "output_type": "stream",
          "name": "stdout",
          "text": [
            "=====> val_acc:  0.976\n",
            "\n",
            "Saved the model!\n"
          ]
        },
        {
          "output_type": "stream",
          "name": "stderr",
          "text": [
            "Epoch 1:  60%|█████▉    | 8310/13852 [06:41<04:22, 21.10batch/s, loss=0.0258]\n",
            "Eval:   0%|          | 0/63 [00:00<?, ?it/s]\u001b[A\n",
            "Eval:   2%|▏         | 1/63 [00:00<00:08,  7.69it/s]\u001b[A\n",
            "Eval:   8%|▊         | 5/63 [00:00<00:02, 22.41it/s]\u001b[A\n",
            "Eval:  14%|█▍        | 9/63 [00:00<00:02, 26.99it/s]\u001b[A\n",
            "Eval:  21%|██        | 13/63 [00:00<00:01, 29.69it/s]\u001b[A\n",
            "Eval:  27%|██▋       | 17/63 [00:00<00:01, 30.99it/s]\u001b[A\n",
            "Eval:  33%|███▎      | 21/63 [00:00<00:01, 31.25it/s]\u001b[A\n",
            "Eval:  40%|███▉      | 25/63 [00:00<00:01, 32.01it/s]\u001b[A\n",
            "Eval:  46%|████▌     | 29/63 [00:00<00:01, 32.96it/s]\u001b[A\n",
            "Eval:  52%|█████▏    | 33/63 [00:01<00:00, 33.30it/s]\u001b[A\n",
            "Eval:  59%|█████▊    | 37/63 [00:01<00:00, 33.02it/s]\u001b[A\n",
            "Eval:  65%|██████▌   | 41/63 [00:01<00:00, 32.27it/s]\u001b[A\n",
            "Eval:  71%|███████▏  | 45/63 [00:01<00:00, 32.18it/s]\u001b[A\n",
            "Eval:  78%|███████▊  | 49/63 [00:01<00:00, 32.32it/s]\u001b[A\n",
            "Eval:  84%|████████▍ | 53/63 [00:01<00:00, 32.53it/s]\u001b[A\n",
            "Eval:  90%|█████████ | 57/63 [00:01<00:00, 32.25it/s]\u001b[A\n",
            "Eval:  97%|█████████▋| 61/63 [00:01<00:00, 32.66it/s]\u001b[A\n",
            "Epoch 1:  60%|█████▉    | 8310/13852 [06:43<04:22, 21.10batch/s, loss=0.128]"
          ]
        },
        {
          "output_type": "stream",
          "name": "stdout",
          "text": [
            "=====> val_acc:  0.97725\n",
            "\n",
            "Saved the model!\n"
          ]
        },
        {
          "output_type": "stream",
          "name": "stderr",
          "text": [
            "Epoch 1:  80%|███████▉  | 11078/13852 [08:55<02:11, 21.03batch/s, loss=0.00484]\n",
            "Eval:   0%|          | 0/63 [00:00<?, ?it/s]\u001b[A\n",
            "Eval:   2%|▏         | 1/63 [00:00<00:08,  7.68it/s]\u001b[A\n",
            "Eval:   8%|▊         | 5/63 [00:00<00:02, 22.52it/s]\u001b[A\n",
            "Eval:  14%|█▍        | 9/63 [00:00<00:01, 27.21it/s]\u001b[A\n",
            "Eval:  21%|██        | 13/63 [00:00<00:01, 29.66it/s]\u001b[A\n",
            "Eval:  27%|██▋       | 17/63 [00:00<00:01, 30.93it/s]\u001b[A\n",
            "Eval:  33%|███▎      | 21/63 [00:00<00:01, 32.03it/s]\u001b[A\n",
            "Eval:  40%|███▉      | 25/63 [00:00<00:01, 32.54it/s]\u001b[A\n",
            "Eval:  46%|████▌     | 29/63 [00:00<00:01, 32.89it/s]\u001b[A\n",
            "Eval:  52%|█████▏    | 33/63 [00:01<00:00, 33.07it/s]\u001b[A\n",
            "Eval:  59%|█████▊    | 37/63 [00:01<00:00, 32.81it/s]\u001b[A\n",
            "Eval:  65%|██████▌   | 41/63 [00:01<00:00, 32.12it/s]\u001b[A\n",
            "Eval:  71%|███████▏  | 45/63 [00:01<00:00, 32.25it/s]\u001b[A\n",
            "Eval:  78%|███████▊  | 49/63 [00:01<00:00, 32.47it/s]\u001b[A\n",
            "Eval:  84%|████████▍ | 53/63 [00:01<00:00, 32.62it/s]\u001b[A\n",
            "Eval:  90%|█████████ | 57/63 [00:01<00:00, 32.29it/s]\u001b[A\n",
            "Eval:  97%|█████████▋| 61/63 [00:01<00:00, 32.61it/s]\u001b[A\n",
            "Epoch 1:  80%|███████▉  | 11081/13852 [08:57<12:18,  3.75batch/s, loss=0.126]"
          ]
        },
        {
          "output_type": "stream",
          "name": "stdout",
          "text": [
            "=====> val_acc:  0.98325\n",
            "\n",
            "Saved the model!\n"
          ]
        },
        {
          "output_type": "stream",
          "name": "stderr",
          "text": [
            "Epoch 1: 100%|█████████▉| 13850/13852 [11:09<00:00, 19.13batch/s, loss=0.013]\n",
            "Eval:   0%|          | 0/63 [00:00<?, ?it/s]\u001b[A\n",
            "Eval:   2%|▏         | 1/63 [00:00<00:09,  6.67it/s]\u001b[A\n",
            "Eval:   6%|▋         | 4/63 [00:00<00:03, 17.42it/s]\u001b[A\n",
            "Eval:  11%|█         | 7/63 [00:00<00:02, 21.75it/s]\u001b[A\n",
            "Eval:  16%|█▌        | 10/63 [00:00<00:02, 21.41it/s]\u001b[A\n",
            "Eval:  22%|██▏       | 14/63 [00:00<00:01, 25.98it/s]\u001b[A\n",
            "Eval:  29%|██▊       | 18/63 [00:00<00:01, 28.57it/s]\u001b[A\n",
            "Eval:  35%|███▍      | 22/63 [00:00<00:01, 30.26it/s]\u001b[A\n",
            "Eval:  41%|████▏     | 26/63 [00:00<00:01, 31.12it/s]\u001b[A\n",
            "Eval:  48%|████▊     | 30/63 [00:01<00:01, 32.27it/s]\u001b[A\n",
            "Eval:  54%|█████▍    | 34/63 [00:01<00:00, 32.68it/s]\u001b[A\n",
            "Eval:  60%|██████    | 38/63 [00:01<00:00, 31.89it/s]\u001b[A\n",
            "Eval:  67%|██████▋   | 42/63 [00:01<00:00, 31.89it/s]\u001b[A\n",
            "Eval:  73%|███████▎  | 46/63 [00:01<00:00, 31.98it/s]\u001b[A\n",
            "Eval:  79%|███████▉  | 50/63 [00:01<00:00, 32.21it/s]\u001b[A\n",
            "Eval:  86%|████████▌ | 54/63 [00:01<00:00, 32.06it/s]\u001b[A\n",
            "Eval:  92%|█████████▏| 58/63 [00:01<00:00, 31.89it/s]\u001b[A\n",
            "Eval:  98%|█████████▊| 62/63 [00:02<00:00, 32.06it/s]\u001b[A\n",
            "Epoch 1: 100%|██████████| 13852/13852 [11:11<00:00,  3.26batch/s, loss=0.0154]"
          ]
        },
        {
          "output_type": "stream",
          "name": "stdout",
          "text": [
            "=====> val_acc:  0.98125\n",
            "\n",
            "Saved the model!\n"
          ]
        },
        {
          "output_type": "stream",
          "name": "stderr",
          "text": [
            "Epoch 1: 100%|██████████| 13852/13852 [11:11<00:00, 20.62batch/s, loss=0.0154]\n",
            "Epoch 2:  20%|█▉        | 2769/13852 [02:12<08:54, 20.72batch/s, loss=0.141] \n",
            "Eval:   0%|          | 0/63 [00:00<?, ?it/s]\u001b[A\n",
            "Eval:   2%|▏         | 1/63 [00:00<00:08,  7.02it/s]\u001b[A\n",
            "Eval:   8%|▊         | 5/63 [00:00<00:02, 21.64it/s]\u001b[A\n",
            "Eval:  14%|█▍        | 9/63 [00:00<00:02, 26.74it/s]\u001b[A\n",
            "Eval:  21%|██        | 13/63 [00:00<00:01, 29.52it/s]\u001b[A\n",
            "Eval:  27%|██▋       | 17/63 [00:00<00:01, 30.91it/s]\u001b[A\n",
            "Eval:  33%|███▎      | 21/63 [00:00<00:01, 32.01it/s]\u001b[A\n",
            "Eval:  40%|███▉      | 25/63 [00:00<00:01, 32.60it/s]\u001b[A\n",
            "Eval:  46%|████▌     | 29/63 [00:00<00:01, 33.06it/s]\u001b[A\n",
            "Eval:  52%|█████▏    | 33/63 [00:01<00:00, 33.46it/s]\u001b[A\n",
            "Eval:  59%|█████▊    | 37/63 [00:01<00:00, 33.05it/s]\u001b[A\n",
            "Eval:  65%|██████▌   | 41/63 [00:01<00:00, 32.19it/s]\u001b[A\n",
            "Eval:  71%|███████▏  | 45/63 [00:01<00:00, 32.27it/s]\u001b[A\n",
            "Eval:  78%|███████▊  | 49/63 [00:01<00:00, 32.49it/s]\u001b[A\n",
            "Eval:  84%|████████▍ | 53/63 [00:01<00:00, 32.68it/s]\u001b[A\n",
            "Eval:  90%|█████████ | 57/63 [00:01<00:00, 32.28it/s]\u001b[A\n",
            "Eval:  97%|█████████▋| 61/63 [00:01<00:00, 32.63it/s]\u001b[A\n",
            "Epoch 2:  20%|██        | 2772/13852 [02:14<49:28,  3.73batch/s, loss=0.0108]"
          ]
        },
        {
          "output_type": "stream",
          "name": "stdout",
          "text": [
            "=====> val_acc:  0.98125\n",
            "\n",
            "Saved the model!\n"
          ]
        },
        {
          "output_type": "stream",
          "name": "stderr",
          "text": [
            "Epoch 2:  40%|███▉      | 5538/13852 [04:26<06:33, 21.14batch/s, loss=0.00215]\n",
            "Eval:   0%|          | 0/63 [00:00<?, ?it/s]\u001b[A\n",
            "Eval:   2%|▏         | 1/63 [00:00<00:08,  7.47it/s]\u001b[A\n",
            "Eval:   8%|▊         | 5/63 [00:00<00:02, 22.19it/s]\u001b[A\n",
            "Eval:  14%|█▍        | 9/63 [00:00<00:02, 26.79it/s]\u001b[A\n",
            "Eval:  21%|██        | 13/63 [00:00<00:01, 28.84it/s]\u001b[A\n",
            "Eval:  27%|██▋       | 17/63 [00:00<00:01, 30.58it/s]\u001b[A\n",
            "Eval:  33%|███▎      | 21/63 [00:00<00:01, 31.73it/s]\u001b[A\n",
            "Eval:  40%|███▉      | 25/63 [00:00<00:01, 32.27it/s]\u001b[A\n",
            "Eval:  46%|████▌     | 29/63 [00:00<00:01, 33.10it/s]\u001b[A\n",
            "Eval:  52%|█████▏    | 33/63 [00:01<00:00, 33.41it/s]\u001b[A\n",
            "Eval:  59%|█████▊    | 37/63 [00:01<00:00, 33.07it/s]\u001b[A\n",
            "Eval:  65%|██████▌   | 41/63 [00:01<00:00, 32.30it/s]\u001b[A\n",
            "Eval:  71%|███████▏  | 45/63 [00:01<00:00, 32.35it/s]\u001b[A\n",
            "Eval:  78%|███████▊  | 49/63 [00:01<00:00, 32.56it/s]\u001b[A\n",
            "Eval:  84%|████████▍ | 53/63 [00:01<00:00, 32.72it/s]\u001b[A\n",
            "Eval:  90%|█████████ | 57/63 [00:01<00:00, 32.30it/s]\u001b[A\n",
            "Eval:  97%|█████████▋| 61/63 [00:01<00:00, 32.08it/s]\u001b[A\n",
            "Epoch 2:  40%|████      | 5541/13852 [04:29<37:05,  3.73batch/s, loss=0.03]"
          ]
        },
        {
          "output_type": "stream",
          "name": "stdout",
          "text": [
            "=====> val_acc:  0.98125\n",
            "\n",
            "Saved the model!\n"
          ]
        },
        {
          "output_type": "stream",
          "name": "stderr",
          "text": [
            "Epoch 2:  60%|█████▉    | 8309/13852 [06:41<04:20, 21.29batch/s, loss=0.031] \n",
            "Eval:   0%|          | 0/63 [00:00<?, ?it/s]\u001b[A\n",
            "Eval:   2%|▏         | 1/63 [00:00<00:08,  7.59it/s]\u001b[A\n",
            "Eval:   8%|▊         | 5/63 [00:00<00:02, 22.16it/s]\u001b[A\n",
            "Eval:  14%|█▍        | 9/63 [00:00<00:01, 27.19it/s]\u001b[A\n",
            "Eval:  21%|██        | 13/63 [00:00<00:01, 29.91it/s]\u001b[A\n",
            "Eval:  27%|██▋       | 17/63 [00:00<00:01, 31.23it/s]\u001b[A\n",
            "Eval:  33%|███▎      | 21/63 [00:00<00:01, 32.38it/s]\u001b[A\n",
            "Eval:  40%|███▉      | 25/63 [00:00<00:01, 32.77it/s]\u001b[A\n",
            "Eval:  46%|████▌     | 29/63 [00:00<00:01, 33.38it/s]\u001b[A\n",
            "Eval:  52%|█████▏    | 33/63 [00:01<00:00, 33.68it/s]\u001b[A\n",
            "Eval:  59%|█████▊    | 37/63 [00:01<00:00, 33.17it/s]\u001b[A\n",
            "Eval:  65%|██████▌   | 41/63 [00:01<00:00, 32.36it/s]\u001b[A\n",
            "Eval:  71%|███████▏  | 45/63 [00:01<00:00, 32.41it/s]\u001b[A\n",
            "Eval:  78%|███████▊  | 49/63 [00:01<00:00, 32.46it/s]\u001b[A\n",
            "Eval:  84%|████████▍ | 53/63 [00:01<00:00, 32.58it/s]\u001b[A\n",
            "Eval:  90%|█████████ | 57/63 [00:01<00:00, 32.17it/s]\u001b[A\n",
            "Eval:  97%|█████████▋| 61/63 [00:01<00:00, 32.60it/s]\u001b[A\n",
            "Epoch 2:  60%|██████    | 8312/13852 [06:43<24:30,  3.77batch/s, loss=0.00893]"
          ]
        },
        {
          "output_type": "stream",
          "name": "stdout",
          "text": [
            "=====> val_acc:  0.98075\n",
            "\n",
            "Saved the model!\n"
          ]
        },
        {
          "output_type": "stream",
          "name": "stderr",
          "text": [
            "Epoch 2:  80%|███████▉  | 11080/13852 [08:55<02:16, 20.32batch/s, loss=0.0716]\n",
            "Eval:   0%|          | 0/63 [00:00<?, ?it/s]\u001b[A\n",
            "Eval:   2%|▏         | 1/63 [00:00<00:08,  7.12it/s]\u001b[A\n",
            "Eval:   8%|▊         | 5/63 [00:00<00:02, 21.73it/s]\u001b[A\n",
            "Eval:  14%|█▍        | 9/63 [00:00<00:02, 26.98it/s]\u001b[A\n",
            "Eval:  21%|██        | 13/63 [00:00<00:01, 29.74it/s]\u001b[A\n",
            "Eval:  27%|██▋       | 17/63 [00:00<00:01, 31.06it/s]\u001b[A\n",
            "Eval:  33%|███▎      | 21/63 [00:00<00:01, 32.25it/s]\u001b[A\n",
            "Eval:  40%|███▉      | 25/63 [00:00<00:01, 32.75it/s]\u001b[A\n",
            "Eval:  46%|████▌     | 29/63 [00:00<00:01, 33.47it/s]\u001b[A\n",
            "Eval:  52%|█████▏    | 33/63 [00:01<00:00, 33.64it/s]\u001b[A\n",
            "Eval:  59%|█████▊    | 37/63 [00:01<00:00, 33.24it/s]\u001b[A\n",
            "Eval:  65%|██████▌   | 41/63 [00:01<00:00, 32.38it/s]\u001b[A\n",
            "Eval:  71%|███████▏  | 45/63 [00:01<00:00, 32.34it/s]\u001b[A\n",
            "Eval:  78%|███████▊  | 49/63 [00:01<00:00, 32.41it/s]\u001b[A\n",
            "Eval:  84%|████████▍ | 53/63 [00:01<00:00, 32.59it/s]\u001b[A\n",
            "Eval:  90%|█████████ | 57/63 [00:01<00:00, 32.29it/s]\u001b[A\n",
            "Eval:  97%|█████████▋| 61/63 [00:01<00:00, 32.65it/s]\u001b[A\n",
            "Epoch 2:  80%|███████▉  | 11080/13852 [08:57<02:16, 20.32batch/s, loss=0.0612]"
          ]
        },
        {
          "output_type": "stream",
          "name": "stdout",
          "text": [
            "=====> val_acc:  0.979\n",
            "\n",
            "Saved the model!\n"
          ]
        },
        {
          "output_type": "stream",
          "name": "stderr",
          "text": [
            "Epoch 2: 100%|█████████▉| 13849/13852 [11:09<00:00, 19.20batch/s, loss=0.012] \n",
            "Eval:   0%|          | 0/63 [00:00<?, ?it/s]\u001b[A\n",
            "Eval:   2%|▏         | 1/63 [00:00<00:08,  7.25it/s]\u001b[A\n",
            "Eval:   6%|▋         | 4/63 [00:00<00:03, 18.13it/s]\u001b[A\n",
            "Eval:  11%|█         | 7/63 [00:00<00:02, 22.07it/s]\u001b[A\n",
            "Eval:  16%|█▌        | 10/63 [00:00<00:02, 22.53it/s]\u001b[A\n",
            "Eval:  22%|██▏       | 14/63 [00:00<00:01, 25.95it/s]\u001b[A\n",
            "Eval:  29%|██▊       | 18/63 [00:00<00:01, 28.71it/s]\u001b[A\n",
            "Eval:  35%|███▍      | 22/63 [00:00<00:01, 30.30it/s]\u001b[A\n",
            "Eval:  41%|████▏     | 26/63 [00:00<00:01, 31.31it/s]\u001b[A\n",
            "Eval:  48%|████▊     | 30/63 [00:01<00:01, 32.41it/s]\u001b[A\n",
            "Eval:  54%|█████▍    | 34/63 [00:01<00:00, 32.94it/s]\u001b[A\n",
            "Eval:  60%|██████    | 38/63 [00:01<00:00, 32.02it/s]\u001b[A\n",
            "Eval:  67%|██████▋   | 42/63 [00:01<00:00, 32.07it/s]\u001b[A\n",
            "Eval:  73%|███████▎  | 46/63 [00:01<00:00, 32.07it/s]\u001b[A\n",
            "Eval:  79%|███████▉  | 50/63 [00:01<00:00, 32.11it/s]\u001b[A\n",
            "Eval:  86%|████████▌ | 54/63 [00:01<00:00, 32.42it/s]\u001b[A\n",
            "Eval:  92%|█████████▏| 58/63 [00:01<00:00, 32.15it/s]\u001b[A\n",
            "Eval:  98%|█████████▊| 62/63 [00:02<00:00, 32.59it/s]\u001b[A\n",
            "Epoch 2: 100%|█████████▉| 13851/13852 [11:11<00:00,  3.29batch/s, loss=0.00393]"
          ]
        },
        {
          "output_type": "stream",
          "name": "stdout",
          "text": [
            "=====> val_acc:  0.98\n",
            "\n",
            "Saved the model!\n"
          ]
        },
        {
          "output_type": "stream",
          "name": "stderr",
          "text": [
            "\rEpoch 2: 100%|██████████| 13852/13852 [11:12<00:00, 20.61batch/s, loss=0.00393]\n"
          ]
        },
        {
          "output_type": "display_data",
          "data": {
            "text/plain": [
              "<IPython.core.display.HTML object>"
            ],
            "text/html": [
              "Waiting for W&B process to finish... <strong style=\"color:green\">(success).</strong>"
            ]
          },
          "metadata": {}
        },
        {
          "output_type": "display_data",
          "data": {
            "text/plain": [
              "VBox(children=(Label(value='0.001 MB of 0.001 MB uploaded (0.000 MB deduped)\\r'), FloatProgress(value=1.0, max…"
            ],
            "application/vnd.jupyter.widget-view+json": {
              "version_major": 2,
              "version_minor": 0,
              "model_id": "2a16152edc964d52bf089920f3ba80d7"
            }
          },
          "metadata": {}
        },
        {
          "output_type": "display_data",
          "data": {
            "text/plain": [
              "<IPython.core.display.HTML object>"
            ],
            "text/html": [
              "<style>\n",
              "    table.wandb td:nth-child(1) { padding: 0 10px; text-align: left ; width: auto;} td:nth-child(2) {text-align: left ; width: 100%}\n",
              "    .wandb-row { display: flex; flex-direction: row; flex-wrap: wrap; justify-content: flex-start; width: 100% }\n",
              "    .wandb-col { display: flex; flex-direction: column; flex-basis: 100%; flex: 1; padding: 10px; }\n",
              "    </style>\n",
              "<div class=\"wandb-row\"><div class=\"wandb-col\"><h3>Run history:</h3><br/><table class=\"wandb\"><tr><td>train/epoch</td><td>▁▁▁▁▁▁▁▁▁▁▁▁▁▁▅▅▅▅▅▅▅▅▅▅▅▅▅█████████████</td></tr><tr><td>train/train_loss</td><td>▅▅▂▆▂▂▂▂▂▁▁▂▄▁▄▁▁▁▁▁▃▃▄▅▁▂▁▂▅▂▁▁▁▁▄█▃▁▁▁</td></tr><tr><td>val/val_accuracy</td><td>▁▂▃▄▄▄▁▂█▆▆▆▆▄▅</td></tr><tr><td>val/val_loss</td><td>█▅▅▅▃▃▇▄▁▃▁▃▁▄▂</td></tr></table><br/></div><div class=\"wandb-col\"><h3>Run summary:</h3><br/><table class=\"wandb\"><tr><td>train/epoch</td><td>2</td></tr><tr><td>train/train_loss</td><td>0.00393</td></tr><tr><td>val/val_accuracy</td><td>0.98</td></tr><tr><td>val/val_loss</td><td>0.05393</td></tr></table><br/></div></div>"
            ]
          },
          "metadata": {}
        },
        {
          "output_type": "display_data",
          "data": {
            "text/plain": [
              "<IPython.core.display.HTML object>"
            ],
            "text/html": [
              "Synced <strong style=\"color:#cdcd00\">sweet-sweep-3</strong>: <a href=\"https://wandb.ai/goorm/albert-baseCase3/runs/qp2cxhgq\" target=\"_blank\">https://wandb.ai/goorm/albert-baseCase3/runs/qp2cxhgq</a><br/>Synced 5 W&B file(s), 0 media file(s), 0 artifact file(s) and 0 other file(s)"
            ]
          },
          "metadata": {}
        },
        {
          "output_type": "display_data",
          "data": {
            "text/plain": [
              "<IPython.core.display.HTML object>"
            ],
            "text/html": [
              "Find logs at: <code>./wandb/run-20221230_073524-qp2cxhgq/logs</code>"
            ]
          },
          "metadata": {}
        },
        {
          "output_type": "stream",
          "name": "stderr",
          "text": [
            "\u001b[34m\u001b[1mwandb\u001b[0m: Sweep Agent: Waiting for job.\n",
            "\u001b[34m\u001b[1mwandb\u001b[0m: Job received.\n",
            "\u001b[34m\u001b[1mwandb\u001b[0m: Agent Starting Run: 2tbfevmd with config:\n",
            "\u001b[34m\u001b[1mwandb\u001b[0m: \tbatch_size: 32\n",
            "\u001b[34m\u001b[1mwandb\u001b[0m: \tepochs: 3\n",
            "\u001b[34m\u001b[1mwandb\u001b[0m: \tlr: 1e-05\n",
            "\u001b[34m\u001b[1mwandb\u001b[0m: \toptimizer: adamw\n",
            "\u001b[34m\u001b[1mwandb\u001b[0m: \tweight_decay: 0.0001\n",
            "Failed to detect the name of this notebook, you can set it manually with the WANDB_NOTEBOOK_NAME environment variable to enable code saving.\n",
            "\u001b[34m\u001b[1mwandb\u001b[0m: \u001b[33mWARNING\u001b[0m Ignored wandb.init() arg project when running a sweep.\n"
          ]
        },
        {
          "output_type": "display_data",
          "data": {
            "text/plain": [
              "<IPython.core.display.HTML object>"
            ],
            "text/html": [
              "Tracking run with wandb version 0.13.7"
            ]
          },
          "metadata": {}
        },
        {
          "output_type": "display_data",
          "data": {
            "text/plain": [
              "<IPython.core.display.HTML object>"
            ],
            "text/html": [
              "Run data is saved locally in <code>/content/wandb/run-20221230_080921-2tbfevmd</code>"
            ]
          },
          "metadata": {}
        },
        {
          "output_type": "display_data",
          "data": {
            "text/plain": [
              "<IPython.core.display.HTML object>"
            ],
            "text/html": [
              "Syncing run <strong><a href=\"https://wandb.ai/goorm/albert-baseCase3/runs/2tbfevmd\" target=\"_blank\">wild-sweep-4</a></strong> to <a href=\"https://wandb.ai/goorm/albert-baseCase3\" target=\"_blank\">Weights & Biases</a> (<a href=\"https://wandb.me/run\" target=\"_blank\">docs</a>)<br/>Sweep page:  <a href=\"https://wandb.ai/goorm/albert-baseCase3/sweeps/u9osbunp\" target=\"_blank\">https://wandb.ai/goorm/albert-baseCase3/sweeps/u9osbunp</a>"
            ]
          },
          "metadata": {}
        },
        {
          "output_type": "stream",
          "name": "stderr",
          "text": [
            "/usr/local/lib/python3.8/dist-packages/transformers/optimization.py:306: FutureWarning: This implementation of AdamW is deprecated and will be removed in a future version. Use the PyTorch implementation torch.optim.AdamW instead, or set `no_deprecation_warning=True` to disable this warning\n",
            "  warnings.warn(\n",
            "Epoch 0:  20%|█▉        | 2770/13852 [02:13<08:45, 21.10batch/s, loss=0.0225]\n",
            "Eval:   0%|          | 0/63 [00:00<?, ?it/s]\u001b[A\n",
            "Eval:   2%|▏         | 1/63 [00:00<00:08,  7.57it/s]\u001b[A\n",
            "Eval:   8%|▊         | 5/63 [00:00<00:02, 22.16it/s]\u001b[A\n",
            "Eval:  14%|█▍        | 9/63 [00:00<00:01, 27.08it/s]\u001b[A\n",
            "Eval:  21%|██        | 13/63 [00:00<00:01, 29.60it/s]\u001b[A\n",
            "Eval:  27%|██▋       | 17/63 [00:00<00:01, 30.86it/s]\u001b[A\n",
            "Eval:  33%|███▎      | 21/63 [00:00<00:01, 31.91it/s]\u001b[A\n",
            "Eval:  40%|███▉      | 25/63 [00:00<00:01, 32.53it/s]\u001b[A\n",
            "Eval:  46%|████▌     | 29/63 [00:00<00:01, 33.04it/s]\u001b[A\n",
            "Eval:  52%|█████▏    | 33/63 [00:01<00:00, 33.32it/s]\u001b[A\n",
            "Eval:  59%|█████▊    | 37/63 [00:01<00:00, 33.06it/s]\u001b[A\n",
            "Eval:  65%|██████▌   | 41/63 [00:01<00:00, 32.06it/s]\u001b[A\n",
            "Eval:  71%|███████▏  | 45/63 [00:01<00:00, 31.99it/s]\u001b[A\n",
            "Eval:  78%|███████▊  | 49/63 [00:01<00:00, 32.29it/s]\u001b[A\n",
            "Eval:  84%|████████▍ | 53/63 [00:01<00:00, 32.51it/s]\u001b[A\n",
            "Eval:  90%|█████████ | 57/63 [00:01<00:00, 32.20it/s]\u001b[A\n",
            "Eval:  97%|█████████▋| 61/63 [00:01<00:00, 32.40it/s]\u001b[A\n",
            "Epoch 0:  20%|██        | 2773/13852 [02:15<48:57,  3.77batch/s, loss=0.0914]"
          ]
        },
        {
          "output_type": "stream",
          "name": "stdout",
          "text": [
            "=====> val_acc:  0.9815\n",
            "\n",
            "Saved the model!\n"
          ]
        },
        {
          "output_type": "stream",
          "name": "stderr",
          "text": [
            "Epoch 0:  40%|███▉      | 5539/13852 [04:27<06:32, 21.17batch/s, loss=0.00226]\n",
            "Eval:   0%|          | 0/63 [00:00<?, ?it/s]\u001b[A\n",
            "Eval:   2%|▏         | 1/63 [00:00<00:08,  7.60it/s]\u001b[A\n",
            "Eval:   8%|▊         | 5/63 [00:00<00:02, 22.14it/s]\u001b[A\n",
            "Eval:  14%|█▍        | 9/63 [00:00<00:01, 27.06it/s]\u001b[A\n",
            "Eval:  21%|██        | 13/63 [00:00<00:01, 29.57it/s]\u001b[A\n",
            "Eval:  27%|██▋       | 17/63 [00:00<00:01, 30.81it/s]\u001b[A\n",
            "Eval:  33%|███▎      | 21/63 [00:00<00:01, 31.97it/s]\u001b[A\n",
            "Eval:  40%|███▉      | 25/63 [00:00<00:01, 32.51it/s]\u001b[A\n",
            "Eval:  46%|████▌     | 29/63 [00:00<00:01, 33.18it/s]\u001b[A\n",
            "Eval:  52%|█████▏    | 33/63 [00:01<00:00, 33.31it/s]\u001b[A\n",
            "Eval:  59%|█████▊    | 37/63 [00:01<00:00, 32.97it/s]\u001b[A\n",
            "Eval:  65%|██████▌   | 41/63 [00:01<00:00, 32.21it/s]\u001b[A\n",
            "Eval:  71%|███████▏  | 45/63 [00:01<00:00, 32.16it/s]\u001b[A\n",
            "Eval:  78%|███████▊  | 49/63 [00:01<00:00, 32.36it/s]\u001b[A\n",
            "Eval:  84%|████████▍ | 53/63 [00:01<00:00, 32.47it/s]\u001b[A\n",
            "Eval:  90%|█████████ | 57/63 [00:01<00:00, 32.10it/s]\u001b[A\n",
            "Eval:  97%|█████████▋| 61/63 [00:01<00:00, 32.49it/s]\u001b[A\n",
            "Epoch 0:  40%|████      | 5542/13852 [04:29<36:44,  3.77batch/s, loss=0.0229] "
          ]
        },
        {
          "output_type": "stream",
          "name": "stdout",
          "text": [
            "=====> val_acc:  0.98175\n",
            "\n",
            "Saved the model!\n"
          ]
        },
        {
          "output_type": "stream",
          "name": "stderr",
          "text": [
            "Epoch 0:  60%|█████▉    | 8308/13852 [06:42<04:27, 20.76batch/s, loss=0.00154] \n",
            "Eval:   0%|          | 0/63 [00:00<?, ?it/s]\u001b[A\n",
            "Eval:   2%|▏         | 1/63 [00:00<00:08,  7.31it/s]\u001b[A\n",
            "Eval:   8%|▊         | 5/63 [00:00<00:02, 22.32it/s]\u001b[A\n",
            "Eval:  14%|█▍        | 9/63 [00:00<00:01, 27.37it/s]\u001b[A\n",
            "Eval:  21%|██        | 13/63 [00:00<00:01, 29.97it/s]\u001b[A\n",
            "Eval:  27%|██▋       | 17/63 [00:00<00:01, 31.35it/s]\u001b[A\n",
            "Eval:  33%|███▎      | 21/63 [00:00<00:01, 32.29it/s]\u001b[A\n",
            "Eval:  40%|███▉      | 25/63 [00:00<00:01, 32.57it/s]\u001b[A\n",
            "Eval:  46%|████▌     | 29/63 [00:00<00:01, 33.32it/s]\u001b[A\n",
            "Eval:  52%|█████▏    | 33/63 [00:01<00:00, 33.23it/s]\u001b[A\n",
            "Eval:  59%|█████▊    | 37/63 [00:01<00:00, 32.75it/s]\u001b[A\n",
            "Eval:  65%|██████▌   | 41/63 [00:01<00:00, 32.11it/s]\u001b[A\n",
            "Eval:  71%|███████▏  | 45/63 [00:01<00:00, 32.17it/s]\u001b[A\n",
            "Eval:  78%|███████▊  | 49/63 [00:01<00:00, 32.40it/s]\u001b[A\n",
            "Eval:  84%|████████▍ | 53/63 [00:01<00:00, 32.57it/s]\u001b[A\n",
            "Eval:  90%|█████████ | 57/63 [00:01<00:00, 32.17it/s]\u001b[A\n",
            "Eval:  97%|█████████▋| 61/63 [00:01<00:00, 32.54it/s]\u001b[A\n",
            "Epoch 0:  60%|█████▉    | 8311/13852 [06:44<24:31,  3.77batch/s, loss=0.0131]"
          ]
        },
        {
          "output_type": "stream",
          "name": "stdout",
          "text": [
            "=====> val_acc:  0.9825\n",
            "\n",
            "Saved the model!\n"
          ]
        },
        {
          "output_type": "stream",
          "name": "stderr",
          "text": [
            "Epoch 0:  80%|███████▉  | 11079/13852 [08:57<02:12, 20.99batch/s, loss=0.0245] \n",
            "Eval:   0%|          | 0/63 [00:00<?, ?it/s]\u001b[A\n",
            "Eval:   2%|▏         | 1/63 [00:00<00:08,  7.58it/s]\u001b[A\n",
            "Eval:   8%|▊         | 5/63 [00:00<00:02, 22.22it/s]\u001b[A\n",
            "Eval:  14%|█▍        | 9/63 [00:00<00:01, 27.25it/s]\u001b[A\n",
            "Eval:  21%|██        | 13/63 [00:00<00:01, 29.66it/s]\u001b[A\n",
            "Eval:  27%|██▋       | 17/63 [00:00<00:01, 31.05it/s]\u001b[A\n",
            "Eval:  33%|███▎      | 21/63 [00:00<00:01, 32.10it/s]\u001b[A\n",
            "Eval:  40%|███▉      | 25/63 [00:00<00:01, 32.54it/s]\u001b[A\n",
            "Eval:  46%|████▌     | 29/63 [00:00<00:01, 33.03it/s]\u001b[A\n",
            "Eval:  52%|█████▏    | 33/63 [00:01<00:00, 33.17it/s]\u001b[A\n",
            "Eval:  59%|█████▊    | 37/63 [00:01<00:00, 32.72it/s]\u001b[A\n",
            "Eval:  65%|██████▌   | 41/63 [00:01<00:00, 31.97it/s]\u001b[A\n",
            "Eval:  71%|███████▏  | 45/63 [00:01<00:00, 30.86it/s]\u001b[A\n",
            "Eval:  78%|███████▊  | 49/63 [00:01<00:00, 31.25it/s]\u001b[A\n",
            "Eval:  84%|████████▍ | 53/63 [00:01<00:00, 31.69it/s]\u001b[A\n",
            "Eval:  90%|█████████ | 57/63 [00:01<00:00, 31.61it/s]\u001b[A\n",
            "Eval:  97%|█████████▋| 61/63 [00:01<00:00, 32.02it/s]\u001b[A\n",
            "Epoch 0:  80%|████████  | 11082/13852 [08:59<12:23,  3.73batch/s, loss=0.0336]"
          ]
        },
        {
          "output_type": "stream",
          "name": "stdout",
          "text": [
            "=====> val_acc:  0.98175\n",
            "\n",
            "Saved the model!\n"
          ]
        },
        {
          "output_type": "stream",
          "name": "stderr",
          "text": [
            "Epoch 0: 100%|█████████▉| 13848/13852 [11:12<00:00, 19.06batch/s, loss=0.00136]\n",
            "Eval:   0%|          | 0/63 [00:00<?, ?it/s]\u001b[A\n",
            "Eval:   2%|▏         | 1/63 [00:00<00:08,  7.58it/s]\u001b[A\n",
            "Eval:   8%|▊         | 5/63 [00:00<00:02, 22.31it/s]\u001b[A\n",
            "Eval:  14%|█▍        | 9/63 [00:00<00:01, 27.31it/s]\u001b[A\n",
            "Eval:  21%|██        | 13/63 [00:00<00:01, 30.05it/s]\u001b[A\n",
            "Eval:  27%|██▋       | 17/63 [00:00<00:01, 31.26it/s]\u001b[A\n",
            "Eval:  33%|███▎      | 21/63 [00:00<00:01, 32.41it/s]\u001b[A\n",
            "Eval:  40%|███▉      | 25/63 [00:00<00:01, 32.87it/s]\u001b[A\n",
            "Eval:  46%|████▌     | 29/63 [00:00<00:01, 33.49it/s]\u001b[A\n",
            "Eval:  52%|█████▏    | 33/63 [00:01<00:00, 33.64it/s]\u001b[A\n",
            "Eval:  59%|█████▊    | 37/63 [00:01<00:00, 33.24it/s]\u001b[A\n",
            "Eval:  65%|██████▌   | 41/63 [00:01<00:00, 32.29it/s]\u001b[A\n",
            "Eval:  71%|███████▏  | 45/63 [00:01<00:00, 32.20it/s]\u001b[A\n",
            "Eval:  78%|███████▊  | 49/63 [00:01<00:00, 32.38it/s]\u001b[A\n",
            "Eval:  84%|████████▍ | 53/63 [00:01<00:00, 32.56it/s]\u001b[A\n",
            "Eval:  90%|█████████ | 57/63 [00:01<00:00, 32.20it/s]\u001b[A\n",
            "Eval:  97%|█████████▋| 61/63 [00:01<00:00, 32.55it/s]\u001b[A\n",
            "Epoch 0: 100%|█████████▉| 13851/13852 [11:14<00:00,  3.72batch/s, loss=0.0355] "
          ]
        },
        {
          "output_type": "stream",
          "name": "stdout",
          "text": [
            "=====> val_acc:  0.98225\n",
            "\n",
            "Saved the model!\n"
          ]
        },
        {
          "output_type": "stream",
          "name": "stderr",
          "text": [
            "Epoch 0: 100%|██████████| 13852/13852 [11:14<00:00, 20.54batch/s, loss=0.0355]\n",
            "Epoch 1:  20%|█▉        | 2768/13852 [02:12<08:50, 20.90batch/s, loss=0.00232]\n",
            "Eval:   0%|          | 0/63 [00:00<?, ?it/s]\u001b[A\n",
            "Eval:   2%|▏         | 1/63 [00:00<00:08,  7.51it/s]\u001b[A\n",
            "Eval:   8%|▊         | 5/63 [00:00<00:02, 22.21it/s]\u001b[A\n",
            "Eval:  14%|█▍        | 9/63 [00:00<00:01, 27.20it/s]\u001b[A\n",
            "Eval:  21%|██        | 13/63 [00:00<00:01, 29.14it/s]\u001b[A\n",
            "Eval:  27%|██▋       | 17/63 [00:00<00:01, 30.48it/s]\u001b[A\n",
            "Eval:  33%|███▎      | 21/63 [00:00<00:01, 31.62it/s]\u001b[A\n",
            "Eval:  40%|███▉      | 25/63 [00:00<00:01, 32.21it/s]\u001b[A\n",
            "Eval:  46%|████▌     | 29/63 [00:00<00:01, 32.98it/s]\u001b[A\n",
            "Eval:  52%|█████▏    | 33/63 [00:01<00:00, 33.26it/s]\u001b[A\n",
            "Eval:  59%|█████▊    | 37/63 [00:01<00:00, 32.85it/s]\u001b[A\n",
            "Eval:  65%|██████▌   | 41/63 [00:01<00:00, 32.05it/s]\u001b[A\n",
            "Eval:  71%|███████▏  | 45/63 [00:01<00:00, 32.02it/s]\u001b[A\n",
            "Eval:  78%|███████▊  | 49/63 [00:01<00:00, 31.98it/s]\u001b[A\n",
            "Eval:  84%|████████▍ | 53/63 [00:01<00:00, 32.24it/s]\u001b[A\n",
            "Eval:  90%|█████████ | 57/63 [00:01<00:00, 31.97it/s]\u001b[A\n",
            "Eval:  97%|█████████▋| 61/63 [00:01<00:00, 32.40it/s]\u001b[A\n",
            "Epoch 1:  20%|██        | 2771/13852 [02:15<49:32,  3.73batch/s, loss=0.0111]"
          ]
        },
        {
          "output_type": "stream",
          "name": "stdout",
          "text": [
            "=====> val_acc:  0.981\n",
            "\n",
            "Saved the model!\n"
          ]
        },
        {
          "output_type": "stream",
          "name": "stderr",
          "text": [
            "Epoch 1:  40%|███▉      | 5539/13852 [04:27<06:46, 20.47batch/s, loss=0.0348]\n",
            "Eval:   0%|          | 0/63 [00:00<?, ?it/s]\u001b[A\n",
            "Eval:   2%|▏         | 1/63 [00:00<00:08,  7.51it/s]\u001b[A\n",
            "Eval:   8%|▊         | 5/63 [00:00<00:02, 22.06it/s]\u001b[A\n",
            "Eval:  14%|█▍        | 9/63 [00:00<00:02, 26.81it/s]\u001b[A\n",
            "Eval:  21%|██        | 13/63 [00:00<00:01, 29.53it/s]\u001b[A\n",
            "Eval:  27%|██▋       | 17/63 [00:00<00:01, 31.10it/s]\u001b[A\n",
            "Eval:  33%|███▎      | 21/63 [00:00<00:01, 32.24it/s]\u001b[A\n",
            "Eval:  40%|███▉      | 25/63 [00:00<00:01, 32.65it/s]\u001b[A\n",
            "Eval:  46%|████▌     | 29/63 [00:00<00:01, 33.14it/s]\u001b[A\n",
            "Eval:  52%|█████▏    | 33/63 [00:01<00:00, 33.39it/s]\u001b[A\n",
            "Eval:  59%|█████▊    | 37/63 [00:01<00:00, 33.00it/s]\u001b[A\n",
            "Eval:  65%|██████▌   | 41/63 [00:01<00:00, 32.14it/s]\u001b[A\n",
            "Eval:  71%|███████▏  | 45/63 [00:01<00:00, 32.19it/s]\u001b[A\n",
            "Eval:  78%|███████▊  | 49/63 [00:01<00:00, 32.43it/s]\u001b[A\n",
            "Eval:  84%|████████▍ | 53/63 [00:01<00:00, 32.63it/s]\u001b[A\n",
            "Eval:  90%|█████████ | 57/63 [00:01<00:00, 32.21it/s]\u001b[A\n",
            "Eval:  97%|█████████▋| 61/63 [00:01<00:00, 32.48it/s]\u001b[A\n",
            "Epoch 1:  40%|████      | 5542/13852 [04:30<37:06,  3.73batch/s, loss=0.00513]"
          ]
        },
        {
          "output_type": "stream",
          "name": "stdout",
          "text": [
            "=====> val_acc:  0.981\n",
            "\n",
            "Saved the model!\n"
          ]
        },
        {
          "output_type": "stream",
          "name": "stderr",
          "text": [
            "Epoch 1:  60%|█████▉    | 8308/13852 [06:42<04:26, 20.83batch/s, loss=0.00377]\n",
            "Eval:   0%|          | 0/63 [00:00<?, ?it/s]\u001b[A\n",
            "Eval:   2%|▏         | 1/63 [00:00<00:08,  7.52it/s]\u001b[A\n",
            "Eval:   8%|▊         | 5/63 [00:00<00:02, 22.08it/s]\u001b[A\n",
            "Eval:  14%|█▍        | 9/63 [00:00<00:01, 27.19it/s]\u001b[A\n",
            "Eval:  21%|██        | 13/63 [00:00<00:01, 29.78it/s]\u001b[A\n",
            "Eval:  27%|██▋       | 17/63 [00:00<00:01, 30.91it/s]\u001b[A\n",
            "Eval:  33%|███▎      | 21/63 [00:00<00:01, 32.01it/s]\u001b[A\n",
            "Eval:  40%|███▉      | 25/63 [00:00<00:01, 32.58it/s]\u001b[A\n",
            "Eval:  46%|████▌     | 29/63 [00:00<00:01, 32.91it/s]\u001b[A\n",
            "Eval:  52%|█████▏    | 33/63 [00:01<00:00, 33.31it/s]\u001b[A\n",
            "Eval:  59%|█████▊    | 37/63 [00:01<00:00, 33.02it/s]\u001b[A\n",
            "Eval:  65%|██████▌   | 41/63 [00:01<00:00, 32.19it/s]\u001b[A\n",
            "Eval:  71%|███████▏  | 45/63 [00:01<00:00, 32.23it/s]\u001b[A\n",
            "Eval:  78%|███████▊  | 49/63 [00:01<00:00, 32.46it/s]\u001b[A\n",
            "Eval:  84%|████████▍ | 53/63 [00:01<00:00, 32.36it/s]\u001b[A\n",
            "Eval:  90%|█████████ | 57/63 [00:01<00:00, 32.02it/s]\u001b[A\n",
            "Eval:  97%|█████████▋| 61/63 [00:01<00:00, 32.13it/s]\u001b[A\n",
            "Epoch 1:  60%|█████▉    | 8311/13852 [06:45<24:50,  3.72batch/s, loss=0.00118]"
          ]
        },
        {
          "output_type": "stream",
          "name": "stdout",
          "text": [
            "=====> val_acc:  0.981\n",
            "\n",
            "Saved the model!\n"
          ]
        },
        {
          "output_type": "stream",
          "name": "stderr",
          "text": [
            "Epoch 1:  80%|███████▉  | 11079/13852 [08:57<02:10, 21.19batch/s, loss=0.00289] \n",
            "Eval:   0%|          | 0/63 [00:00<?, ?it/s]\u001b[A\n",
            "Eval:   2%|▏         | 1/63 [00:00<00:08,  7.62it/s]\u001b[A\n",
            "Eval:   8%|▊         | 5/63 [00:00<00:02, 22.29it/s]\u001b[A\n",
            "Eval:  14%|█▍        | 9/63 [00:00<00:01, 27.18it/s]\u001b[A\n",
            "Eval:  21%|██        | 13/63 [00:00<00:01, 29.89it/s]\u001b[A\n",
            "Eval:  27%|██▋       | 17/63 [00:00<00:01, 31.27it/s]\u001b[A\n",
            "Eval:  33%|███▎      | 21/63 [00:00<00:01, 32.29it/s]\u001b[A\n",
            "Eval:  40%|███▉      | 25/63 [00:00<00:01, 32.83it/s]\u001b[A\n",
            "Eval:  46%|████▌     | 29/63 [00:00<00:01, 32.80it/s]\u001b[A\n",
            "Eval:  52%|█████▏    | 33/63 [00:01<00:00, 33.14it/s]\u001b[A\n",
            "Eval:  59%|█████▊    | 37/63 [00:01<00:00, 32.79it/s]\u001b[A\n",
            "Eval:  65%|██████▌   | 41/63 [00:01<00:00, 32.02it/s]\u001b[A\n",
            "Eval:  71%|███████▏  | 45/63 [00:01<00:00, 32.05it/s]\u001b[A\n",
            "Eval:  78%|███████▊  | 49/63 [00:01<00:00, 32.33it/s]\u001b[A\n",
            "Eval:  84%|████████▍ | 53/63 [00:01<00:00, 32.49it/s]\u001b[A\n",
            "Eval:  90%|█████████ | 57/63 [00:01<00:00, 32.23it/s]\u001b[A\n",
            "Eval:  97%|█████████▋| 61/63 [00:01<00:00, 32.46it/s]\u001b[A\n",
            "Epoch 1:  80%|████████  | 11082/13852 [08:59<12:19,  3.74batch/s, loss=0.000617]"
          ]
        },
        {
          "output_type": "stream",
          "name": "stdout",
          "text": [
            "=====> val_acc:  0.981\n",
            "\n",
            "Saved the model!\n"
          ]
        },
        {
          "output_type": "stream",
          "name": "stderr",
          "text": [
            "Epoch 1: 100%|█████████▉| 13850/13852 [11:12<00:00, 19.26batch/s, loss=0.0521]\n",
            "Eval:   0%|          | 0/63 [00:00<?, ?it/s]\u001b[A\n",
            "Eval:   2%|▏         | 1/63 [00:00<00:08,  7.33it/s]\u001b[A\n",
            "Eval:   8%|▊         | 5/63 [00:00<00:02, 22.09it/s]\u001b[A\n",
            "Eval:  14%|█▍        | 9/63 [00:00<00:01, 27.03it/s]\u001b[A\n",
            "Eval:  21%|██        | 13/63 [00:00<00:01, 29.58it/s]\u001b[A\n",
            "Eval:  27%|██▋       | 17/63 [00:00<00:01, 30.98it/s]\u001b[A\n",
            "Eval:  33%|███▎      | 21/63 [00:00<00:01, 32.06it/s]\u001b[A\n",
            "Eval:  40%|███▉      | 25/63 [00:00<00:01, 32.64it/s]\u001b[A\n",
            "Eval:  46%|████▌     | 29/63 [00:00<00:01, 33.27it/s]\u001b[A\n",
            "Eval:  52%|█████▏    | 33/63 [00:01<00:00, 33.59it/s]\u001b[A\n",
            "Eval:  59%|█████▊    | 37/63 [00:01<00:00, 33.17it/s]\u001b[A\n",
            "Eval:  65%|██████▌   | 41/63 [00:01<00:00, 32.40it/s]\u001b[A\n",
            "Eval:  71%|███████▏  | 45/63 [00:01<00:00, 32.45it/s]\u001b[A\n",
            "Eval:  78%|███████▊  | 49/63 [00:01<00:00, 32.63it/s]\u001b[A\n",
            "Eval:  84%|████████▍ | 53/63 [00:01<00:00, 32.75it/s]\u001b[A\n",
            "Eval:  90%|█████████ | 57/63 [00:01<00:00, 32.45it/s]\u001b[A\n",
            "Eval:  97%|█████████▋| 61/63 [00:01<00:00, 32.77it/s]\u001b[A\n",
            "Epoch 1: 100%|██████████| 13852/13852 [11:14<00:00,  3.40batch/s, loss=0.0592]"
          ]
        },
        {
          "output_type": "stream",
          "name": "stdout",
          "text": [
            "=====> val_acc:  0.98075\n",
            "\n",
            "Saved the model!\n"
          ]
        },
        {
          "output_type": "stream",
          "name": "stderr",
          "text": [
            "Epoch 1: 100%|██████████| 13852/13852 [11:14<00:00, 20.52batch/s, loss=0.0592]\n",
            "Epoch 2:  20%|█▉        | 2768/13852 [02:13<08:50, 20.89batch/s, loss=0.00463]\n",
            "Eval:   0%|          | 0/63 [00:00<?, ?it/s]\u001b[A\n",
            "Eval:   2%|▏         | 1/63 [00:00<00:08,  7.53it/s]\u001b[A\n",
            "Eval:   8%|▊         | 5/63 [00:00<00:02, 21.91it/s]\u001b[A\n",
            "Eval:  14%|█▍        | 9/63 [00:00<00:02, 26.77it/s]\u001b[A\n",
            "Eval:  21%|██        | 13/63 [00:00<00:01, 29.42it/s]\u001b[A\n",
            "Eval:  27%|██▋       | 17/63 [00:00<00:01, 30.75it/s]\u001b[A\n",
            "Eval:  33%|███▎      | 21/63 [00:00<00:01, 31.93it/s]\u001b[A\n",
            "Eval:  40%|███▉      | 25/63 [00:00<00:01, 32.59it/s]\u001b[A\n",
            "Eval:  46%|████▌     | 29/63 [00:00<00:01, 33.35it/s]\u001b[A\n",
            "Eval:  52%|█████▏    | 33/63 [00:01<00:00, 33.58it/s]\u001b[A\n",
            "Eval:  59%|█████▊    | 37/63 [00:01<00:00, 32.70it/s]\u001b[A\n",
            "Eval:  65%|██████▌   | 41/63 [00:01<00:00, 32.01it/s]\u001b[A\n",
            "Eval:  71%|███████▏  | 45/63 [00:01<00:00, 31.98it/s]\u001b[A\n",
            "Eval:  78%|███████▊  | 49/63 [00:01<00:00, 32.25it/s]\u001b[A\n",
            "Eval:  84%|████████▍ | 53/63 [00:01<00:00, 32.49it/s]\u001b[A\n",
            "Eval:  90%|█████████ | 57/63 [00:01<00:00, 32.11it/s]\u001b[A\n",
            "Eval:  97%|█████████▋| 61/63 [00:01<00:00, 32.53it/s]\u001b[A\n",
            "Epoch 2:  20%|██        | 2771/13852 [02:15<49:37,  3.72batch/s, loss=0.00497]"
          ]
        },
        {
          "output_type": "stream",
          "name": "stdout",
          "text": [
            "=====> val_acc:  0.97825\n",
            "\n",
            "Saved the model!\n"
          ]
        },
        {
          "output_type": "stream",
          "name": "stderr",
          "text": [
            "Epoch 2:  40%|███▉      | 5539/13852 [04:28<06:40, 20.75batch/s, loss=0.00238]\n",
            "Eval:   0%|          | 0/63 [00:00<?, ?it/s]\u001b[A\n",
            "Eval:   2%|▏         | 1/63 [00:00<00:08,  7.39it/s]\u001b[A\n",
            "Eval:   8%|▊         | 5/63 [00:00<00:02, 22.16it/s]\u001b[A\n",
            "Eval:  14%|█▍        | 9/63 [00:00<00:01, 27.05it/s]\u001b[A\n",
            "Eval:  21%|██        | 13/63 [00:00<00:01, 29.75it/s]\u001b[A\n",
            "Eval:  27%|██▋       | 17/63 [00:00<00:01, 30.90it/s]\u001b[A\n",
            "Eval:  33%|███▎      | 21/63 [00:00<00:01, 32.11it/s]\u001b[A\n",
            "Eval:  40%|███▉      | 25/63 [00:00<00:01, 32.64it/s]\u001b[A\n",
            "Eval:  46%|████▌     | 29/63 [00:00<00:01, 33.41it/s]\u001b[A\n",
            "Eval:  52%|█████▏    | 33/63 [00:01<00:00, 33.60it/s]\u001b[A\n",
            "Eval:  59%|█████▊    | 37/63 [00:01<00:00, 33.13it/s]\u001b[A\n",
            "Eval:  65%|██████▌   | 41/63 [00:01<00:00, 32.28it/s]\u001b[A\n",
            "Eval:  71%|███████▏  | 45/63 [00:01<00:00, 32.13it/s]\u001b[A\n",
            "Eval:  78%|███████▊  | 49/63 [00:01<00:00, 32.29it/s]\u001b[A\n",
            "Eval:  84%|████████▍ | 53/63 [00:01<00:00, 32.49it/s]\u001b[A\n",
            "Eval:  90%|█████████ | 57/63 [00:01<00:00, 32.09it/s]\u001b[A\n",
            "Eval:  97%|█████████▋| 61/63 [00:01<00:00, 32.34it/s]\u001b[A\n",
            "Epoch 2:  40%|████      | 5542/13852 [04:30<36:54,  3.75batch/s, loss=0.00217]"
          ]
        },
        {
          "output_type": "stream",
          "name": "stdout",
          "text": [
            "=====> val_acc:  0.98175\n",
            "\n",
            "Saved the model!\n"
          ]
        },
        {
          "output_type": "stream",
          "name": "stderr",
          "text": [
            "Epoch 2:  60%|█████▉    | 8310/13852 [06:42<04:29, 20.60batch/s, loss=0.0163] \n",
            "Eval:   0%|          | 0/63 [00:00<?, ?it/s]\u001b[A\n",
            "Eval:   2%|▏         | 1/63 [00:00<00:08,  7.56it/s]\u001b[A\n",
            "Eval:   8%|▊         | 5/63 [00:00<00:02, 22.16it/s]\u001b[A\n",
            "Eval:  14%|█▍        | 9/63 [00:00<00:02, 26.99it/s]\u001b[A\n",
            "Eval:  21%|██        | 13/63 [00:00<00:01, 29.56it/s]\u001b[A\n",
            "Eval:  27%|██▋       | 17/63 [00:00<00:01, 30.79it/s]\u001b[A\n",
            "Eval:  33%|███▎      | 21/63 [00:00<00:01, 31.80it/s]\u001b[A\n",
            "Eval:  40%|███▉      | 25/63 [00:00<00:01, 32.39it/s]\u001b[A\n",
            "Eval:  46%|████▌     | 29/63 [00:00<00:01, 32.97it/s]\u001b[A\n",
            "Eval:  52%|█████▏    | 33/63 [00:01<00:00, 33.26it/s]\u001b[A\n",
            "Eval:  59%|█████▊    | 37/63 [00:01<00:00, 32.95it/s]\u001b[A\n",
            "Eval:  65%|██████▌   | 41/63 [00:01<00:00, 32.19it/s]\u001b[A\n",
            "Eval:  71%|███████▏  | 45/63 [00:01<00:00, 32.12it/s]\u001b[A\n",
            "Eval:  78%|███████▊  | 49/63 [00:01<00:00, 32.40it/s]\u001b[A\n",
            "Eval:  84%|████████▍ | 53/63 [00:01<00:00, 32.49it/s]\u001b[A\n",
            "Eval:  90%|█████████ | 57/63 [00:01<00:00, 31.95it/s]\u001b[A\n",
            "Eval:  97%|█████████▋| 61/63 [00:01<00:00, 32.27it/s]\u001b[A\n",
            "Epoch 2:  60%|█████▉    | 8310/13852 [06:45<04:29, 20.60batch/s, loss=0.197]"
          ]
        },
        {
          "output_type": "stream",
          "name": "stdout",
          "text": [
            "=====> val_acc:  0.979\n",
            "\n",
            "Saved the model!\n"
          ]
        },
        {
          "output_type": "stream",
          "name": "stderr",
          "text": [
            "Epoch 2:  80%|███████▉  | 11080/13852 [08:57<02:11, 21.03batch/s, loss=0.046]  \n",
            "Eval:   0%|          | 0/63 [00:00<?, ?it/s]\u001b[A\n",
            "Eval:   2%|▏         | 1/63 [00:00<00:08,  7.33it/s]\u001b[A\n",
            "Eval:   8%|▊         | 5/63 [00:00<00:02, 21.90it/s]\u001b[A\n",
            "Eval:  14%|█▍        | 9/63 [00:00<00:01, 27.08it/s]\u001b[A\n",
            "Eval:  21%|██        | 13/63 [00:00<00:01, 29.63it/s]\u001b[A\n",
            "Eval:  27%|██▋       | 17/63 [00:00<00:01, 30.98it/s]\u001b[A\n",
            "Eval:  33%|███▎      | 21/63 [00:00<00:01, 32.11it/s]\u001b[A\n",
            "Eval:  40%|███▉      | 25/63 [00:00<00:01, 32.69it/s]\u001b[A\n",
            "Eval:  46%|████▌     | 29/63 [00:00<00:01, 33.22it/s]\u001b[A\n",
            "Eval:  52%|█████▏    | 33/63 [00:01<00:00, 33.46it/s]\u001b[A\n",
            "Eval:  59%|█████▊    | 37/63 [00:01<00:00, 33.05it/s]\u001b[A\n",
            "Eval:  65%|██████▌   | 41/63 [00:01<00:00, 32.28it/s]\u001b[A\n",
            "Eval:  71%|███████▏  | 45/63 [00:01<00:00, 32.26it/s]\u001b[A\n",
            "Eval:  78%|███████▊  | 49/63 [00:01<00:00, 32.53it/s]\u001b[A\n",
            "Eval:  84%|████████▍ | 53/63 [00:01<00:00, 32.70it/s]\u001b[A\n",
            "Eval:  90%|█████████ | 57/63 [00:01<00:00, 32.34it/s]\u001b[A\n",
            "Eval:  97%|█████████▋| 61/63 [00:01<00:00, 32.74it/s]\u001b[A\n",
            "Epoch 2:  80%|███████▉  | 11080/13852 [09:00<02:11, 21.03batch/s, loss=0.0239]"
          ]
        },
        {
          "output_type": "stream",
          "name": "stdout",
          "text": [
            "=====> val_acc:  0.9795\n",
            "\n",
            "Saved the model!\n"
          ]
        },
        {
          "output_type": "stream",
          "name": "stderr",
          "text": [
            "Epoch 2: 100%|█████████▉| 13850/13852 [11:12<00:00, 19.36batch/s, loss=0.00177]\n",
            "Eval:   0%|          | 0/63 [00:00<?, ?it/s]\u001b[A\n",
            "Eval:   2%|▏         | 1/63 [00:00<00:08,  7.49it/s]\u001b[A\n",
            "Eval:   8%|▊         | 5/63 [00:00<00:02, 22.33it/s]\u001b[A\n",
            "Eval:  14%|█▍        | 9/63 [00:00<00:01, 27.32it/s]\u001b[A\n",
            "Eval:  21%|██        | 13/63 [00:00<00:01, 29.85it/s]\u001b[A\n",
            "Eval:  27%|██▋       | 17/63 [00:00<00:01, 31.18it/s]\u001b[A\n",
            "Eval:  33%|███▎      | 21/63 [00:00<00:01, 32.30it/s]\u001b[A\n",
            "Eval:  40%|███▉      | 25/63 [00:00<00:01, 32.87it/s]\u001b[A\n",
            "Eval:  46%|████▌     | 29/63 [00:00<00:01, 33.03it/s]\u001b[A\n",
            "Eval:  52%|█████▏    | 33/63 [00:01<00:00, 33.28it/s]\u001b[A\n",
            "Eval:  59%|█████▊    | 37/63 [00:01<00:00, 32.89it/s]\u001b[A\n",
            "Eval:  65%|██████▌   | 41/63 [00:01<00:00, 32.03it/s]\u001b[A\n",
            "Eval:  71%|███████▏  | 45/63 [00:01<00:00, 32.10it/s]\u001b[A\n",
            "Eval:  78%|███████▊  | 49/63 [00:01<00:00, 32.30it/s]\u001b[A\n",
            "Eval:  84%|████████▍ | 53/63 [00:01<00:00, 32.29it/s]\u001b[A\n",
            "Eval:  90%|█████████ | 57/63 [00:01<00:00, 32.02it/s]\u001b[A\n",
            "Eval:  97%|█████████▋| 61/63 [00:01<00:00, 32.44it/s]\u001b[A\n",
            "Epoch 2: 100%|██████████| 13852/13852 [11:14<00:00,  3.40batch/s, loss=0.00052]"
          ]
        },
        {
          "output_type": "stream",
          "name": "stdout",
          "text": [
            "=====> val_acc:  0.98125\n",
            "\n",
            "Saved the model!\n"
          ]
        },
        {
          "output_type": "stream",
          "name": "stderr",
          "text": [
            "\rEpoch 2: 100%|██████████| 13852/13852 [11:14<00:00, 20.53batch/s, loss=0.00052]\n"
          ]
        },
        {
          "output_type": "display_data",
          "data": {
            "text/plain": [
              "<IPython.core.display.HTML object>"
            ],
            "text/html": [
              "Waiting for W&B process to finish... <strong style=\"color:green\">(success).</strong>"
            ]
          },
          "metadata": {}
        },
        {
          "output_type": "display_data",
          "data": {
            "text/plain": [
              "<IPython.core.display.HTML object>"
            ],
            "text/html": [
              "<style>\n",
              "    table.wandb td:nth-child(1) { padding: 0 10px; text-align: left ; width: auto;} td:nth-child(2) {text-align: left ; width: 100%}\n",
              "    .wandb-row { display: flex; flex-direction: row; flex-wrap: wrap; justify-content: flex-start; width: 100% }\n",
              "    .wandb-col { display: flex; flex-direction: column; flex-basis: 100%; flex: 1; padding: 10px; }\n",
              "    </style>\n",
              "<div class=\"wandb-row\"><div class=\"wandb-col\"><h3>Run history:</h3><br/><table class=\"wandb\"><tr><td>train/epoch</td><td>▁▁▁▁▁▁▁▁▁▁▁▁▁▁▅▅▅▅▅▅▅▅▅▅▅▅▅█████████████</td></tr><tr><td>train/train_loss</td><td>▁▁▁▁▂▁█▁▁▂▁▂▁▂▁▂▁▁▂▁▁▁▁▁▂▂▁▃▁▂▁▁▁▁▁▁▁▁▁▁</td></tr><tr><td>val/val_accuracy</td><td>▆▇█▇█▆▆▆▆▅▁▇▂▃▆</td></tr><tr><td>val/val_loss</td><td>▁▃▂▁▂▅▂▄▅▄▅▅█▆▅</td></tr></table><br/></div><div class=\"wandb-col\"><h3>Run summary:</h3><br/><table class=\"wandb\"><tr><td>train/epoch</td><td>2</td></tr><tr><td>train/train_loss</td><td>0.00052</td></tr><tr><td>val/val_accuracy</td><td>0.98125</td></tr><tr><td>val/val_loss</td><td>0.06852</td></tr></table><br/></div></div>"
            ]
          },
          "metadata": {}
        },
        {
          "output_type": "display_data",
          "data": {
            "text/plain": [
              "<IPython.core.display.HTML object>"
            ],
            "text/html": [
              "Synced <strong style=\"color:#cdcd00\">wild-sweep-4</strong>: <a href=\"https://wandb.ai/goorm/albert-baseCase3/runs/2tbfevmd\" target=\"_blank\">https://wandb.ai/goorm/albert-baseCase3/runs/2tbfevmd</a><br/>Synced 5 W&B file(s), 0 media file(s), 0 artifact file(s) and 0 other file(s)"
            ]
          },
          "metadata": {}
        },
        {
          "output_type": "display_data",
          "data": {
            "text/plain": [
              "<IPython.core.display.HTML object>"
            ],
            "text/html": [
              "Find logs at: <code>./wandb/run-20221230_080921-2tbfevmd/logs</code>"
            ]
          },
          "metadata": {}
        },
        {
          "output_type": "stream",
          "name": "stderr",
          "text": [
            "\u001b[34m\u001b[1mwandb\u001b[0m: Agent Starting Run: et130uau with config:\n",
            "\u001b[34m\u001b[1mwandb\u001b[0m: \tbatch_size: 32\n",
            "\u001b[34m\u001b[1mwandb\u001b[0m: \tepochs: 5\n",
            "\u001b[34m\u001b[1mwandb\u001b[0m: \tlr: 1e-05\n",
            "\u001b[34m\u001b[1mwandb\u001b[0m: \toptimizer: adamw\n",
            "\u001b[34m\u001b[1mwandb\u001b[0m: \tweight_decay: 0\n",
            "Failed to detect the name of this notebook, you can set it manually with the WANDB_NOTEBOOK_NAME environment variable to enable code saving.\n",
            "\u001b[34m\u001b[1mwandb\u001b[0m: \u001b[33mWARNING\u001b[0m Ignored wandb.init() arg project when running a sweep.\n"
          ]
        },
        {
          "output_type": "display_data",
          "data": {
            "text/plain": [
              "<IPython.core.display.HTML object>"
            ],
            "text/html": [
              "Tracking run with wandb version 0.13.7"
            ]
          },
          "metadata": {}
        },
        {
          "output_type": "display_data",
          "data": {
            "text/plain": [
              "<IPython.core.display.HTML object>"
            ],
            "text/html": [
              "Run data is saved locally in <code>/content/wandb/run-20221230_084324-et130uau</code>"
            ]
          },
          "metadata": {}
        },
        {
          "output_type": "display_data",
          "data": {
            "text/plain": [
              "<IPython.core.display.HTML object>"
            ],
            "text/html": [
              "Syncing run <strong><a href=\"https://wandb.ai/goorm/albert-baseCase3/runs/et130uau\" target=\"_blank\">snowy-sweep-5</a></strong> to <a href=\"https://wandb.ai/goorm/albert-baseCase3\" target=\"_blank\">Weights & Biases</a> (<a href=\"https://wandb.me/run\" target=\"_blank\">docs</a>)<br/>Sweep page:  <a href=\"https://wandb.ai/goorm/albert-baseCase3/sweeps/u9osbunp\" target=\"_blank\">https://wandb.ai/goorm/albert-baseCase3/sweeps/u9osbunp</a>"
            ]
          },
          "metadata": {}
        },
        {
          "output_type": "stream",
          "name": "stderr",
          "text": [
            "/usr/local/lib/python3.8/dist-packages/transformers/optimization.py:306: FutureWarning: This implementation of AdamW is deprecated and will be removed in a future version. Use the PyTorch implementation torch.optim.AdamW instead, or set `no_deprecation_warning=True` to disable this warning\n",
            "  warnings.warn(\n",
            "Epoch 0:  20%|█▉        | 2770/13852 [02:13<09:05, 20.33batch/s, loss=0.000766]\n",
            "Eval:   0%|          | 0/63 [00:00<?, ?it/s]\u001b[A\n",
            "Eval:   2%|▏         | 1/63 [00:00<00:08,  7.49it/s]\u001b[A\n",
            "Eval:   8%|▊         | 5/63 [00:00<00:02, 21.99it/s]\u001b[A\n",
            "Eval:  14%|█▍        | 9/63 [00:00<00:02, 26.87it/s]\u001b[A\n",
            "Eval:  21%|██        | 13/63 [00:00<00:01, 29.48it/s]\u001b[A\n",
            "Eval:  27%|██▋       | 17/63 [00:00<00:01, 30.88it/s]\u001b[A\n",
            "Eval:  33%|███▎      | 21/63 [00:00<00:01, 31.80it/s]\u001b[A\n",
            "Eval:  40%|███▉      | 25/63 [00:00<00:01, 32.15it/s]\u001b[A\n",
            "Eval:  46%|████▌     | 29/63 [00:00<00:01, 32.81it/s]\u001b[A\n",
            "Eval:  52%|█████▏    | 33/63 [00:01<00:00, 33.09it/s]\u001b[A\n",
            "Eval:  59%|█████▊    | 37/63 [00:01<00:00, 32.51it/s]\u001b[A\n",
            "Eval:  65%|██████▌   | 41/63 [00:01<00:00, 31.58it/s]\u001b[A\n",
            "Eval:  71%|███████▏  | 45/63 [00:01<00:00, 31.73it/s]\u001b[A\n",
            "Eval:  78%|███████▊  | 49/63 [00:01<00:00, 31.95it/s]\u001b[A\n",
            "Eval:  84%|████████▍ | 53/63 [00:01<00:00, 32.19it/s]\u001b[A\n",
            "Eval:  90%|█████████ | 57/63 [00:01<00:00, 31.96it/s]\u001b[A\n",
            "Eval:  97%|█████████▋| 61/63 [00:01<00:00, 32.34it/s]\u001b[A\n",
            "Epoch 0:  20%|██        | 2773/13852 [02:15<49:31,  3.73batch/s, loss=0.00646]"
          ]
        },
        {
          "output_type": "stream",
          "name": "stdout",
          "text": [
            "=====> val_acc:  0.98025\n",
            "\n",
            "Saved the model!\n"
          ]
        },
        {
          "output_type": "stream",
          "name": "stderr",
          "text": [
            "Epoch 0:  40%|███▉      | 5538/13852 [04:28<06:42, 20.67batch/s, loss=0.062]\n",
            "Eval:   0%|          | 0/63 [00:00<?, ?it/s]\u001b[A\n",
            "Eval:   2%|▏         | 1/63 [00:00<00:08,  7.38it/s]\u001b[A\n",
            "Eval:   8%|▊         | 5/63 [00:00<00:02, 21.91it/s]\u001b[A\n",
            "Eval:  14%|█▍        | 9/63 [00:00<00:02, 26.97it/s]\u001b[A\n",
            "Eval:  21%|██        | 13/63 [00:00<00:01, 29.58it/s]\u001b[A\n",
            "Eval:  27%|██▋       | 17/63 [00:00<00:01, 31.08it/s]\u001b[A\n",
            "Eval:  33%|███▎      | 21/63 [00:00<00:01, 32.21it/s]\u001b[A\n",
            "Eval:  40%|███▉      | 25/63 [00:00<00:01, 32.65it/s]\u001b[A\n",
            "Eval:  46%|████▌     | 29/63 [00:00<00:01, 33.15it/s]\u001b[A\n",
            "Eval:  52%|█████▏    | 33/63 [00:01<00:00, 33.31it/s]\u001b[A\n",
            "Eval:  59%|█████▊    | 37/63 [00:01<00:00, 32.85it/s]\u001b[A\n",
            "Eval:  65%|██████▌   | 41/63 [00:01<00:00, 32.07it/s]\u001b[A\n",
            "Eval:  71%|███████▏  | 45/63 [00:01<00:00, 31.96it/s]\u001b[A\n",
            "Eval:  78%|███████▊  | 49/63 [00:01<00:00, 32.12it/s]\u001b[A\n",
            "Eval:  84%|████████▍ | 53/63 [00:01<00:00, 32.15it/s]\u001b[A\n",
            "Eval:  90%|█████████ | 57/63 [00:01<00:00, 31.17it/s]\u001b[A\n",
            "Eval:  97%|█████████▋| 61/63 [00:01<00:00, 31.59it/s]\u001b[A\n",
            "Epoch 0:  40%|████      | 5541/13852 [04:30<37:13,  3.72batch/s, loss=0.00015]"
          ]
        },
        {
          "output_type": "stream",
          "name": "stdout",
          "text": [
            "=====> val_acc:  0.98075\n",
            "\n",
            "Saved the model!\n"
          ]
        },
        {
          "output_type": "stream",
          "name": "stderr",
          "text": [
            "Epoch 0:  60%|█████▉    | 8310/13852 [06:43<04:26, 20.80batch/s, loss=0.00468]\n",
            "Eval:   0%|          | 0/63 [00:00<?, ?it/s]\u001b[A\n",
            "Eval:   2%|▏         | 1/63 [00:00<00:08,  7.45it/s]\u001b[A\n",
            "Eval:   8%|▊         | 5/63 [00:00<00:02, 22.22it/s]\u001b[A\n",
            "Eval:  14%|█▍        | 9/63 [00:00<00:01, 27.13it/s]\u001b[A\n",
            "Eval:  21%|██        | 13/63 [00:00<00:01, 29.76it/s]\u001b[A\n",
            "Eval:  27%|██▋       | 17/63 [00:00<00:01, 31.00it/s]\u001b[A\n",
            "Eval:  33%|███▎      | 21/63 [00:00<00:01, 32.21it/s]\u001b[A\n",
            "Eval:  40%|███▉      | 25/63 [00:00<00:01, 32.65it/s]\u001b[A\n",
            "Eval:  46%|████▌     | 29/63 [00:00<00:01, 33.29it/s]\u001b[A\n",
            "Eval:  52%|█████▏    | 33/63 [00:01<00:00, 33.45it/s]\u001b[A\n",
            "Eval:  59%|█████▊    | 37/63 [00:01<00:00, 33.13it/s]\u001b[A\n",
            "Eval:  65%|██████▌   | 41/63 [00:01<00:00, 32.33it/s]\u001b[A\n",
            "Eval:  71%|███████▏  | 45/63 [00:01<00:00, 32.15it/s]\u001b[A\n",
            "Eval:  78%|███████▊  | 49/63 [00:01<00:00, 32.25it/s]\u001b[A\n",
            "Eval:  84%|████████▍ | 53/63 [00:01<00:00, 32.31it/s]\u001b[A\n",
            "Eval:  90%|█████████ | 57/63 [00:01<00:00, 31.78it/s]\u001b[A\n",
            "Eval:  97%|█████████▋| 61/63 [00:01<00:00, 32.24it/s]\u001b[A\n",
            "Epoch 0:  60%|█████▉    | 8310/13852 [06:45<04:26, 20.80batch/s, loss=0.0016]"
          ]
        },
        {
          "output_type": "stream",
          "name": "stdout",
          "text": [
            "=====> val_acc:  0.98\n",
            "\n",
            "Saved the model!\n"
          ]
        },
        {
          "output_type": "stream",
          "name": "stderr",
          "text": [
            "Epoch 0:  80%|███████▉  | 11078/13852 [08:59<02:12, 20.96batch/s, loss=0.0153] \n",
            "Eval:   0%|          | 0/63 [00:00<?, ?it/s]\u001b[A\n",
            "Eval:   2%|▏         | 1/63 [00:00<00:08,  7.40it/s]\u001b[A\n",
            "Eval:   8%|▊         | 5/63 [00:00<00:02, 22.16it/s]\u001b[A\n",
            "Eval:  14%|█▍        | 9/63 [00:00<00:02, 26.99it/s]\u001b[A\n",
            "Eval:  21%|██        | 13/63 [00:00<00:01, 29.73it/s]\u001b[A\n",
            "Eval:  27%|██▋       | 17/63 [00:00<00:01, 31.17it/s]\u001b[A\n",
            "Eval:  33%|███▎      | 21/63 [00:00<00:01, 32.12it/s]\u001b[A\n",
            "Eval:  40%|███▉      | 25/63 [00:00<00:01, 32.67it/s]\u001b[A\n",
            "Eval:  46%|████▌     | 29/63 [00:00<00:01, 33.20it/s]\u001b[A\n",
            "Eval:  52%|█████▏    | 33/63 [00:01<00:00, 33.31it/s]\u001b[A\n",
            "Eval:  59%|█████▊    | 37/63 [00:01<00:00, 32.75it/s]\u001b[A\n",
            "Eval:  65%|██████▌   | 41/63 [00:01<00:00, 31.81it/s]\u001b[A\n",
            "Eval:  71%|███████▏  | 45/63 [00:01<00:00, 31.87it/s]\u001b[A\n",
            "Eval:  78%|███████▊  | 49/63 [00:01<00:00, 32.08it/s]\u001b[A\n",
            "Eval:  84%|████████▍ | 53/63 [00:01<00:00, 32.26it/s]\u001b[A\n",
            "Eval:  90%|█████████ | 57/63 [00:01<00:00, 31.68it/s]\u001b[A\n",
            "Eval:  97%|█████████▋| 61/63 [00:01<00:00, 32.08it/s]\u001b[A\n",
            "Epoch 0:  80%|███████▉  | 11081/13852 [09:01<12:22,  3.73batch/s, loss=0.000149]"
          ]
        },
        {
          "output_type": "stream",
          "name": "stdout",
          "text": [
            "=====> val_acc:  0.9785\n",
            "\n",
            "Saved the model!\n"
          ]
        },
        {
          "output_type": "stream",
          "name": "stderr",
          "text": [
            "Epoch 0: 100%|█████████▉| 13849/13852 [11:14<00:00, 19.29batch/s, loss=0.0696]\n",
            "Eval:   0%|          | 0/63 [00:00<?, ?it/s]\u001b[A\n",
            "Eval:   2%|▏         | 1/63 [00:00<00:09,  6.88it/s]\u001b[A\n",
            "Eval:   8%|▊         | 5/63 [00:00<00:02, 21.30it/s]\u001b[A\n",
            "Eval:  14%|█▍        | 9/63 [00:00<00:02, 26.46it/s]\u001b[A\n",
            "Eval:  21%|██        | 13/63 [00:00<00:01, 29.24it/s]\u001b[A\n",
            "Eval:  27%|██▋       | 17/63 [00:00<00:01, 30.50it/s]\u001b[A\n",
            "Eval:  33%|███▎      | 21/63 [00:00<00:01, 31.84it/s]\u001b[A\n",
            "Eval:  40%|███▉      | 25/63 [00:00<00:01, 32.35it/s]\u001b[A\n",
            "Eval:  46%|████▌     | 29/63 [00:00<00:01, 33.08it/s]\u001b[A\n",
            "Eval:  52%|█████▏    | 33/63 [00:01<00:00, 33.28it/s]\u001b[A\n",
            "Eval:  59%|█████▊    | 37/63 [00:01<00:00, 32.90it/s]\u001b[A\n",
            "Eval:  65%|██████▌   | 41/63 [00:01<00:00, 32.00it/s]\u001b[A\n",
            "Eval:  71%|███████▏  | 45/63 [00:01<00:00, 32.00it/s]\u001b[A\n",
            "Eval:  78%|███████▊  | 49/63 [00:01<00:00, 32.11it/s]\u001b[A\n",
            "Eval:  84%|████████▍ | 53/63 [00:01<00:00, 32.16it/s]\u001b[A\n",
            "Eval:  90%|█████████ | 57/63 [00:01<00:00, 31.71it/s]\u001b[A\n",
            "Eval:  97%|█████████▋| 61/63 [00:01<00:00, 31.99it/s]\u001b[A\n",
            "Epoch 0: 100%|█████████▉| 13851/13852 [11:16<00:00,  3.36batch/s, loss=0.000199]"
          ]
        },
        {
          "output_type": "stream",
          "name": "stdout",
          "text": [
            "=====> val_acc:  0.977\n",
            "\n",
            "Saved the model!\n"
          ]
        },
        {
          "output_type": "stream",
          "name": "stderr",
          "text": [
            "Epoch 0: 100%|██████████| 13852/13852 [11:17<00:00, 20.46batch/s, loss=0.000199]\n",
            "Epoch 1:  20%|█▉        | 2768/13852 [02:13<08:51, 20.87batch/s, loss=0.00107]\n",
            "Eval:   0%|          | 0/63 [00:00<?, ?it/s]\u001b[A\n",
            "Eval:   2%|▏         | 1/63 [00:00<00:08,  7.08it/s]\u001b[A\n",
            "Eval:   8%|▊         | 5/63 [00:00<00:02, 21.69it/s]\u001b[A\n",
            "Eval:  14%|█▍        | 9/63 [00:00<00:02, 26.69it/s]\u001b[A\n",
            "Eval:  21%|██        | 13/63 [00:00<00:01, 29.39it/s]\u001b[A\n",
            "Eval:  27%|██▋       | 17/63 [00:00<00:01, 30.82it/s]\u001b[A\n",
            "Eval:  33%|███▎      | 21/63 [00:00<00:01, 32.01it/s]\u001b[A\n",
            "Eval:  40%|███▉      | 25/63 [00:00<00:01, 32.48it/s]\u001b[A\n",
            "Eval:  46%|████▌     | 29/63 [00:00<00:01, 33.09it/s]\u001b[A\n",
            "Eval:  52%|█████▏    | 33/63 [00:01<00:00, 33.21it/s]\u001b[A\n",
            "Eval:  59%|█████▊    | 37/63 [00:01<00:00, 32.76it/s]\u001b[A\n",
            "Eval:  65%|██████▌   | 41/63 [00:01<00:00, 31.97it/s]\u001b[A\n",
            "Eval:  71%|███████▏  | 45/63 [00:01<00:00, 31.97it/s]\u001b[A\n",
            "Eval:  78%|███████▊  | 49/63 [00:01<00:00, 32.09it/s]\u001b[A\n",
            "Eval:  84%|████████▍ | 53/63 [00:01<00:00, 32.32it/s]\u001b[A\n",
            "Eval:  90%|█████████ | 57/63 [00:01<00:00, 32.03it/s]\u001b[A\n",
            "Eval:  97%|█████████▋| 61/63 [00:01<00:00, 32.36it/s]\u001b[A\n",
            "Epoch 1:  20%|██        | 2771/13852 [02:15<49:35,  3.72batch/s, loss=0.00108]"
          ]
        },
        {
          "output_type": "stream",
          "name": "stdout",
          "text": [
            "=====> val_acc:  0.9775\n",
            "\n",
            "Saved the model!\n"
          ]
        },
        {
          "output_type": "stream",
          "name": "stderr",
          "text": [
            "Epoch 1:  40%|███▉      | 5540/13852 [04:28<06:38, 20.86batch/s, loss=0.0636]\n",
            "Eval:   0%|          | 0/63 [00:00<?, ?it/s]\u001b[A\n",
            "Eval:   2%|▏         | 1/63 [00:00<00:08,  7.28it/s]\u001b[A\n",
            "Eval:   8%|▊         | 5/63 [00:00<00:02, 21.75it/s]\u001b[A\n",
            "Eval:  14%|█▍        | 9/63 [00:00<00:02, 26.41it/s]\u001b[A\n",
            "Eval:  21%|██        | 13/63 [00:00<00:01, 29.35it/s]\u001b[A\n",
            "Eval:  27%|██▋       | 17/63 [00:00<00:01, 30.83it/s]\u001b[A\n",
            "Eval:  33%|███▎      | 21/63 [00:00<00:01, 31.97it/s]\u001b[A\n",
            "Eval:  40%|███▉      | 25/63 [00:00<00:01, 32.53it/s]\u001b[A\n",
            "Eval:  46%|████▌     | 29/63 [00:00<00:01, 33.07it/s]\u001b[A\n",
            "Eval:  52%|█████▏    | 33/63 [00:01<00:00, 33.31it/s]\u001b[A\n",
            "Eval:  59%|█████▊    | 37/63 [00:01<00:00, 32.95it/s]\u001b[A\n",
            "Eval:  65%|██████▌   | 41/63 [00:01<00:00, 32.22it/s]\u001b[A\n",
            "Eval:  71%|███████▏  | 45/63 [00:01<00:00, 32.31it/s]\u001b[A\n",
            "Eval:  78%|███████▊  | 49/63 [00:01<00:00, 32.21it/s]\u001b[A\n",
            "Eval:  84%|████████▍ | 53/63 [00:01<00:00, 32.21it/s]\u001b[A\n",
            "Eval:  90%|█████████ | 57/63 [00:01<00:00, 31.85it/s]\u001b[A\n",
            "Eval:  97%|█████████▋| 61/63 [00:01<00:00, 31.98it/s]\u001b[A\n",
            "Epoch 1:  40%|███▉      | 5540/13852 [04:31<06:38, 20.86batch/s, loss=0.0117]"
          ]
        },
        {
          "output_type": "stream",
          "name": "stdout",
          "text": [
            "=====> val_acc:  0.97825\n",
            "\n",
            "Saved the model!\n"
          ]
        },
        {
          "output_type": "stream",
          "name": "stderr",
          "text": [
            "Epoch 1:  60%|█████▉    | 8308/13852 [06:43<04:29, 20.59batch/s, loss=0.00044]\n",
            "Eval:   0%|          | 0/63 [00:00<?, ?it/s]\u001b[A\n",
            "Eval:   2%|▏         | 1/63 [00:00<00:08,  7.56it/s]\u001b[A\n",
            "Eval:   8%|▊         | 5/63 [00:00<00:02, 22.31it/s]\u001b[A\n",
            "Eval:  14%|█▍        | 9/63 [00:00<00:01, 27.28it/s]\u001b[A\n",
            "Eval:  21%|██        | 13/63 [00:00<00:01, 29.81it/s]\u001b[A\n",
            "Eval:  27%|██▋       | 17/63 [00:00<00:01, 31.18it/s]\u001b[A\n",
            "Eval:  33%|███▎      | 21/63 [00:00<00:01, 32.33it/s]\u001b[A\n",
            "Eval:  40%|███▉      | 25/63 [00:00<00:01, 32.79it/s]\u001b[A\n",
            "Eval:  46%|████▌     | 29/63 [00:00<00:01, 33.49it/s]\u001b[A\n",
            "Eval:  52%|█████▏    | 33/63 [00:01<00:00, 33.58it/s]\u001b[A\n",
            "Eval:  59%|█████▊    | 37/63 [00:01<00:00, 33.05it/s]\u001b[A\n",
            "Eval:  65%|██████▌   | 41/63 [00:01<00:00, 31.83it/s]\u001b[A\n",
            "Eval:  71%|███████▏  | 45/63 [00:01<00:00, 31.98it/s]\u001b[A\n",
            "Eval:  78%|███████▊  | 49/63 [00:01<00:00, 32.20it/s]\u001b[A\n",
            "Eval:  84%|████████▍ | 53/63 [00:01<00:00, 32.31it/s]\u001b[A\n",
            "Eval:  90%|█████████ | 57/63 [00:01<00:00, 31.99it/s]\u001b[A\n",
            "Eval:  97%|█████████▋| 61/63 [00:01<00:00, 32.45it/s]\u001b[A\n",
            "Epoch 1:  60%|█████▉    | 8311/13852 [06:45<24:46,  3.73batch/s, loss=0.0685]"
          ]
        },
        {
          "output_type": "stream",
          "name": "stdout",
          "text": [
            "=====> val_acc:  0.98125\n",
            "\n",
            "Saved the model!\n"
          ]
        },
        {
          "output_type": "stream",
          "name": "stderr",
          "text": [
            "Epoch 1:  80%|███████▉  | 11080/13852 [08:58<02:11, 21.10batch/s, loss=0.00055]\n",
            "Eval:   0%|          | 0/63 [00:00<?, ?it/s]\u001b[A\n",
            "Eval:   2%|▏         | 1/63 [00:00<00:08,  7.49it/s]\u001b[A\n",
            "Eval:   8%|▊         | 5/63 [00:00<00:02, 21.92it/s]\u001b[A\n",
            "Eval:  14%|█▍        | 9/63 [00:00<00:02, 26.98it/s]\u001b[A\n",
            "Eval:  21%|██        | 13/63 [00:00<00:01, 29.46it/s]\u001b[A\n",
            "Eval:  27%|██▋       | 17/63 [00:00<00:01, 30.91it/s]\u001b[A\n",
            "Eval:  33%|███▎      | 21/63 [00:00<00:01, 32.18it/s]\u001b[A\n",
            "Eval:  40%|███▉      | 25/63 [00:00<00:01, 32.67it/s]\u001b[A\n",
            "Eval:  46%|████▌     | 29/63 [00:00<00:01, 33.30it/s]\u001b[A\n",
            "Eval:  52%|█████▏    | 33/63 [00:01<00:00, 33.45it/s]\u001b[A\n",
            "Eval:  59%|█████▊    | 37/63 [00:01<00:00, 32.99it/s]\u001b[A\n",
            "Eval:  65%|██████▌   | 41/63 [00:01<00:00, 32.09it/s]\u001b[A\n",
            "Eval:  71%|███████▏  | 45/63 [00:01<00:00, 32.16it/s]\u001b[A\n",
            "Eval:  78%|███████▊  | 49/63 [00:01<00:00, 32.33it/s]\u001b[A\n",
            "Eval:  84%|████████▍ | 53/63 [00:01<00:00, 32.49it/s]\u001b[A\n",
            "Eval:  90%|█████████ | 57/63 [00:01<00:00, 32.14it/s]\u001b[A\n",
            "Eval:  97%|█████████▋| 61/63 [00:01<00:00, 32.43it/s]\u001b[A\n",
            "Epoch 1:  80%|███████▉  | 11080/13852 [09:00<02:11, 21.10batch/s, loss=0.0027]"
          ]
        },
        {
          "output_type": "stream",
          "name": "stdout",
          "text": [
            "=====> val_acc:  0.97975\n",
            "\n",
            "Saved the model!\n"
          ]
        },
        {
          "output_type": "stream",
          "name": "stderr",
          "text": [
            "Epoch 1: 100%|█████████▉| 13849/13852 [11:13<00:00, 19.18batch/s, loss=0.0056]\n",
            "Eval:   0%|          | 0/63 [00:00<?, ?it/s]\u001b[A\n",
            "Eval:   2%|▏         | 1/63 [00:00<00:08,  7.13it/s]\u001b[A\n",
            "Eval:   8%|▊         | 5/63 [00:00<00:02, 21.42it/s]\u001b[A\n",
            "Eval:  14%|█▍        | 9/63 [00:00<00:02, 26.21it/s]\u001b[A\n",
            "Eval:  21%|██        | 13/63 [00:00<00:01, 28.98it/s]\u001b[A\n",
            "Eval:  27%|██▋       | 17/63 [00:00<00:01, 30.29it/s]\u001b[A\n",
            "Eval:  33%|███▎      | 21/63 [00:00<00:01, 31.50it/s]\u001b[A\n",
            "Eval:  40%|███▉      | 25/63 [00:00<00:01, 31.97it/s]\u001b[A\n",
            "Eval:  46%|████▌     | 29/63 [00:00<00:01, 32.81it/s]\u001b[A\n",
            "Eval:  52%|█████▏    | 33/63 [00:01<00:00, 33.13it/s]\u001b[A\n",
            "Eval:  59%|█████▊    | 37/63 [00:01<00:00, 32.71it/s]\u001b[A\n",
            "Eval:  65%|██████▌   | 41/63 [00:01<00:00, 31.83it/s]\u001b[A\n",
            "Eval:  71%|███████▏  | 45/63 [00:01<00:00, 31.98it/s]\u001b[A\n",
            "Eval:  78%|███████▊  | 49/63 [00:01<00:00, 32.15it/s]\u001b[A\n",
            "Eval:  84%|████████▍ | 53/63 [00:01<00:00, 32.32it/s]\u001b[A\n",
            "Eval:  90%|█████████ | 57/63 [00:01<00:00, 31.84it/s]\u001b[A\n",
            "Eval:  97%|█████████▋| 61/63 [00:01<00:00, 32.23it/s]\u001b[A\n",
            "Epoch 1: 100%|█████████▉| 13851/13852 [11:15<00:00,  3.36batch/s, loss=0.00379]"
          ]
        },
        {
          "output_type": "stream",
          "name": "stdout",
          "text": [
            "=====> val_acc:  0.98325\n",
            "\n",
            "Saved the model!\n"
          ]
        },
        {
          "output_type": "stream",
          "name": "stderr",
          "text": [
            "Epoch 1: 100%|██████████| 13852/13852 [11:15<00:00, 20.49batch/s, loss=0.00379]\n",
            "Epoch 2:  20%|█▉        | 2768/13852 [02:12<08:47, 21.00batch/s, loss=0.0448] \n",
            "Eval:   0%|          | 0/63 [00:00<?, ?it/s]\u001b[A\n",
            "Eval:   2%|▏         | 1/63 [00:00<00:08,  7.55it/s]\u001b[A\n",
            "Eval:   8%|▊         | 5/63 [00:00<00:02, 22.15it/s]\u001b[A\n",
            "Eval:  14%|█▍        | 9/63 [00:00<00:01, 27.21it/s]\u001b[A\n",
            "Eval:  21%|██        | 13/63 [00:00<00:01, 29.54it/s]\u001b[A\n",
            "Eval:  27%|██▋       | 17/63 [00:00<00:01, 30.88it/s]\u001b[A\n",
            "Eval:  33%|███▎      | 21/63 [00:00<00:01, 31.98it/s]\u001b[A\n",
            "Eval:  40%|███▉      | 25/63 [00:00<00:01, 32.66it/s]\u001b[A\n",
            "Eval:  46%|████▌     | 29/63 [00:00<00:01, 33.37it/s]\u001b[A\n",
            "Eval:  52%|█████▏    | 33/63 [00:01<00:00, 33.65it/s]\u001b[A\n",
            "Eval:  59%|█████▊    | 37/63 [00:01<00:00, 33.23it/s]\u001b[A\n",
            "Eval:  65%|██████▌   | 41/63 [00:01<00:00, 32.45it/s]\u001b[A\n",
            "Eval:  71%|███████▏  | 45/63 [00:01<00:00, 32.41it/s]\u001b[A\n",
            "Eval:  78%|███████▊  | 49/63 [00:01<00:00, 32.41it/s]\u001b[A\n",
            "Eval:  84%|████████▍ | 53/63 [00:01<00:00, 32.52it/s]\u001b[A\n",
            "Eval:  90%|█████████ | 57/63 [00:01<00:00, 32.15it/s]\u001b[A\n",
            "Eval:  97%|█████████▋| 61/63 [00:01<00:00, 32.47it/s]\u001b[A\n",
            "Epoch 2:  20%|██        | 2771/13852 [02:15<49:30,  3.73batch/s, loss=0.000909]"
          ]
        },
        {
          "output_type": "stream",
          "name": "stdout",
          "text": [
            "=====> val_acc:  0.98\n",
            "\n",
            "Saved the model!\n"
          ]
        },
        {
          "output_type": "stream",
          "name": "stderr",
          "text": [
            "Epoch 2:  40%|███▉      | 5540/13852 [04:27<06:36, 20.94batch/s, loss=0.00057] \n",
            "Eval:   0%|          | 0/63 [00:00<?, ?it/s]\u001b[A\n",
            "Eval:   2%|▏         | 1/63 [00:00<00:08,  7.42it/s]\u001b[A\n",
            "Eval:   8%|▊         | 5/63 [00:00<00:02, 21.82it/s]\u001b[A\n",
            "Eval:  14%|█▍        | 9/63 [00:00<00:02, 26.64it/s]\u001b[A\n",
            "Eval:  21%|██        | 13/63 [00:00<00:01, 29.34it/s]\u001b[A\n",
            "Eval:  27%|██▋       | 17/63 [00:00<00:01, 30.86it/s]\u001b[A\n",
            "Eval:  33%|███▎      | 21/63 [00:00<00:01, 32.09it/s]\u001b[A\n",
            "Eval:  40%|███▉      | 25/63 [00:00<00:01, 32.29it/s]\u001b[A\n",
            "Eval:  46%|████▌     | 29/63 [00:00<00:01, 33.05it/s]\u001b[A\n",
            "Eval:  52%|█████▏    | 33/63 [00:01<00:00, 33.28it/s]\u001b[A\n",
            "Eval:  59%|█████▊    | 37/63 [00:01<00:00, 32.79it/s]\u001b[A\n",
            "Eval:  65%|██████▌   | 41/63 [00:01<00:00, 32.07it/s]\u001b[A\n",
            "Eval:  71%|███████▏  | 45/63 [00:01<00:00, 32.02it/s]\u001b[A\n",
            "Eval:  78%|███████▊  | 49/63 [00:01<00:00, 32.17it/s]\u001b[A\n",
            "Eval:  84%|████████▍ | 53/63 [00:01<00:00, 32.19it/s]\u001b[A\n",
            "Eval:  90%|█████████ | 57/63 [00:01<00:00, 31.91it/s]\u001b[A\n",
            "Eval:  97%|█████████▋| 61/63 [00:01<00:00, 32.29it/s]\u001b[A\n",
            "Epoch 2:  40%|███▉      | 5540/13852 [04:30<06:36, 20.94batch/s, loss=0.00075]"
          ]
        },
        {
          "output_type": "stream",
          "name": "stdout",
          "text": [
            "=====> val_acc:  0.98\n",
            "\n",
            "Saved the model!\n"
          ]
        },
        {
          "output_type": "stream",
          "name": "stderr",
          "text": [
            "Epoch 2:  60%|█████▉    | 8310/13852 [06:43<04:21, 21.21batch/s, loss=0.00052] \n",
            "Eval:   0%|          | 0/63 [00:00<?, ?it/s]\u001b[A\n",
            "Eval:   2%|▏         | 1/63 [00:00<00:08,  7.47it/s]\u001b[A\n",
            "Eval:   8%|▊         | 5/63 [00:00<00:02, 22.06it/s]\u001b[A\n",
            "Eval:  14%|█▍        | 9/63 [00:00<00:02, 26.52it/s]\u001b[A\n",
            "Eval:  21%|██        | 13/63 [00:00<00:01, 29.34it/s]\u001b[A\n",
            "Eval:  27%|██▋       | 17/63 [00:00<00:01, 30.64it/s]\u001b[A\n",
            "Eval:  33%|███▎      | 21/63 [00:00<00:01, 31.76it/s]\u001b[A\n",
            "Eval:  40%|███▉      | 25/63 [00:00<00:01, 32.25it/s]\u001b[A\n",
            "Eval:  46%|████▌     | 29/63 [00:00<00:01, 32.91it/s]\u001b[A\n",
            "Eval:  52%|█████▏    | 33/63 [00:01<00:00, 33.19it/s]\u001b[A\n",
            "Eval:  59%|█████▊    | 37/63 [00:01<00:00, 32.81it/s]\u001b[A\n",
            "Eval:  65%|██████▌   | 41/63 [00:01<00:00, 32.04it/s]\u001b[A\n",
            "Eval:  71%|███████▏  | 45/63 [00:01<00:00, 32.06it/s]\u001b[A\n",
            "Eval:  78%|███████▊  | 49/63 [00:01<00:00, 32.35it/s]\u001b[A\n",
            "Eval:  84%|████████▍ | 53/63 [00:01<00:00, 32.52it/s]\u001b[A\n",
            "Eval:  90%|█████████ | 57/63 [00:01<00:00, 32.18it/s]\u001b[A\n",
            "Eval:  97%|█████████▋| 61/63 [00:01<00:00, 32.42it/s]\u001b[A\n",
            "Epoch 2:  60%|█████▉    | 8310/13852 [06:45<04:21, 21.21batch/s, loss=0.00349]"
          ]
        },
        {
          "output_type": "stream",
          "name": "stdout",
          "text": [
            "=====> val_acc:  0.98175\n",
            "\n",
            "Saved the model!\n"
          ]
        },
        {
          "output_type": "stream",
          "name": "stderr",
          "text": [
            "Epoch 2:  68%|██████▊   | 9486/13852 [07:41<03:31, 20.68batch/s, loss=0.00294]\u001b[34m\u001b[1mwandb\u001b[0m: Ctrl + C detected. Stopping sweep.\n"
          ]
        }
      ],
      "source": [
        "# 🐝 Step 4: Call to `wandb.agent` to start a sweep\n",
        "wandb.agent(sweep_id, function=main)"
      ]
    },
    {
      "cell_type": "code",
      "execution_count": 47,
      "metadata": {
        "colab": {
          "base_uri": "https://localhost:8080/",
          "height": 1000
        },
        "id": "1S85yT25OtA1",
        "outputId": "9de0ec71-bf67-4bd3-aac6-d148a0e31e8c"
      },
      "outputs": [
        {
          "output_type": "display_data",
          "data": {
            "text/plain": [
              "<IPython.core.display.HTML object>"
            ],
            "text/html": [
              "Waiting for W&B process to finish... <strong style=\"color:green\">(success).</strong>"
            ]
          },
          "metadata": {}
        },
        {
          "output_type": "stream",
          "name": "stderr",
          "text": [
            "\rEpoch 2:  68%|██████▊   | 9488/13852 [07:42<03:32, 20.54batch/s, loss=0.00294]\n",
            "Exception in thread Thread-45:\n",
            "Traceback (most recent call last):\n",
            "  File \"/usr/local/lib/python3.8/dist-packages/wandb/agents/pyagent.py\", line 298, in _run_job\n",
            "    self._function()\n",
            "  File \"<ipython-input-45-524a7087d8c4>\", line 55, in main\n",
            "  File \"/usr/local/lib/python3.8/dist-packages/wandb/sdk/wandb_run.py\", line 292, in wrapper\n",
            "    return func(self, *args, **kwargs)\n",
            "  File \"/usr/local/lib/python3.8/dist-packages/wandb/sdk/wandb_run.py\", line 255, in wrapper\n",
            "    return func(self, *args, **kwargs)\n",
            "  File \"/usr/local/lib/python3.8/dist-packages/wandb/sdk/wandb_run.py\", line 1612, in log\n",
            "    self._log(data=data, step=step, commit=commit)\n",
            "  File \"/usr/local/lib/python3.8/dist-packages/wandb/sdk/wandb_run.py\", line 1394, in _log\n",
            "    self._partial_history_callback(data, step, commit)\n",
            "  File \"/usr/local/lib/python3.8/dist-packages/wandb/sdk/wandb_run.py\", line 1278, in _partial_history_callback\n",
            "    self._backend.interface.publish_partial_history(\n",
            "  File \"/usr/local/lib/python3.8/dist-packages/wandb/sdk/interface/interface.py\", line 562, in publish_partial_history\n",
            "    self._publish_partial_history(partial_history)\n",
            "  File \"/usr/local/lib/python3.8/dist-packages/wandb/sdk/interface/interface_shared.py\", line 85, in _publish_partial_history\n",
            "    self._publish(rec)\n",
            "  File \"/usr/local/lib/python3.8/dist-packages/wandb/sdk/interface/interface_sock.py\", line 51, in _publish\n",
            "    self._sock_client.send_record_publish(record)\n",
            "  File \"/usr/local/lib/python3.8/dist-packages/wandb/sdk/lib/sock_client.py\", line 221, in send_record_publish\n",
            "    self.send_server_request(server_req)\n",
            "  File \"/usr/local/lib/python3.8/dist-packages/wandb/sdk/lib/sock_client.py\", line 155, in send_server_request\n",
            "    self._send_message(msg)\n",
            "  File \"/usr/local/lib/python3.8/dist-packages/wandb/sdk/lib/sock_client.py\", line 152, in _send_message\n",
            "    self._sendall_with_error_handle(header + data)\n",
            "  File \"/usr/local/lib/python3.8/dist-packages/wandb/sdk/lib/sock_client.py\", line 130, in _sendall_with_error_handle\n",
            "    sent = self._sock.send(data)\n",
            "Exception\n",
            "\n",
            "During handling of the above exception, another exception occurred:\n",
            "\n",
            "Traceback (most recent call last):\n",
            "  File \"/usr/lib/python3.8/threading.py\", line 932, in _bootstrap_inner\n",
            "    self.run()\n",
            "  File \"/usr/lib/python3.8/threading.py\", line 870, in run\n",
            "    self._target(*self._args, **self._kwargs)\n",
            "  File \"/usr/local/lib/python3.8/dist-packages/wandb/agents/pyagent.py\", line 303, in _run_job\n",
            "    wandb.finish(exit_code=1)\n",
            "  File \"/usr/local/lib/python3.8/dist-packages/wandb/sdk/wandb_run.py\", line 3652, in finish\n",
            "    wandb.run.finish(exit_code=exit_code, quiet=quiet)\n",
            "  File \"/usr/local/lib/python3.8/dist-packages/wandb/sdk/wandb_run.py\", line 292, in wrapper\n",
            "    return func(self, *args, **kwargs)\n",
            "  File \"/usr/local/lib/python3.8/dist-packages/wandb/sdk/wandb_run.py\", line 255, in wrapper\n",
            "    return func(self, *args, **kwargs)\n",
            "  File \"/usr/local/lib/python3.8/dist-packages/wandb/sdk/wandb_run.py\", line 1744, in finish\n",
            "    return self._finish(exit_code, quiet)\n",
            "  File \"/usr/local/lib/python3.8/dist-packages/wandb/sdk/wandb_run.py\", line 1757, in _finish\n",
            "    hook.call()\n",
            "  File \"/usr/local/lib/python3.8/dist-packages/wandb/sdk/wandb_init.py\", line 416, in _jupyter_teardown\n",
            "    ipython.display_pub.publish = ipython.display_pub._orig_publish\n",
            "AttributeError: 'ZMQDisplayPublisher' object has no attribute '_orig_publish'\n"
          ]
        },
        {
          "output_type": "display_data",
          "data": {
            "text/plain": [
              "<IPython.core.display.HTML object>"
            ],
            "text/html": [
              "<style>\n",
              "    table.wandb td:nth-child(1) { padding: 0 10px; text-align: left ; width: auto;} td:nth-child(2) {text-align: left ; width: 100%}\n",
              "    .wandb-row { display: flex; flex-direction: row; flex-wrap: wrap; justify-content: flex-start; width: 100% }\n",
              "    .wandb-col { display: flex; flex-direction: column; flex-basis: 100%; flex: 1; padding: 10px; }\n",
              "    </style>\n",
              "<div class=\"wandb-row\"><div class=\"wandb-col\"><h3>Run history:</h3><br/><table class=\"wandb\"><tr><td>train/epoch</td><td>▁▁▁▁▁▁▁▁▁▁▁▁▁▁▁▅▅▅▅▅▅▅▅▅▅▅▅▅▅▅██████████</td></tr><tr><td>train/train_loss</td><td>▁▁▁▂▃▁▁▁▄▁▂▃▁▁▂▁▁▁▂▁▁▁▁▁▁█▅▁▁▁▁▁▁▁▁▁▁▁▁▁</td></tr><tr><td>val/val_accuracy</td><td>▅▅▄▃▁▂▂▆▄█▄▄▆</td></tr><tr><td>val/val_loss</td><td>▂▂▄▄▄▇▄▃▄▁▇█▄</td></tr></table><br/></div><div class=\"wandb-col\"><h3>Run summary:</h3><br/><table class=\"wandb\"><tr><td>train/epoch</td><td>2</td></tr><tr><td>train/train_loss</td><td>0.00136</td></tr><tr><td>val/val_accuracy</td><td>0.98175</td></tr><tr><td>val/val_loss</td><td>0.07931</td></tr></table><br/></div></div>"
            ]
          },
          "metadata": {}
        },
        {
          "output_type": "display_data",
          "data": {
            "text/plain": [
              "<IPython.core.display.HTML object>"
            ],
            "text/html": [
              "Synced <strong style=\"color:#cdcd00\">snowy-sweep-5</strong>: <a href=\"https://wandb.ai/goorm/albert-baseCase3/runs/et130uau\" target=\"_blank\">https://wandb.ai/goorm/albert-baseCase3/runs/et130uau</a><br/>Synced 5 W&B file(s), 0 media file(s), 0 artifact file(s) and 0 other file(s)"
            ]
          },
          "metadata": {}
        },
        {
          "output_type": "display_data",
          "data": {
            "text/plain": [
              "<IPython.core.display.HTML object>"
            ],
            "text/html": [
              "Find logs at: <code>./wandb/run-20221230_084324-et130uau/logs</code>"
            ]
          },
          "metadata": {}
        }
      ],
      "source": [
        "# 🐝 Close your wandb run\n",
        "wandb.finish()"
      ]
    },
    {
      "cell_type": "markdown",
      "metadata": {
        "id": "mtpKYPSSuacG"
      },
      "source": [
        "## Visualization using Matplotlib\n",
        "\n",
        "- 출처: https://stackoverflow.com/questions/19471814/display-multiple-images-in-one-ipython-notebook-cell"
      ]
    },
    {
      "cell_type": "code",
      "execution_count": 48,
      "metadata": {
        "id": "vPYG125ktJMZ",
        "colab": {
          "base_uri": "https://localhost:8080/",
          "height": 253
        },
        "outputId": "dc36eb33-42fc-4726-b4a8-65f746c59710"
      },
      "outputs": [
        {
          "output_type": "display_data",
          "data": {
            "text/plain": [
              "<Figure size 14400x7200 with 2 Axes>"
            ],
            "image/png": "[encoded data removed]"
          },
          "metadata": {
            "needs_background": "light"
          }
        }
      ],
      "source": [
        "import glob\n",
        "import matplotlib.pyplot as plt\n",
        "import matplotlib.image as mpimg\n",
        "%matplotlib inline\n",
        "\n",
        "images = []\n",
        "for img_path in glob.glob('*.png'):\n",
        "    images.append(mpimg.imread(img_path))\n",
        "\n",
        "plt.figure(figsize=(200, 100))\n",
        "columns = 5\n",
        "for i, image in enumerate(images):\n",
        "    plt.subplot(len(images) / columns + 1, columns, i + 1)\n",
        "    plt.imshow(image)"
      ]
    },
    {
      "cell_type": "markdown",
      "metadata": {
        "id": "9I2FzF0WakDM"
      },
      "source": [
        "## Submit Test file"
      ]
    },
    {
      "cell_type": "markdown",
      "source": [
        "1. 가장 학습이 잘 된 파라미터 가져와서 모델에 넣기"
      ],
      "metadata": {
        "id": "aftQ4vcN6T7s"
      }
    },
    {
      "cell_type": "code",
      "execution_count": 49,
      "metadata": {
        "id": "JLB1LoTgiyHC",
        "colab": {
          "base_uri": "https://localhost:8080/",
          "height": 485
        },
        "outputId": "fc02fcde-09ca-4efe-80a1-d4f209741f3d"
      },
      "outputs": [
        {
          "output_type": "stream",
          "name": "stderr",
          "text": [
            "Some weights of the model checkpoint at albert-base-v2 were not used when initializing AlbertForSequenceClassification: ['predictions.LayerNorm.weight', 'predictions.dense.weight', 'predictions.LayerNorm.bias', 'predictions.bias', 'predictions.dense.bias', 'predictions.decoder.weight', 'predictions.decoder.bias']\n",
            "- This IS expected if you are initializing AlbertForSequenceClassification from the checkpoint of a model trained on another task or with another architecture (e.g. initializing a BertForSequenceClassification model from a BertForPreTraining model).\n",
            "- This IS NOT expected if you are initializing AlbertForSequenceClassification from the checkpoint of a model that you expect to be exactly identical (initializing a BertForSequenceClassification model from a BertForSequenceClassification model).\n",
            "Some weights of AlbertForSequenceClassification were not initialized from the model checkpoint at albert-base-v2 and are newly initialized: ['classifier.bias', 'classifier.weight']\n",
            "You should probably TRAIN this model on a down-stream task to be able to use it for predictions and inference.\n"
          ]
        },
        {
          "output_type": "error",
          "ename": "FileNotFoundError",
          "evalue": "ignored",
          "traceback": [
            "\u001b[0;31m---------------------------------------------------------------------------\u001b[0m",
            "\u001b[0;31mFileNotFoundError\u001b[0m                         Traceback (most recent call last)",
            "\u001b[0;32m<ipython-input-49-0a368d3989d7>\u001b[0m in \u001b[0;36m<module>\u001b[0;34m\u001b[0m\n\u001b[1;32m      1\u001b[0m \u001b[0mmodel\u001b[0m \u001b[0;34m=\u001b[0m\u001b[0mAlbertForSequenceClassification\u001b[0m\u001b[0;34m.\u001b[0m\u001b[0mfrom_pretrained\u001b[0m\u001b[0;34m(\u001b[0m\u001b[0;34m\"albert-base-v2\"\u001b[0m\u001b[0;34m)\u001b[0m\u001b[0;34m\u001b[0m\u001b[0;34m\u001b[0m\u001b[0m\n\u001b[1;32m      2\u001b[0m \u001b[0mmodel\u001b[0m\u001b[0;34m.\u001b[0m\u001b[0mto\u001b[0m\u001b[0;34m(\u001b[0m\u001b[0mdevice\u001b[0m\u001b[0;34m)\u001b[0m\u001b[0;34m\u001b[0m\u001b[0;34m\u001b[0m\u001b[0m\n\u001b[0;32m----> 3\u001b[0;31m \u001b[0mmodel\u001b[0m\u001b[0;34m.\u001b[0m\u001b[0mload_state_dict\u001b[0m\u001b[0;34m(\u001b[0m\u001b[0mtorch\u001b[0m\u001b[0;34m.\u001b[0m\u001b[0mload\u001b[0m\u001b[0;34m(\u001b[0m\u001b[0;34m'/content/model_albert-base_32_adamw_1e-05_0_5.bin'\u001b[0m\u001b[0;34m)\u001b[0m\u001b[0;34m)\u001b[0m\u001b[0;34m\u001b[0m\u001b[0;34m\u001b[0m\u001b[0m\n\u001b[0m",
            "\u001b[0;32m/usr/local/lib/python3.8/dist-packages/torch/serialization.py\u001b[0m in \u001b[0;36mload\u001b[0;34m(f, map_location, pickle_module, weights_only, **pickle_load_args)\u001b[0m\n\u001b[1;32m    769\u001b[0m         \u001b[0mpickle_load_args\u001b[0m\u001b[0;34m[\u001b[0m\u001b[0;34m'encoding'\u001b[0m\u001b[0;34m]\u001b[0m \u001b[0;34m=\u001b[0m \u001b[0;34m'utf-8'\u001b[0m\u001b[0;34m\u001b[0m\u001b[0;34m\u001b[0m\u001b[0m\n\u001b[1;32m    770\u001b[0m \u001b[0;34m\u001b[0m\u001b[0m\n\u001b[0;32m--> 771\u001b[0;31m     \u001b[0;32mwith\u001b[0m \u001b[0m_open_file_like\u001b[0m\u001b[0;34m(\u001b[0m\u001b[0mf\u001b[0m\u001b[0;34m,\u001b[0m \u001b[0;34m'rb'\u001b[0m\u001b[0;34m)\u001b[0m \u001b[0;32mas\u001b[0m \u001b[0mopened_file\u001b[0m\u001b[0;34m:\u001b[0m\u001b[0;34m\u001b[0m\u001b[0;34m\u001b[0m\u001b[0m\n\u001b[0m\u001b[1;32m    772\u001b[0m         \u001b[0;32mif\u001b[0m \u001b[0m_is_zipfile\u001b[0m\u001b[0;34m(\u001b[0m\u001b[0mopened_file\u001b[0m\u001b[0;34m)\u001b[0m\u001b[0;34m:\u001b[0m\u001b[0;34m\u001b[0m\u001b[0;34m\u001b[0m\u001b[0m\n\u001b[1;32m    773\u001b[0m             \u001b[0;31m# The zipfile reader is going to advance the current file position.\u001b[0m\u001b[0;34m\u001b[0m\u001b[0;34m\u001b[0m\u001b[0;34m\u001b[0m\u001b[0m\n",
            "\u001b[0;32m/usr/local/lib/python3.8/dist-packages/torch/serialization.py\u001b[0m in \u001b[0;36m_open_file_like\u001b[0;34m(name_or_buffer, mode)\u001b[0m\n\u001b[1;32m    268\u001b[0m \u001b[0;32mdef\u001b[0m \u001b[0m_open_file_like\u001b[0m\u001b[0;34m(\u001b[0m\u001b[0mname_or_buffer\u001b[0m\u001b[0;34m,\u001b[0m \u001b[0mmode\u001b[0m\u001b[0;34m)\u001b[0m\u001b[0;34m:\u001b[0m\u001b[0;34m\u001b[0m\u001b[0;34m\u001b[0m\u001b[0m\n\u001b[1;32m    269\u001b[0m     \u001b[0;32mif\u001b[0m \u001b[0m_is_path\u001b[0m\u001b[0;34m(\u001b[0m\u001b[0mname_or_buffer\u001b[0m\u001b[0;34m)\u001b[0m\u001b[0;34m:\u001b[0m\u001b[0;34m\u001b[0m\u001b[0;34m\u001b[0m\u001b[0m\n\u001b[0;32m--> 270\u001b[0;31m         \u001b[0;32mreturn\u001b[0m \u001b[0m_open_file\u001b[0m\u001b[0;34m(\u001b[0m\u001b[0mname_or_buffer\u001b[0m\u001b[0;34m,\u001b[0m \u001b[0mmode\u001b[0m\u001b[0;34m)\u001b[0m\u001b[0;34m\u001b[0m\u001b[0;34m\u001b[0m\u001b[0m\n\u001b[0m\u001b[1;32m    271\u001b[0m     \u001b[0;32melse\u001b[0m\u001b[0;34m:\u001b[0m\u001b[0;34m\u001b[0m\u001b[0;34m\u001b[0m\u001b[0m\n\u001b[1;32m    272\u001b[0m         \u001b[0;32mif\u001b[0m \u001b[0;34m'w'\u001b[0m \u001b[0;32min\u001b[0m \u001b[0mmode\u001b[0m\u001b[0;34m:\u001b[0m\u001b[0;34m\u001b[0m\u001b[0;34m\u001b[0m\u001b[0m\n",
            "\u001b[0;32m/usr/local/lib/python3.8/dist-packages/torch/serialization.py\u001b[0m in \u001b[0;36m__init__\u001b[0;34m(self, name, mode)\u001b[0m\n\u001b[1;32m    249\u001b[0m \u001b[0;32mclass\u001b[0m \u001b[0m_open_file\u001b[0m\u001b[0;34m(\u001b[0m\u001b[0m_opener\u001b[0m\u001b[0;34m)\u001b[0m\u001b[0;34m:\u001b[0m\u001b[0;34m\u001b[0m\u001b[0;34m\u001b[0m\u001b[0m\n\u001b[1;32m    250\u001b[0m     \u001b[0;32mdef\u001b[0m \u001b[0m__init__\u001b[0m\u001b[0;34m(\u001b[0m\u001b[0mself\u001b[0m\u001b[0;34m,\u001b[0m \u001b[0mname\u001b[0m\u001b[0;34m,\u001b[0m \u001b[0mmode\u001b[0m\u001b[0;34m)\u001b[0m\u001b[0;34m:\u001b[0m\u001b[0;34m\u001b[0m\u001b[0;34m\u001b[0m\u001b[0m\n\u001b[0;32m--> 251\u001b[0;31m         \u001b[0msuper\u001b[0m\u001b[0;34m(\u001b[0m\u001b[0m_open_file\u001b[0m\u001b[0;34m,\u001b[0m \u001b[0mself\u001b[0m\u001b[0;34m)\u001b[0m\u001b[0;34m.\u001b[0m\u001b[0m__init__\u001b[0m\u001b[0;34m(\u001b[0m\u001b[0mopen\u001b[0m\u001b[0;34m(\u001b[0m\u001b[0mname\u001b[0m\u001b[0;34m,\u001b[0m \u001b[0mmode\u001b[0m\u001b[0;34m)\u001b[0m\u001b[0;34m)\u001b[0m\u001b[0;34m\u001b[0m\u001b[0;34m\u001b[0m\u001b[0m\n\u001b[0m\u001b[1;32m    252\u001b[0m \u001b[0;34m\u001b[0m\u001b[0m\n\u001b[1;32m    253\u001b[0m     \u001b[0;32mdef\u001b[0m \u001b[0m__exit__\u001b[0m\u001b[0;34m(\u001b[0m\u001b[0mself\u001b[0m\u001b[0;34m,\u001b[0m \u001b[0;34m*\u001b[0m\u001b[0margs\u001b[0m\u001b[0;34m)\u001b[0m\u001b[0;34m:\u001b[0m\u001b[0;34m\u001b[0m\u001b[0;34m\u001b[0m\u001b[0m\n",
            "\u001b[0;31mFileNotFoundError\u001b[0m: [Errno 2] No such file or directory: '/content/model_albert-base_32_adamw_1e-05_0_5.bin'"
          ]
        }
      ],
      "source": [
        "model =AlbertForSequenceClassification.from_pretrained(\"albert-base-v2\")\n",
        "model.to(device)\n",
        "model.load_state_dict(torch.load('/content/model_albert-base_32_adamw_1e-05_0_5.bin'))"
      ]
    },
    {
      "cell_type": "markdown",
      "source": [
        "2. 테스트 파일 만들기"
      ],
      "metadata": {
        "id": "347KVqm46Sz8"
      }
    },
    {
      "cell_type": "code",
      "execution_count": null,
      "metadata": {
        "id": "P95gtlnurvgX"
      },
      "outputs": [],
      "source": [
        "import pandas as pd\n",
        "test_df = pd.read_csv('test_no_label.csv')"
      ]
    },
    {
      "cell_type": "code",
      "execution_count": null,
      "metadata": {
        "id": "cLDzC10ErvgX"
      },
      "outputs": [],
      "source": [
        "test_dataset = test_df['Id']"
      ]
    },
    {
      "cell_type": "code",
      "execution_count": null,
      "metadata": {
        "id": "jnt693N0rvgX"
      },
      "outputs": [],
      "source": [
        "#수치화하기\n",
        "def make_id(tokenizer,data):\n",
        "  id_file=[]\n",
        "  for sentence in data:#train/dev data와 달리 column이름 필요없음\n",
        "    id_file.append(tokenizer.encode(sentence))\n",
        "  return id_file\n",
        "test_id=make_id(tokenizer,test_data) #문장->수치"
      ]
    },
    {
      "cell_type": "code",
      "execution_count": null,
      "metadata": {
        "id": "7C5PpXtlrvgY"
      },
      "outputs": [],
      "source": [
        "class SentimentTestDataset(object):\n",
        "    def __init__(self,dataframe_ids):\n",
        "        self.dataframe_ids=dataframe_ids\n",
        "\n",
        "    def __len__(self):\n",
        "        return len(self.dataframe_ids)\n",
        "\n",
        "    def __getitem__(self, index):\n",
        "        return np.array(self.dataframe_ids[index])#training/dev와 달리 label이 없음\n",
        "\n",
        "test_dataset=SentimentTestDataset(test_id) #데이터셋 생성"
      ]
    },
    {
      "cell_type": "code",
      "execution_count": null,
      "metadata": {
        "id": "1aqse7SHrvgY"
      },
      "outputs": [],
      "source": [
        "def collate_fn_style_test(samples):\n",
        "    input_ids_ = samples\n",
        "    max_len = max(len(input_id) for input_id in input_ids_)\n",
        "    sorted_indices = range(len(input_ids_))\n",
        "\n",
        "    input_ids = pad_sequence([torch.tensor(input_ids_[index]) for index in sorted_indices],\n",
        "                             batch_first=True)\n",
        "    attention_mask= torch.tensor(\n",
        "        [[1] * len(input_ids_[index]) + [0] * (max_len - len(input_ids_[index])) for index in\n",
        "         sorted_indices])\n",
        "    token_type_ids = torch.tensor([[0] * len(input_ids[index]) for index in sorted_indices])\n",
        "    position_ids = torch.tensor([list(range(len(input_ids[index]))) for index in sorted_indices])\n",
        "\n",
        "    return input_ids, attention_mask, token_type_ids, position_ids"
      ]
    },
    {
      "cell_type": "code",
      "execution_count": null,
      "metadata": {
        "id": "erHjGE9rrvgY"
      },
      "outputs": [],
      "source": [
        "test_batch_size = 32\n",
        "#데이터 로더 생성\n",
        "test_loader = torch.utils.data.DataLoader(test_dataset, batch_size=test_batch_size,\n",
        "                                          shuffle=False, collate_fn=collate_fn_style_test,\n",
        "                                          num_workers=2)"
      ]
    },
    {
      "cell_type": "markdown",
      "source": [
        "3. forward prop"
      ],
      "metadata": {
        "id": "l_nWff_k6l-c"
      }
    },
    {
      "cell_type": "code",
      "execution_count": null,
      "metadata": {
        "id": "XoSHTbJUrvgZ"
      },
      "outputs": [],
      "source": [
        "with torch.no_grad():\n",
        "    model.eval()\n",
        "    predictions = []\n",
        "    for input_ids, attention_mask, token_type_ids, position_ids in tqdm(\n",
        "        test_loader,\n",
        "        desc='Test',\n",
        "        position=1,\n",
        "        leave=None):\n",
        "        # Test\n",
        "        input_ids = input_ids.to(device)\n",
        "        attention_mask = attention_mask.to(device)\n",
        "        token_type_ids = token_type_ids.to(device)\n",
        "        position_ids = position_ids.to(device)\n",
        "\n",
        "        outputs = model(\n",
        "            input_ids=input_ids,\n",
        "            attention_mask=attention_mask,\n",
        "            token_type_ids=token_type_ids,\n",
        "            position_ids=position_ids)\n",
        "\n",
        "        logits = outputs.logits\n",
        "        \n",
        "        batch_predictions = [0 if example[0] > example[1] else 1 for example in logits]\n",
        "        predictions += batch_predictions"
      ]
    },
    {
      "cell_type": "code",
      "execution_count": null,
      "metadata": {
        "id": "tGO3aS-VrvgZ"
      },
      "outputs": [],
      "source": [
        "test_df['Category'] = predictions"
      ]
    },
    {
      "cell_type": "code",
      "execution_count": null,
      "metadata": {
        "id": "VndXxal3rvgZ"
      },
      "outputs": [],
      "source": [
        "test_df.to_csv('submission_albert_base_best.csv', index=False)"
      ]
    },
    {
      "cell_type": "code",
      "execution_count": null,
      "metadata": {
        "id": "VrJBPu1kwUTj"
      },
      "outputs": [],
      "source": [
        "test_df"
      ]
    },
    {
      "cell_type": "code",
      "source": [],
      "metadata": {
        "id": "avgs1xco6zuS"
      },
      "execution_count": null,
      "outputs": []
    }
  ],
  "metadata": {
    "accelerator": "GPU",
    "colab": {
      "machine_shape": "hm",
      "provenance": [],
      "include_colab_link": true
    },
    "gpuClass": "premium",
    "kernelspec": {
      "display_name": "Python 3",
      "language": "python",
      "name": "python3"
    },
    "language_info": {
      "codemirror_mode": {
        "name": "ipython",
        "version": 3
      },
      "file_extension": ".py",
      "mimetype": "text/x-python",
      "name": "python",
      "nbconvert_exporter": "python",
      "pygments_lexer": "ipython3",
      "version": "3.6.4"
    },
    "widgets": {
      "application/vnd.jupyter.widget-state+json": {
        "2a16152edc964d52bf089920f3ba80d7": {
          "model_module": "@jupyter-widgets/controls",
          "model_name": "VBoxModel",
          "model_module_version": "1.5.0",
          "state": {
            "_dom_classes": [],
            "_model_module": "@jupyter-widgets/controls",
            "_model_module_version": "1.5.0",
            "_model_name": "VBoxModel",
            "_view_count": null,
            "_view_module": "@jupyter-widgets/controls",
            "_view_module_version": "1.5.0",
            "_view_name": "VBoxView",
            "box_style": "",
            "children": [
              "IPY_MODEL_951fa5e1ad1948909839061d1d93778c",
              "IPY_MODEL_f31f5e6080b24209b3e4cacaeac4b2ad"
            ],
            "layout": "IPY_MODEL_0346f91e3b9f4102bcc337a069dc7509"
          }
        },
        "951fa5e1ad1948909839061d1d93778c": {
          "model_module": "@jupyter-widgets/controls",
          "model_name": "LabelModel",
          "model_module_version": "1.5.0",
          "state": {
            "_dom_classes": [],
            "_model_module": "@jupyter-widgets/controls",
            "_model_module_version": "1.5.0",
            "_model_name": "LabelModel",
            "_view_count": null,
            "_view_module": "@jupyter-widgets/controls",
            "_view_module_version": "1.5.0",
            "_view_name": "LabelView",
            "description": "",
            "description_tooltip": null,
            "layout": "IPY_MODEL_1a442f9c00f843008e51523f345f1731",
            "placeholder": "​",
            "style": "IPY_MODEL_9166b56e4f49470d9fbf4240e2fb0438",
            "value": "0.012 MB of 0.012 MB uploaded (0.000 MB deduped)\r"
          }
        },
        "f31f5e6080b24209b3e4cacaeac4b2ad": {
          "model_module": "@jupyter-widgets/controls",
          "model_name": "FloatProgressModel",
          "model_module_version": "1.5.0",
          "state": {
            "_dom_classes": [],
            "_model_module": "@jupyter-widgets/controls",
            "_model_module_version": "1.5.0",
            "_model_name": "FloatProgressModel",
            "_view_count": null,
            "_view_module": "@jupyter-widgets/controls",
            "_view_module_version": "1.5.0",
            "_view_name": "ProgressView",
            "bar_style": "",
            "description": "",
            "description_tooltip": null,
            "layout": "IPY_MODEL_595f28ddfd4045bc8ed960a6f6d15f97",
            "max": 1,
            "min": 0,
            "orientation": "horizontal",
            "style": "IPY_MODEL_4010c3d41e1b40a38c6110068bb1d0b0",
            "value": 1
          }
        },
        "0346f91e3b9f4102bcc337a069dc7509": {
          "model_module": "@jupyter-widgets/base",
          "model_name": "LayoutModel",
          "model_module_version": "1.2.0",
          "state": {
            "_model_module": "@jupyter-widgets/base",
            "_model_module_version": "1.2.0",
            "_model_name": "LayoutModel",
            "_view_count": null,
            "_view_module": "@jupyter-widgets/base",
            "_view_module_version": "1.2.0",
            "_view_name": "LayoutView",
            "align_content": null,
            "align_items": null,
            "align_self": null,
            "border": null,
            "bottom": null,
            "display": null,
            "flex": null,
            "flex_flow": null,
            "grid_area": null,
            "grid_auto_columns": null,
            "grid_auto_flow": null,
            "grid_auto_rows": null,
            "grid_column": null,
            "grid_gap": null,
            "grid_row": null,
            "grid_template_areas": null,
            "grid_template_columns": null,
            "grid_template_rows": null,
            "height": null,
            "justify_content": null,
            "justify_items": null,
            "left": null,
            "margin": null,
            "max_height": null,
            "max_width": null,
            "min_height": null,
            "min_width": null,
            "object_fit": null,
            "object_position": null,
            "order": null,
            "overflow": null,
            "overflow_x": null,
            "overflow_y": null,
            "padding": null,
            "right": null,
            "top": null,
            "visibility": null,
            "width": null
          }
        },
        "1a442f9c00f843008e51523f345f1731": {
          "model_module": "@jupyter-widgets/base",
          "model_name": "LayoutModel",
          "model_module_version": "1.2.0",
          "state": {
            "_model_module": "@jupyter-widgets/base",
            "_model_module_version": "1.2.0",
            "_model_name": "LayoutModel",
            "_view_count": null,
            "_view_module": "@jupyter-widgets/base",
            "_view_module_version": "1.2.0",
            "_view_name": "LayoutView",
            "align_content": null,
            "align_items": null,
            "align_self": null,
            "border": null,
            "bottom": null,
            "display": null,
            "flex": null,
            "flex_flow": null,
            "grid_area": null,
            "grid_auto_columns": null,
            "grid_auto_flow": null,
            "grid_auto_rows": null,
            "grid_column": null,
            "grid_gap": null,
            "grid_row": null,
            "grid_template_areas": null,
            "grid_template_columns": null,
            "grid_template_rows": null,
            "height": null,
            "justify_content": null,
            "justify_items": null,
            "left": null,
            "margin": null,
            "max_height": null,
            "max_width": null,
            "min_height": null,
            "min_width": null,
            "object_fit": null,
            "object_position": null,
            "order": null,
            "overflow": null,
            "overflow_x": null,
            "overflow_y": null,
            "padding": null,
            "right": null,
            "top": null,
            "visibility": null,
            "width": null
          }
        },
        "9166b56e4f49470d9fbf4240e2fb0438": {
          "model_module": "@jupyter-widgets/controls",
          "model_name": "DescriptionStyleModel",
          "model_module_version": "1.5.0",
          "state": {
            "_model_module": "@jupyter-widgets/controls",
            "_model_module_version": "1.5.0",
            "_model_name": "DescriptionStyleModel",
            "_view_count": null,
            "_view_module": "@jupyter-widgets/base",
            "_view_module_version": "1.2.0",
            "_view_name": "StyleView",
            "description_width": ""
          }
        },
        "595f28ddfd4045bc8ed960a6f6d15f97": {
          "model_module": "@jupyter-widgets/base",
          "model_name": "LayoutModel",
          "model_module_version": "1.2.0",
          "state": {
            "_model_module": "@jupyter-widgets/base",
            "_model_module_version": "1.2.0",
            "_model_name": "LayoutModel",
            "_view_count": null,
            "_view_module": "@jupyter-widgets/base",
            "_view_module_version": "1.2.0",
            "_view_name": "LayoutView",
            "align_content": null,
            "align_items": null,
            "align_self": null,
            "border": null,
            "bottom": null,
            "display": null,
            "flex": null,
            "flex_flow": null,
            "grid_area": null,
            "grid_auto_columns": null,
            "grid_auto_flow": null,
            "grid_auto_rows": null,
            "grid_column": null,
            "grid_gap": null,
            "grid_row": null,
            "grid_template_areas": null,
            "grid_template_columns": null,
            "grid_template_rows": null,
            "height": null,
            "justify_content": null,
            "justify_items": null,
            "left": null,
            "margin": null,
            "max_height": null,
            "max_width": null,
            "min_height": null,
            "min_width": null,
            "object_fit": null,
            "object_position": null,
            "order": null,
            "overflow": null,
            "overflow_x": null,
            "overflow_y": null,
            "padding": null,
            "right": null,
            "top": null,
            "visibility": null,
            "width": null
          }
        },
        "4010c3d41e1b40a38c6110068bb1d0b0": {
          "model_module": "@jupyter-widgets/controls",
          "model_name": "ProgressStyleModel",
          "model_module_version": "1.5.0",
          "state": {
            "_model_module": "@jupyter-widgets/controls",
            "_model_module_version": "1.5.0",
            "_model_name": "ProgressStyleModel",
            "_view_count": null,
            "_view_module": "@jupyter-widgets/base",
            "_view_module_version": "1.2.0",
            "_view_name": "StyleView",
            "bar_color": null,
            "description_width": ""
          }
        }
      }
    }
  },
  "nbformat": 4,
  "nbformat_minor": 0
}