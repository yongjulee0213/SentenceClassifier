{
  "cells": [
    {
      "cell_type": "markdown",
      "metadata": {
        "id": "view-in-github",
        "colab_type": "text"
      },
      "source": [
        "<a href=\"https://colab.research.google.com/github/yongjulee0213/SentenceClassifier/blob/main/albert_base_best.ipynb\" target=\"_parent\"><img src=\"https://colab.research.google.com/assets/colab-badge.svg\" alt=\"Open In Colab\"/></a>"
      ]
    },
    {
      "cell_type": "markdown",
      "metadata": {
        "id": "TH32rzgprvgM"
      },
      "source": [
        "# 0️⃣ Prerequisite"
      ]
    },
    {
      "cell_type": "markdown",
      "metadata": {
        "id": "f1XTgAoqQGn1"
      },
      "source": [
        "![image.png](data:image/png;base64,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)"
      ]
    },
    {
      "cell_type": "code",
      "execution_count": null,
      "metadata": {
        "colab": {
          "base_uri": "https://localhost:8080/"
        },
        "id": "G9EvC1HBuf41",
        "outputId": "f9478901-3c1f-40d5-f330-bde93b0dfaa7"
      },
      "outputs": [
        {
          "name": "stdout",
          "output_type": "stream",
          "text": [
            "Looking in indexes: https://pypi.org/simple, https://us-python.pkg.dev/colab-wheels/public/simple/\n",
            "Collecting transformers\n",
            "  Downloading transformers-4.25.1-py3-none-any.whl (5.8 MB)\n",
            "\u001b[K     |████████████████████████████████| 5.8 MB 5.0 MB/s \n",
            "\u001b[?25hRequirement already satisfied: filelock in /usr/local/lib/python3.8/dist-packages (from transformers) (3.8.2)\n",
            "Requirement already satisfied: packaging>=20.0 in /usr/local/lib/python3.8/dist-packages (from transformers) (21.3)\n",
            "Collecting tokenizers!=0.11.3,<0.14,>=0.11.1\n",
            "  Downloading tokenizers-0.13.2-cp38-cp38-manylinux_2_17_x86_64.manylinux2014_x86_64.whl (7.6 MB)\n",
            "\u001b[K     |████████████████████████████████| 7.6 MB 75.4 MB/s \n",
            "\u001b[?25hCollecting huggingface-hub<1.0,>=0.10.0\n",
            "  Downloading huggingface_hub-0.11.1-py3-none-any.whl (182 kB)\n",
            "\u001b[K     |████████████████████████████████| 182 kB 94.7 MB/s \n",
            "\u001b[?25hRequirement already satisfied: requests in /usr/local/lib/python3.8/dist-packages (from transformers) (2.23.0)\n",
            "Requirement already satisfied: tqdm>=4.27 in /usr/local/lib/python3.8/dist-packages (from transformers) (4.64.1)\n",
            "Requirement already satisfied: numpy>=1.17 in /usr/local/lib/python3.8/dist-packages (from transformers) (1.21.6)\n",
            "Requirement already satisfied: pyyaml>=5.1 in /usr/local/lib/python3.8/dist-packages (from transformers) (6.0)\n",
            "Requirement already satisfied: regex!=2019.12.17 in /usr/local/lib/python3.8/dist-packages (from transformers) (2022.6.2)\n",
            "Requirement already satisfied: typing-extensions>=3.7.4.3 in /usr/local/lib/python3.8/dist-packages (from huggingface-hub<1.0,>=0.10.0->transformers) (4.4.0)\n",
            "Requirement already satisfied: pyparsing!=3.0.5,>=2.0.2 in /usr/local/lib/python3.8/dist-packages (from packaging>=20.0->transformers) (3.0.9)\n",
            "Requirement already satisfied: urllib3!=1.25.0,!=1.25.1,<1.26,>=1.21.1 in /usr/local/lib/python3.8/dist-packages (from requests->transformers) (1.24.3)\n",
            "Requirement already satisfied: certifi>=2017.4.17 in /usr/local/lib/python3.8/dist-packages (from requests->transformers) (2022.12.7)\n",
            "Requirement already satisfied: idna<3,>=2.5 in /usr/local/lib/python3.8/dist-packages (from requests->transformers) (2.10)\n",
            "Requirement already satisfied: chardet<4,>=3.0.2 in /usr/local/lib/python3.8/dist-packages (from requests->transformers) (3.0.4)\n",
            "Installing collected packages: tokenizers, huggingface-hub, transformers\n",
            "Successfully installed huggingface-hub-0.11.1 tokenizers-0.13.2 transformers-4.25.1\n"
          ]
        }
      ],
      "source": [
        "!pip install transformers"
      ]
    },
    {
      "cell_type": "code",
      "execution_count": null,
      "metadata": {
        "colab": {
          "base_uri": "https://localhost:8080/"
        },
        "id": "GkvzN6e4umL5",
        "outputId": "3bc88ef1-6203-46d5-f73e-1e22f1e5e0e1"
      },
      "outputs": [
        {
          "name": "stdout",
          "output_type": "stream",
          "text": [
            "Looking in indexes: https://pypi.org/simple, https://us-python.pkg.dev/colab-wheels/public/simple/\n",
            "Collecting sentencepiece\n",
            "  Downloading sentencepiece-0.1.97-cp38-cp38-manylinux_2_17_x86_64.manylinux2014_x86_64.whl (1.3 MB)\n",
            "\u001b[K     |████████████████████████████████| 1.3 MB 4.9 MB/s \n",
            "\u001b[?25hInstalling collected packages: sentencepiece\n",
            "Successfully installed sentencepiece-0.1.97\n"
          ]
        }
      ],
      "source": [
        "!pip install sentencepiece"
      ]
    },
    {
      "cell_type": "markdown",
      "metadata": {
        "id": "4jKrOIytYTKP"
      },
      "source": [
        "## Intall wnadb library and login"
      ]
    },
    {
      "cell_type": "code",
      "execution_count": null,
      "metadata": {
        "colab": {
          "base_uri": "https://localhost:8080/"
        },
        "id": "X0Ga7SPdLpkh",
        "outputId": "0895fb4c-4838-4f7d-bc0c-2db0d0980d0c"
      },
      "outputs": [
        {
          "name": "stdout",
          "output_type": "stream",
          "text": [
            "Looking in indexes: https://pypi.org/simple, https://us-python.pkg.dev/colab-wheels/public/simple/\n",
            "Collecting wandb\n",
            "  Downloading wandb-0.13.7-py2.py3-none-any.whl (1.9 MB)\n",
            "\u001b[K     |████████████████████████████████| 1.9 MB 5.0 MB/s \n",
            "\u001b[?25hRequirement already satisfied: requests<3,>=2.0.0 in /usr/local/lib/python3.8/dist-packages (from wandb) (2.23.0)\n",
            "Requirement already satisfied: Click!=8.0.0,>=7.0 in /usr/local/lib/python3.8/dist-packages (from wandb) (7.1.2)\n",
            "Collecting sentry-sdk>=1.0.0\n",
            "  Downloading sentry_sdk-1.12.1-py2.py3-none-any.whl (174 kB)\n",
            "\u001b[K     |████████████████████████████████| 174 kB 93.5 MB/s \n",
            "\u001b[?25hCollecting GitPython>=1.0.0\n",
            "  Downloading GitPython-3.1.29-py3-none-any.whl (182 kB)\n",
            "\u001b[K     |████████████████████████████████| 182 kB 93.4 MB/s \n",
            "\u001b[?25hRequirement already satisfied: protobuf!=4.21.0,<5,>=3.12.0 in /usr/local/lib/python3.8/dist-packages (from wandb) (3.19.6)\n",
            "Collecting setproctitle\n",
            "  Downloading setproctitle-1.3.2-cp38-cp38-manylinux_2_5_x86_64.manylinux1_x86_64.manylinux_2_17_x86_64.manylinux2014_x86_64.whl (31 kB)\n",
            "Requirement already satisfied: psutil>=5.0.0 in /usr/local/lib/python3.8/dist-packages (from wandb) (5.4.8)\n",
            "Collecting docker-pycreds>=0.4.0\n",
            "  Downloading docker_pycreds-0.4.0-py2.py3-none-any.whl (9.0 kB)\n",
            "Requirement already satisfied: promise<3,>=2.0 in /usr/local/lib/python3.8/dist-packages (from wandb) (2.3)\n",
            "Requirement already satisfied: PyYAML in /usr/local/lib/python3.8/dist-packages (from wandb) (6.0)\n",
            "Collecting pathtools\n",
            "  Downloading pathtools-0.1.2.tar.gz (11 kB)\n",
            "Requirement already satisfied: setuptools in /usr/local/lib/python3.8/dist-packages (from wandb) (57.4.0)\n",
            "Collecting shortuuid>=0.5.0\n",
            "  Downloading shortuuid-1.0.11-py3-none-any.whl (10 kB)\n",
            "Requirement already satisfied: six>=1.4.0 in /usr/local/lib/python3.8/dist-packages (from docker-pycreds>=0.4.0->wandb) (1.15.0)\n",
            "Collecting gitdb<5,>=4.0.1\n",
            "  Downloading gitdb-4.0.10-py3-none-any.whl (62 kB)\n",
            "\u001b[K     |████████████████████████████████| 62 kB 1.5 MB/s \n",
            "\u001b[?25hCollecting smmap<6,>=3.0.1\n",
            "  Downloading smmap-5.0.0-py3-none-any.whl (24 kB)\n",
            "Requirement already satisfied: urllib3!=1.25.0,!=1.25.1,<1.26,>=1.21.1 in /usr/local/lib/python3.8/dist-packages (from requests<3,>=2.0.0->wandb) (1.24.3)\n",
            "Requirement already satisfied: certifi>=2017.4.17 in /usr/local/lib/python3.8/dist-packages (from requests<3,>=2.0.0->wandb) (2022.12.7)\n",
            "Requirement already satisfied: chardet<4,>=3.0.2 in /usr/local/lib/python3.8/dist-packages (from requests<3,>=2.0.0->wandb) (3.0.4)\n",
            "Requirement already satisfied: idna<3,>=2.5 in /usr/local/lib/python3.8/dist-packages (from requests<3,>=2.0.0->wandb) (2.10)\n",
            "Collecting sentry-sdk>=1.0.0\n",
            "  Downloading sentry_sdk-1.12.0-py2.py3-none-any.whl (173 kB)\n",
            "\u001b[K     |████████████████████████████████| 173 kB 95.4 MB/s \n",
            "\u001b[?25h  Downloading sentry_sdk-1.11.1-py2.py3-none-any.whl (168 kB)\n",
            "\u001b[K     |████████████████████████████████| 168 kB 89.4 MB/s \n",
            "\u001b[?25h  Downloading sentry_sdk-1.11.0-py2.py3-none-any.whl (168 kB)\n",
            "\u001b[K     |████████████████████████████████| 168 kB 93.0 MB/s \n",
            "\u001b[?25h  Downloading sentry_sdk-1.10.1-py2.py3-none-any.whl (166 kB)\n",
            "\u001b[K     |████████████████████████████████| 166 kB 99.7 MB/s \n",
            "\u001b[?25h  Downloading sentry_sdk-1.10.0-py2.py3-none-any.whl (166 kB)\n",
            "\u001b[K     |████████████████████████████████| 166 kB 99.1 MB/s \n",
            "\u001b[?25h  Downloading sentry_sdk-1.9.10-py2.py3-none-any.whl (162 kB)\n",
            "\u001b[K     |████████████████████████████████| 162 kB 95.7 MB/s \n",
            "\u001b[?25h  Downloading sentry_sdk-1.9.9-py2.py3-none-any.whl (162 kB)\n",
            "\u001b[K     |████████████████████████████████| 162 kB 102.1 MB/s \n",
            "\u001b[?25h  Downloading sentry_sdk-1.9.8-py2.py3-none-any.whl (158 kB)\n",
            "\u001b[K     |████████████████████████████████| 158 kB 99.9 MB/s \n",
            "\u001b[?25h  Downloading sentry_sdk-1.9.7-py2.py3-none-any.whl (157 kB)\n",
            "\u001b[K     |████████████████████████████████| 157 kB 99.0 MB/s \n",
            "\u001b[?25h  Downloading sentry_sdk-1.9.6-py2.py3-none-any.whl (157 kB)\n",
            "\u001b[K     |████████████████████████████████| 157 kB 91.5 MB/s \n",
            "\u001b[?25h  Downloading sentry_sdk-1.9.5-py2.py3-none-any.whl (157 kB)\n",
            "\u001b[K     |████████████████████████████████| 157 kB 101.6 MB/s \n",
            "\u001b[?25h  Downloading sentry_sdk-1.9.4-py2.py3-none-any.whl (157 kB)\n",
            "\u001b[K     |████████████████████████████████| 157 kB 104.9 MB/s \n",
            "\u001b[?25h  Downloading sentry_sdk-1.9.3-py2.py3-none-any.whl (157 kB)\n",
            "\u001b[K     |████████████████████████████████| 157 kB 93.6 MB/s \n",
            "\u001b[?25h  Downloading sentry_sdk-1.9.2-py2.py3-none-any.whl (157 kB)\n",
            "\u001b[K     |████████████████████████████████| 157 kB 102.6 MB/s \n",
            "\u001b[?25h  Downloading sentry_sdk-1.9.1-py2.py3-none-any.whl (157 kB)\n",
            "\u001b[K     |████████████████████████████████| 157 kB 99.4 MB/s \n",
            "\u001b[?25h  Downloading sentry_sdk-1.9.0-py2.py3-none-any.whl (156 kB)\n",
            "\u001b[K     |████████████████████████████████| 156 kB 103.4 MB/s \n",
            "\u001b[?25hBuilding wheels for collected packages: pathtools\n",
            "  Building wheel for pathtools (setup.py) ... \u001b[?25l\u001b[?25hdone\n",
            "  Created wheel for pathtools: filename=pathtools-0.1.2-py3-none-any.whl size=8806 sha256=015a65804bcbd5beb38e76fc316c3892e9004a6c16cbc882a304330fa75cb05a\n",
            "  Stored in directory: /root/.cache/pip/wheels/4c/8e/7e/72fbc243e1aeecae64a96875432e70d4e92f3d2d18123be004\n",
            "Successfully built pathtools\n",
            "Installing collected packages: smmap, gitdb, shortuuid, setproctitle, sentry-sdk, pathtools, GitPython, docker-pycreds, wandb\n",
            "Successfully installed GitPython-3.1.29 docker-pycreds-0.4.0 gitdb-4.0.10 pathtools-0.1.2 sentry-sdk-1.9.0 setproctitle-1.3.2 shortuuid-1.0.11 smmap-5.0.0 wandb-0.13.7\n"
          ]
        }
      ],
      "source": [
        "!pip install wandb"
      ]
    },
    {
      "cell_type": "code",
      "execution_count": null,
      "metadata": {
        "colab": {
          "base_uri": "https://localhost:8080/",
          "height": 109
        },
        "id": "WqNt-5raXnrY",
        "outputId": "5ae67c91-6095-4c1b-af82-d13381d765d7"
      },
      "outputs": [
        {
          "name": "stderr",
          "output_type": "stream",
          "text": [
            "ERROR:wandb.jupyter:Failed to detect the name of this notebook, you can set it manually with the WANDB_NOTEBOOK_NAME environment variable to enable code saving.\n"
          ]
        },
        {
          "data": {
            "application/javascript": [
              "\n",
              "        window._wandbApiKey = new Promise((resolve, reject) => {\n",
              "            function loadScript(url) {\n",
              "            return new Promise(function(resolve, reject) {\n",
              "                let newScript = document.createElement(\"script\");\n",
              "                newScript.onerror = reject;\n",
              "                newScript.onload = resolve;\n",
              "                document.body.appendChild(newScript);\n",
              "                newScript.src = url;\n",
              "            });\n",
              "            }\n",
              "            loadScript(\"https://cdn.jsdelivr.net/npm/postmate/build/postmate.min.js\").then(() => {\n",
              "            const iframe = document.createElement('iframe')\n",
              "            iframe.style.cssText = \"width:0;height:0;border:none\"\n",
              "            document.body.appendChild(iframe)\n",
              "            const handshake = new Postmate({\n",
              "                container: iframe,\n",
              "                url: 'https://wandb.ai/authorize'\n",
              "            });\n",
              "            const timeout = setTimeout(() => reject(\"Couldn't auto authenticate\"), 5000)\n",
              "            handshake.then(function(child) {\n",
              "                child.on('authorize', data => {\n",
              "                    clearTimeout(timeout)\n",
              "                    resolve(data)\n",
              "                });\n",
              "            });\n",
              "            })\n",
              "        });\n",
              "    "
            ],
            "text/plain": [
              "<IPython.core.display.Javascript object>"
            ]
          },
          "metadata": {},
          "output_type": "display_data"
        },
        {
          "name": "stderr",
          "output_type": "stream",
          "text": [
            "\u001b[34m\u001b[1mwandb\u001b[0m: Appending key for api.wandb.ai to your netrc file: /root/.netrc\n"
          ]
        },
        {
          "data": {
            "text/plain": [
              "True"
            ]
          },
          "execution_count": 4,
          "metadata": {},
          "output_type": "execute_result"
        }
      ],
      "source": [
        "# Log in to your W&B account\n",
        "import wandb\n",
        "wandb.login()"
      ]
    },
    {
      "cell_type": "markdown",
      "metadata": {
        "id": "AiST94r4mSxR"
      },
      "source": [
        "## ✅ Choose a Pretrained Language Model to Use\n",
        "\n",
        "- [BERT](https://huggingface.co/docs/transformers/model_doc/bert)\n",
        "    - [transformers.BertTokenize](https://huggingface.co/docs/transformers/model_doc/bert#transformers.BertTokenizer)\n",
        "    - [transformers.BertForSequenceClassification](https://huggingface.co/docs/transformers/model_doc/bert#transformers.BertForSequenceClassification)\n",
        "\n",
        "- [ALBERT](https://huggingface.co/docs/transformers/model_doc/albert)\n",
        "    - [transformers.AlbertTokenizer](https://huggingface.co/docs/transformers/model_doc/albert#transformers.AlbertTokenizer)\n",
        "    - [transformers.AlbertForSequenceClassification](https://huggingface.co/docs/transformers/model_doc/albert#transformers.AlbertForSequenceClassification)"
      ]
    },
    {
      "cell_type": "code",
      "execution_count": null,
      "metadata": {
        "id": "hC8e9ygzmj6R"
      },
      "outputs": [],
      "source": [
        "#MY_MODEL_NAME = 'bert-base'\n",
        "#MY_MODEL_NAME = 'bert-large'\n",
        "MY_MODEL_NAME = 'albert-base'\n",
        "#MY_MODEL_NAME = 'albert-large'"
      ]
    },
    {
      "cell_type": "markdown",
      "metadata": {
        "id": "dqO6GkTvxt3B"
      },
      "source": [
        "## ✅ Choose whether to use small sample of dataset"
      ]
    },
    {
      "cell_type": "code",
      "execution_count": null,
      "metadata": {
        "id": "Y7ZYUZ0VyNMT"
      },
      "outputs": [],
      "source": [
        "#SMALL_SAMPLE, PERC = True, 0.01 # 데이터셋 일부만 사용하고 싶다면\n",
        "SMALL_SAMPLE = False # 전체 데이터셋을 사용하고 싶다면면"
      ]
    },
    {
      "cell_type": "markdown",
      "metadata": {
        "id": "G1c06ZXrur8u"
      },
      "source": [
        "## Import libraries"
      ]
    },
    {
      "cell_type": "code",
      "execution_count": null,
      "metadata": {
        "id": "AAdLxrUZrvgP"
      },
      "outputs": [],
      "source": [
        "import os\n",
        "import pdb\n",
        "import argparse\n",
        "from dataclasses import dataclass, field\n",
        "from typing import Optional\n",
        "from collections import defaultdict\n",
        "import random\n",
        "import gc\n",
        "\n",
        "import torch\n",
        "from torch.nn.utils.rnn import pad_sequence\n",
        "import torch.optim as optim\n",
        "\n",
        "import numpy as np\n",
        "from tqdm import tqdm, trange\n",
        "\n",
        "import sentencepiece\n",
        "\n",
        "from transformers import (\n",
        "    BertForSequenceClassification,\n",
        "    BertTokenizer,\n",
        "    AutoConfig,\n",
        "    AdamW,\n",
        "    AlbertForSequenceClassification,\n",
        "    AlbertTokenizer\n",
        ")\n",
        "\n",
        "# 📈 For Visualization\n",
        "import matplotlib.pyplot as plt\n",
        "import seaborn as sns"
      ]
    },
    {
      "cell_type": "code",
      "execution_count": null,
      "metadata": {
        "id": "0Yz0guxnfSKz"
      },
      "outputs": [],
      "source": [
        "# random seed\n",
        "def seed_everything(seed):\n",
        "    os.environ['PYTHONHASHSEED'] = str(seed)\n",
        "    np.random.seed(seed)\n",
        "    torch.manual_seed(seed)\n",
        "    torch.cuda.manual_seed(seed)\n",
        "    torch.backends.cudnn.deterministic = True\n",
        "    torch.backends.cudnn.benchmark = True\n",
        "seed_everything(42)\n",
        "\n",
        "device = torch.device('cuda' if torch.cuda.is_available() else 'cpu')"
      ]
    },
    {
      "cell_type": "markdown",
      "metadata": {
        "id": "ASWOOmXqrvgQ"
      },
      "source": [
        "# 1️⃣ Preprocess"
      ]
    },
    {
      "cell_type": "code",
      "execution_count": null,
      "metadata": {
        "id": "RAnU6w29rvgR"
      },
      "outputs": [],
      "source": [
        "def make_id_file(task, tokenizer):\n",
        "    def make_data_strings(file_name):\n",
        "        data_strings = []\n",
        "        with open(os.path.join(file_name), 'r', encoding='utf-8') as f:\n",
        "            id_file_data = [tokenizer.encode(line.lower()) for line in f.readlines()]\n",
        "        for item in id_file_data:\n",
        "            data_strings.append(' '.join([str(k) for k in item]))\n",
        "        return data_strings\n",
        "    \n",
        "    print('it will take some times...')\n",
        "    train_pos = make_data_strings('sentiment.train.1')\n",
        "    train_neg = make_data_strings('sentiment.train.0')\n",
        "    dev_pos = make_data_strings('sentiment.dev.1')\n",
        "    dev_neg = make_data_strings('sentiment.dev.0')\n",
        "\n",
        "    print('make id file finished!')\n",
        "    return train_pos, train_neg, dev_pos, dev_neg"
      ]
    },
    {
      "cell_type": "markdown",
      "metadata": {
        "id": "Z3zyBgwAMgE9"
      },
      "source": [
        "## 🔴 Tokenizer\n",
        "\n",
        "- 원하는 모델이 if 문 안에 있는지 확인"
      ]
    },
    {
      "cell_type": "code",
      "execution_count": null,
      "metadata": {
        "colab": {
          "base_uri": "https://localhost:8080/",
          "height": 81,
          "referenced_widgets": [
            "6599dd40faa5446da000a54a0d6ec9d3",
            "4f03221e1f8d4f89bbfdec6c8b3af536",
            "2b3abfc1b467484fac60f34600abd701",
            "657be0ae107d4462b46643f15ffc4653",
            "2d3e8144132f40e8b2668fe71150c7ee",
            "f1059cfe975e4fcda15c6daa01767158",
            "1cf8e7996e7e4188a907de1fe9055506",
            "23ae12a7f764481d86fba65536281821",
            "f8bc64fb5dde44c6a144bf4f5f4dfa36",
            "a2fc8ab330ef4ffb8a32184f49fea55f",
            "0eff0df6f8894c22a18b30a8dac32b3c",
            "dba7eb24a20c485ca00a0daa6c75f81d",
            "eedbd6bbbebf464b9430f0b4f91f11d8",
            "e6354760f9574bc8a8d3b6423f0de300",
            "ee7024032baf404187633576d9b30d93",
            "1b8b301498c249f1ae2284d5c51c103e",
            "e5e86312d9c14b1ab15c3757a48e0247",
            "5ccea8d3ebba494a905980112122dcff",
            "dc2d445f0a574c90bb6d77201f50fcb0",
            "db3e1f18160f48f088fa23486290b124",
            "f993b7ab068e4c74ad1cbd16dd82e0c6",
            "0df2ba9e88a24d53bc9ee1abc90c0268"
          ]
        },
        "id": "Ui2HOCflrvgR",
        "outputId": "67bd86d8-7a2c-45dd-fd59-13b2c129e929"
      },
      "outputs": [
        {
          "data": {
            "application/vnd.jupyter.widget-view+json": {
              "model_id": "6599dd40faa5446da000a54a0d6ec9d3",
              "version_major": 2,
              "version_minor": 0
            },
            "text/plain": [
              "Downloading:   0%|          | 0.00/760k [00:00<?, ?B/s]"
            ]
          },
          "metadata": {},
          "output_type": "display_data"
        },
        {
          "data": {
            "application/vnd.jupyter.widget-view+json": {
              "model_id": "dba7eb24a20c485ca00a0daa6c75f81d",
              "version_major": 2,
              "version_minor": 0
            },
            "text/plain": [
              "Downloading:   0%|          | 0.00/684 [00:00<?, ?B/s]"
            ]
          },
          "metadata": {},
          "output_type": "display_data"
        }
      ],
      "source": [
        "if MY_MODEL_NAME == 'bert-base': tokenizer = BertTokenizer.from_pretrained('bert-base-uncased')\n",
        "elif MY_MODEL_NAME == 'bert-large': tokenizer = BertTokenizer.from_pretrained('bert-large-uncased')\n",
        "elif MY_MODEL_NAME == 'albert-base': tokenizer = AlbertTokenizer.from_pretrained(\"albert-base-v2\")\n",
        "elif MY_MODEL_NAME == 'albert-large': tokenizer = AlbertTokenizer.from_pretrained(\"albert-large-v2\")"
      ]
    },
    {
      "cell_type": "code",
      "execution_count": null,
      "metadata": {
        "colab": {
          "base_uri": "https://localhost:8080/"
        },
        "id": "gjg6ZNRgxQMY",
        "outputId": "f61a6750-86d2-446a-f909-ddedf0ac5883"
      },
      "outputs": [
        {
          "name": "stdout",
          "output_type": "stream",
          "text": [
            "albert-base\n",
            "PreTrainedTokenizer(name_or_path='albert-base-v2', vocab_size=30000, model_max_len=512, is_fast=False, padding_side='right', truncation_side='right', special_tokens={'bos_token': '[CLS]', 'eos_token': '[SEP]', 'unk_token': '<unk>', 'sep_token': '[SEP]', 'pad_token': '<pad>', 'cls_token': '[CLS]', 'mask_token': AddedToken(\"[MASK]\", rstrip=False, lstrip=True, single_word=False, normalized=False)})\n"
          ]
        }
      ],
      "source": [
        "print(MY_MODEL_NAME)\n",
        "print(tokenizer)"
      ]
    },
    {
      "cell_type": "code",
      "execution_count": null,
      "metadata": {
        "colab": {
          "base_uri": "https://localhost:8080/",
          "height": 216
        },
        "id": "4jVuK-V1uq3L",
        "outputId": "cc407587-19bc-467c-aba3-ad78c7642b1a"
      },
      "outputs": [
        {
          "data": {
            "text/html": [
              "\n",
              "     <input type=\"file\" id=\"files-cc6f808e-cae7-410b-ac7b-7f0f80672eaf\" name=\"files[]\" multiple disabled\n",
              "        style=\"border:none\" />\n",
              "     <output id=\"result-cc6f808e-cae7-410b-ac7b-7f0f80672eaf\">\n",
              "      Upload widget is only available when the cell has been executed in the\n",
              "      current browser session. Please rerun this cell to enable.\n",
              "      </output>\n",
              "      <script>// Copyright 2017 Google LLC\n",
              "//\n",
              "// Licensed under the Apache License, Version 2.0 (the \"License\");\n",
              "// you may not use this file except in compliance with the License.\n",
              "// You may obtain a copy of the License at\n",
              "//\n",
              "//      http://www.apache.org/licenses/LICENSE-2.0\n",
              "//\n",
              "// Unless required by applicable law or agreed to in writing, software\n",
              "// distributed under the License is distributed on an \"AS IS\" BASIS,\n",
              "// WITHOUT WARRANTIES OR CONDITIONS OF ANY KIND, either express or implied.\n",
              "// See the License for the specific language governing permissions and\n",
              "// limitations under the License.\n",
              "\n",
              "/**\n",
              " * @fileoverview Helpers for google.colab Python module.\n",
              " */\n",
              "(function(scope) {\n",
              "function span(text, styleAttributes = {}) {\n",
              "  const element = document.createElement('span');\n",
              "  element.textContent = text;\n",
              "  for (const key of Object.keys(styleAttributes)) {\n",
              "    element.style[key] = styleAttributes[key];\n",
              "  }\n",
              "  return element;\n",
              "}\n",
              "\n",
              "// Max number of bytes which will be uploaded at a time.\n",
              "const MAX_PAYLOAD_SIZE = 100 * 1024;\n",
              "\n",
              "function _uploadFiles(inputId, outputId) {\n",
              "  const steps = uploadFilesStep(inputId, outputId);\n",
              "  const outputElement = document.getElementById(outputId);\n",
              "  // Cache steps on the outputElement to make it available for the next call\n",
              "  // to uploadFilesContinue from Python.\n",
              "  outputElement.steps = steps;\n",
              "\n",
              "  return _uploadFilesContinue(outputId);\n",
              "}\n",
              "\n",
              "// This is roughly an async generator (not supported in the browser yet),\n",
              "// where there are multiple asynchronous steps and the Python side is going\n",
              "// to poll for completion of each step.\n",
              "// This uses a Promise to block the python side on completion of each step,\n",
              "// then passes the result of the previous step as the input to the next step.\n",
              "function _uploadFilesContinue(outputId) {\n",
              "  const outputElement = document.getElementById(outputId);\n",
              "  const steps = outputElement.steps;\n",
              "\n",
              "  const next = steps.next(outputElement.lastPromiseValue);\n",
              "  return Promise.resolve(next.value.promise).then((value) => {\n",
              "    // Cache the last promise value to make it available to the next\n",
              "    // step of the generator.\n",
              "    outputElement.lastPromiseValue = value;\n",
              "    return next.value.response;\n",
              "  });\n",
              "}\n",
              "\n",
              "/**\n",
              " * Generator function which is called between each async step of the upload\n",
              " * process.\n",
              " * @param {string} inputId Element ID of the input file picker element.\n",
              " * @param {string} outputId Element ID of the output display.\n",
              " * @return {!Iterable<!Object>} Iterable of next steps.\n",
              " */\n",
              "function* uploadFilesStep(inputId, outputId) {\n",
              "  const inputElement = document.getElementById(inputId);\n",
              "  inputElement.disabled = false;\n",
              "\n",
              "  const outputElement = document.getElementById(outputId);\n",
              "  outputElement.innerHTML = '';\n",
              "\n",
              "  const pickedPromise = new Promise((resolve) => {\n",
              "    inputElement.addEventListener('change', (e) => {\n",
              "      resolve(e.target.files);\n",
              "    });\n",
              "  });\n",
              "\n",
              "  const cancel = document.createElement('button');\n",
              "  inputElement.parentElement.appendChild(cancel);\n",
              "  cancel.textContent = 'Cancel upload';\n",
              "  const cancelPromise = new Promise((resolve) => {\n",
              "    cancel.onclick = () => {\n",
              "      resolve(null);\n",
              "    };\n",
              "  });\n",
              "\n",
              "  // Wait for the user to pick the files.\n",
              "  const files = yield {\n",
              "    promise: Promise.race([pickedPromise, cancelPromise]),\n",
              "    response: {\n",
              "      action: 'starting',\n",
              "    }\n",
              "  };\n",
              "\n",
              "  cancel.remove();\n",
              "\n",
              "  // Disable the input element since further picks are not allowed.\n",
              "  inputElement.disabled = true;\n",
              "\n",
              "  if (!files) {\n",
              "    return {\n",
              "      response: {\n",
              "        action: 'complete',\n",
              "      }\n",
              "    };\n",
              "  }\n",
              "\n",
              "  for (const file of files) {\n",
              "    const li = document.createElement('li');\n",
              "    li.append(span(file.name, {fontWeight: 'bold'}));\n",
              "    li.append(span(\n",
              "        `(${file.type || 'n/a'}) - ${file.size} bytes, ` +\n",
              "        `last modified: ${\n",
              "            file.lastModifiedDate ? file.lastModifiedDate.toLocaleDateString() :\n",
              "                                    'n/a'} - `));\n",
              "    const percent = span('0% done');\n",
              "    li.appendChild(percent);\n",
              "\n",
              "    outputElement.appendChild(li);\n",
              "\n",
              "    const fileDataPromise = new Promise((resolve) => {\n",
              "      const reader = new FileReader();\n",
              "      reader.onload = (e) => {\n",
              "        resolve(e.target.result);\n",
              "      };\n",
              "      reader.readAsArrayBuffer(file);\n",
              "    });\n",
              "    // Wait for the data to be ready.\n",
              "    let fileData = yield {\n",
              "      promise: fileDataPromise,\n",
              "      response: {\n",
              "        action: 'continue',\n",
              "      }\n",
              "    };\n",
              "\n",
              "    // Use a chunked sending to avoid message size limits. See b/62115660.\n",
              "    let position = 0;\n",
              "    do {\n",
              "      const length = Math.min(fileData.byteLength - position, MAX_PAYLOAD_SIZE);\n",
              "      const chunk = new Uint8Array(fileData, position, length);\n",
              "      position += length;\n",
              "\n",
              "      const base64 = btoa(String.fromCharCode.apply(null, chunk));\n",
              "      yield {\n",
              "        response: {\n",
              "          action: 'append',\n",
              "          file: file.name,\n",
              "          data: base64,\n",
              "        },\n",
              "      };\n",
              "\n",
              "      let percentDone = fileData.byteLength === 0 ?\n",
              "          100 :\n",
              "          Math.round((position / fileData.byteLength) * 100);\n",
              "      percent.textContent = `${percentDone}% done`;\n",
              "\n",
              "    } while (position < fileData.byteLength);\n",
              "  }\n",
              "\n",
              "  // All done.\n",
              "  yield {\n",
              "    response: {\n",
              "      action: 'complete',\n",
              "    }\n",
              "  };\n",
              "}\n",
              "\n",
              "scope.google = scope.google || {};\n",
              "scope.google.colab = scope.google.colab || {};\n",
              "scope.google.colab._files = {\n",
              "  _uploadFiles,\n",
              "  _uploadFilesContinue,\n",
              "};\n",
              "})(self);\n",
              "</script> "
            ],
            "text/plain": [
              "<IPython.core.display.HTML object>"
            ]
          },
          "metadata": {},
          "output_type": "display_data"
        },
        {
          "name": "stdout",
          "output_type": "stream",
          "text": [
            "Saving test_no_label.csv to test_no_label.csv\n",
            "Saving sentiment.train.1 to sentiment.train.1\n",
            "Saving sentiment.train.0 to sentiment.train.0\n",
            "Saving sentiment.dev.1 to sentiment.dev.1\n",
            "Saving sentiment.dev.0 to sentiment.dev.0\n"
          ]
        }
      ],
      "source": [
        "from google.colab import files\n",
        "uploaded = files.upload()"
      ]
    },
    {
      "cell_type": "code",
      "execution_count": null,
      "metadata": {
        "colab": {
          "base_uri": "https://localhost:8080/"
        },
        "id": "ttzRlY4Ov0jZ",
        "outputId": "a970f6fa-314c-495f-a27d-d6453b5f24fd"
      },
      "outputs": [
        {
          "name": "stdout",
          "output_type": "stream",
          "text": [
            "sample_data\t sentiment.dev.1    sentiment.train.1\n",
            "sentiment.dev.0  sentiment.train.0  test_no_label.csv\n"
          ]
        }
      ],
      "source": [
        "!ls"
      ]
    },
    {
      "cell_type": "code",
      "execution_count": null,
      "metadata": {
        "colab": {
          "base_uri": "https://localhost:8080/"
        },
        "id": "BAgztXIBrvgS",
        "outputId": "64b3d635-8d49-4aa5-8e2c-0db401789de3"
      },
      "outputs": [
        {
          "name": "stdout",
          "output_type": "stream",
          "text": [
            "it will take some times...\n",
            "make id file finished!\n"
          ]
        }
      ],
      "source": [
        "train_pos, train_neg, dev_pos, dev_neg = make_id_file('yelp', tokenizer)"
      ]
    },
    {
      "cell_type": "markdown",
      "metadata": {
        "id": "3NmTZPU0qJ92"
      },
      "source": [
        "## Visualization"
      ]
    },
    {
      "cell_type": "code",
      "execution_count": null,
      "metadata": {
        "colab": {
          "base_uri": "https://localhost:8080/",
          "height": 341
        },
        "id": "i7pdFRvHMglY",
        "outputId": "e644760b-61c0-461c-d95d-27f8886cf38d"
      },
      "outputs": [
        {
          "data": {
            "image/png": "[encoded data removed]",
            "text/plain": [
              "<Figure size 864x360 with 2 Axes>"
            ]
          },
          "metadata": {},
          "output_type": "display_data"
        }
      ],
      "source": [
        "fig, ax = plt.subplots(ncols = 2, figsize = (12, 5), constrained_layout = True)\n",
        "\n",
        "g1 = sns.barplot(x = np.array(['train_pos', 'train_neg']),\n",
        "                y = np.array([len(train_pos), len(train_neg)]),\n",
        "                alpha = .4, ax = ax[0])\n",
        "g1.set_title(\"train labels count\")\n",
        "\n",
        "g2 = sns.barplot(x = np.array(['dev_pos', 'dev_neg']),\n",
        "                y = np.array([len(dev_pos), len(dev_neg)]),\n",
        "                alpha = .4, ax = ax[1])\n",
        "g2.set_title(\"dev labels count\")\n",
        "\n",
        "fig.suptitle('labels count', fontsize=20)\n",
        "plt.show()"
      ]
    },
    {
      "cell_type": "code",
      "execution_count": null,
      "metadata": {
        "colab": {
          "base_uri": "https://localhost:8080/"
        },
        "id": "wRh2WjGRrvgS",
        "outputId": "3c106866-5470-4724-df17-5f9eb1093e04"
      },
      "outputs": [
        {
          "data": {
            "text/plain": [
              "['2 5977 950 13 9 3',\n",
              " '2 18656 7705 365 13 9 3',\n",
              " '2 59 67 57 1954 621 18 17 1392 5262 56 25 510 254 13 9 3',\n",
              " '2 32 13 22 18 21 254 13865 69 20538 7298 13 9 3',\n",
              " '2 14 1138 25 4753 13 9 3',\n",
              " '2 254 748 950 13 9 3',\n",
              " '2 254 365 13 9 3',\n",
              " '2 11554 16 208 25 27269 17 7503 16 621 18 13 9 3',\n",
              " '2 374 209 26 4311 54 748 16385 18 17 3911 13 9 3',\n",
              " '2 14 78 978 1879 5289 13 9 3']"
            ]
          },
          "execution_count": 16,
          "metadata": {},
          "output_type": "execute_result"
        }
      ],
      "source": [
        "train_pos[:10]"
      ]
    },
    {
      "cell_type": "code",
      "execution_count": null,
      "metadata": {
        "id": "JdpQQQMUrvgT"
      },
      "outputs": [],
      "source": [
        "class SentimentDataset(object):\n",
        "    def __init__(self, tokenizer, pos, neg):\n",
        "        self.tokenizer = tokenizer\n",
        "        self.data = []\n",
        "        self.label = []\n",
        "\n",
        "        for pos_sent in pos:\n",
        "            self.data += [self._cast_to_int(pos_sent.strip().split())]\n",
        "            self.label += [[1]]\n",
        "        for neg_sent in neg:\n",
        "            self.data += [self._cast_to_int(neg_sent.strip().split())]\n",
        "            self.label += [[0]]\n",
        "\n",
        "    def _cast_to_int(self, sample):\n",
        "        return [int(word_id) for word_id in sample]\n",
        "\n",
        "    def __len__(self):\n",
        "        return len(self.data)\n",
        "\n",
        "    def __getitem__(self, index):\n",
        "        sample = self.data[index]\n",
        "        return np.array(sample), np.array(self.label[index])"
      ]
    },
    {
      "cell_type": "code",
      "execution_count": null,
      "metadata": {
        "id": "wCz5ey8xrvgU"
      },
      "outputs": [],
      "source": [
        "train_dataset = SentimentDataset(tokenizer, train_pos, train_neg)\n",
        "dev_dataset = SentimentDataset(tokenizer, dev_pos, dev_neg)"
      ]
    },
    {
      "cell_type": "markdown",
      "metadata": {
        "id": "orjNcc7v4L6C"
      },
      "source": [
        "## Small sample of dataset\n",
        "\n",
        "- 데이터셋 일부만 사용하고 싶다면"
      ]
    },
    {
      "cell_type": "code",
      "execution_count": null,
      "metadata": {
        "id": "yMpTfv0V35On"
      },
      "outputs": [],
      "source": [
        "if SMALL_SAMPLE == True:\n",
        "    train_dataset_total = SentimentDataset(tokenizer, train_pos, train_neg)\n",
        "    dev_dataset_total = SentimentDataset(tokenizer, dev_pos, dev_neg)\n",
        "\n",
        "    train_dataset = random.sample(list(train_dataset_total), int(PERC * len(train_dataset_total)))\n",
        "    dev_dataset = random.sample(list(dev_dataset_total), int(PERC * len(dev_dataset_total)))\n",
        "\n",
        "    print(len(train_dataset_total))\n",
        "    print(len(dev_dataset_total))\n",
        "    print(len(train_dataset))\n",
        "    print(len(dev_dataset))\n",
        "\n",
        "    del train_dataset_total\n",
        "    del dev_dataset_total\n",
        "    gc.collect()"
      ]
    },
    {
      "cell_type": "code",
      "execution_count": null,
      "metadata": {
        "colab": {
          "base_uri": "https://localhost:8080/"
        },
        "id": "UuvkMczvrvgU",
        "outputId": "83ec8e0c-7766-4632-f854-4d372fefc7b2"
      },
      "outputs": [
        {
          "name": "stdout",
          "output_type": "stream",
          "text": [
            "(array([   2, 5977,  950,   13,    9,    3]), array([1]))\n",
            "(array([    2, 18656,  7705,   365,    13,     9,     3]), array([1]))\n",
            "(array([   2,   59,   67,   57, 1954,  621,   18,   17, 1392, 5262,   56,\n",
            "         25,  510,  254,   13,    9,    3]), array([1]))\n",
            "(array([    2,    32,    13,    22,    18,    21,   254, 13865,    69,\n",
            "       20538,  7298,    13,     9,     3]), array([1]))\n",
            "(array([   2,   14, 1138,   25, 4753,   13,    9,    3]), array([1]))\n",
            "(array([  2, 254, 748, 950,  13,   9,   3]), array([1]))\n",
            "(array([  2, 254, 365,  13,   9,   3]), array([1]))\n",
            "(array([    2, 11554,    16,   208,    25, 27269,    17,  7503,    16,\n",
            "         621,    18,    13,     9,     3]), array([1]))\n",
            "(array([    2,   374,   209,    26,  4311,    54,   748, 16385,    18,\n",
            "          17,  3911,    13,     9,     3]), array([1]))\n",
            "(array([   2,   14,   78,  978, 1879, 5289,   13,    9,    3]), array([1]))\n",
            "(array([  2,  48, 209,  23, 253, 254,  13,   9,   3]), array([1]))\n"
          ]
        }
      ],
      "source": [
        "# train dataset 10개 인쇄\n",
        "for i, item in enumerate(train_dataset):\n",
        "    print(item)\n",
        "    if i == 10:\n",
        "        break"
      ]
    },
    {
      "cell_type": "code",
      "execution_count": null,
      "metadata": {
        "id": "B0wRUBYSrvgU"
      },
      "outputs": [],
      "source": [
        "def collate_fn_style(samples):\n",
        "    input_ids, labels = zip(*samples)\n",
        "    max_len = max(len(input_id) for input_id in input_ids)\n",
        "    sorted_indices = np.argsort([len(input_id) for input_id in input_ids])[::-1]\n",
        "\n",
        "    input_ids = pad_sequence([torch.tensor(input_ids[index]) for index in sorted_indices], batch_first=True)\n",
        "    attention_mask = torch.tensor([[1] * len(input_ids[index]) + [0] * (max_len - len(input_ids[index])) for index in sorted_indices])\n",
        "    token_type_ids = torch.tensor([[0] * len(input_ids[index]) for index in sorted_indices])\n",
        "    position_ids = torch.tensor([list(range(len(input_ids[index]))) for index in sorted_indices])\n",
        "    labels = torch.tensor(np.stack(labels, axis=0)[sorted_indices])\n",
        "\n",
        "    return input_ids, attention_mask, token_type_ids, position_ids, labels"
      ]
    },
    {
      "cell_type": "markdown",
      "metadata": {
        "id": "d1M5Jw5bY_jO"
      },
      "source": [
        "# 2️⃣ Model: Training & Validation"
      ]
    },
    {
      "cell_type": "code",
      "execution_count": null,
      "metadata": {
        "id": "MztU-L83rvgW"
      },
      "outputs": [],
      "source": [
        "def compute_acc(predictions, target_labels):\n",
        "    return (np.array(predictions) == np.array(target_labels)).mean()"
      ]
    },
    {
      "cell_type": "markdown",
      "metadata": {
        "id": "Xvq3ydiwRARd"
      },
      "source": [
        "## Hyperparameter Tuning using WandB 🐝"
      ]
    },
    {
      "cell_type": "code",
      "execution_count": null,
      "metadata": {
        "id": "ivg_ebSzdAU3"
      },
      "outputs": [],
      "source": [
        "def build_optimizer(model, optimizer, learning_rate, weight_decay):\n",
        "    if optimizer == \"adam\":\n",
        "        optimizer = optim.Adam(model.parameters(), lr=learning_rate)\n",
        "    elif optimizer == 'adamw':\n",
        "        optimizer = AdamW(model.parameters(), lr=learning_rate, weight_decay=weight_decay)\n",
        "\n",
        "    return optimizer"
      ]
    },
    {
      "cell_type": "markdown",
      "metadata": {
        "id": "Y_N8KGr_qvEt"
      },
      "source": [
        "### ✅ Define sweep config\n",
        "\n",
        "- sweep_configuration\n",
        "```\n",
        "CASE = 'Case3'\n",
        "```\n",
        "- [`method`](https://docs.wandb.ai/guides/sweeps/define-sweep-configuration#method)\n",
        "```\n",
        "'method': 'grid',\n",
        "```\n",
        "    - grid: Grid search iterates over all possible combinations of parameter values.\n",
        "    - random: Random search chooses a random set of values on each iteration.\n",
        "    - bayes: Our Bayesian hyperparameter search method uses a Gaussian Process to model the relationship between the parameters and the model metric and chooses parameters to optimize the probability of improvement. This strategy requires the metric key to be specified."
      ]
    },
    {
      "cell_type": "code",
      "execution_count": null,
      "metadata": {
        "id": "o_C53YHWn5H5"
      },
      "outputs": [],
      "source": [
        "CASE = 'Case3' # 'Case1', 'Case2', 'Case3' 중 하나만"
      ]
    },
    {
      "cell_type": "code",
      "execution_count": null,
      "metadata": {
        "colab": {
          "base_uri": "https://localhost:8080/"
        },
        "id": "Y0RTKgPz_0Ud",
        "outputId": "20daf7ed-7a1c-476d-f1fa-be2782b24bb8"
      },
      "outputs": [
        {
          "name": "stdout",
          "output_type": "stream",
          "text": [
            "Create sweep with ID: emkwaajm\n",
            "Sweep URL: https://wandb.ai/goorm/albert-baseCase3/sweeps/emkwaajm\n"
          ]
        }
      ],
      "source": [
        "# 🐝 Step 1: Define sweep config\n",
        "if CASE == 'Case1':\n",
        "    MY_PARAMETERS = {\n",
        "        'batch_size': {'values': [32]},\n",
        "        'optimizer': {'values': ['adamw']},\n",
        "        'lr': {'values': [1e-01, 1e-02, 1e-03, 1e-04, 1e-05]},\n",
        "        'weight_decay': {'values': [0]},\n",
        "        'epochs': {'values': [1]}\n",
        "    }\n",
        "elif CASE == 'Case2':\n",
        "    MY_PARAMETERS = {\n",
        "        'batch_size': {'values': [32,64,128]},\n",
        "        'optimizer': {'values': ['adamw']},\n",
        "        'lr': {'values': [ 1e-04, 1e-05]}, # {'max': 0.1, 'min': 0.0001}\n",
        "        'weight_decay': {'values': [1e-04,1e-05,0]}, # {'max': 0.1, 'min': 0.0}\n",
        "        'epochs': {'values': [1]} # {'values': [1]}\n",
        "    }\n",
        "elif CASE == 'Case3':\n",
        "    MY_PARAMETERS = {\n",
        "        'batch_size': {'values': [32,64]},\n",
        "        'optimizer': {'values': ['adamw']},\n",
        "        'lr': {'values': [1e-05]}, # {'max': 0.1, 'min': 0.0001}\n",
        "        'weight_decay': {'values': [0,0.0001]}, # {'max': 0.1, 'min': 0.0}\n",
        "        'epochs': {'values': [1,3,5,10]} # {'values': [1]}\n",
        "    }\n",
        "\n",
        "sweep_configuration = {\n",
        "    'method': 'grid', # 'random'\n",
        "    'name': 'sweep',\n",
        "    'metric': {'goal': 'maximize', 'name': \"val/val_accuracy\"},\n",
        "    'description': MY_MODEL_NAME,\n",
        "    'parameters': MY_PARAMETERS\n",
        "}\n",
        "\n",
        "# 🐝 Step 2: Initialize sweep by passing in config\n",
        "sweep_id = wandb.sweep(sweep=sweep_configuration, project=f'albert-base{CASE}')"
      ]
    },
    {
      "cell_type": "markdown",
      "metadata": {
        "id": "5UQiiBZVrCSQ"
      },
      "source": [
        "### 🔴 Define Pretraind Language Model\n",
        "\n",
        "- 원하는 모델이 if 문 안에 있는지 확인"
      ]
    },
    {
      "cell_type": "code",
      "execution_count": null,
      "metadata": {
        "colab": {
          "base_uri": "https://localhost:8080/"
        },
        "id": "ReqjsCGz3Py9",
        "outputId": "2cec1a91-43c1-407d-ab44-095e35c704c8"
      },
      "outputs": [
        {
          "name": "stdout",
          "output_type": "stream",
          "text": [
            "albert-base\n"
          ]
        }
      ],
      "source": [
        "print(MY_MODEL_NAME)"
      ]
    },
    {
      "cell_type": "markdown",
      "metadata": {
        "id": "ktV81s7q4NPO"
      },
      "source": [
        "### ✅\n",
        "\n",
        "- [LOWEST_VAL_ACC]보다 크면 parameters 저장 → Checkpoint\n",
        "```\n",
        "LOWEST_VAL_ACC = 0.9\n",
        "(중략)\n",
        "                    if val_acc > LOWEST_VAL_ACC:\n",
        "                        torch.save(model.state_dict(), my_name)\n",
        "```\n",
        "- 맨 마지막에 parameters 저장\n",
        "```\n",
        "    # 💾 학습이 완료되면 최종 parameters를 저장\n",
        "    torch.save(model.state_dict(), my_name + '.bin')\n",
        "```"
      ]
    },
    {
      "cell_type": "code",
      "execution_count": null,
      "metadata": {
        "id": "Ow1qU7rb4tmg"
      },
      "outputs": [],
      "source": [
        "# Choose whether to draw loss graph using Matplotlip\n",
        "DRAW_GRAPH = True # 그래프를 그리고 싶다면\n",
        "#DRAW_GRAPH = False # 그래프를 그리고 싶지 않다면\n",
        "\n",
        "# Determine how many times to validate per epoch\n",
        "VALID_INTERVAL = 5 # 5 (권장)\n",
        "\n",
        "# Determine minimum validation accuracy\n",
        "LOWEST_VAL_ACC = 0.9"
      ]
    },
    {
      "cell_type": "code",
      "execution_count": null,
      "metadata": {
        "id": "mEQLYqeib93V"
      },
      "outputs": [],
      "source": [
        "# 🐝 Step 3: Define training function that takes in hyperparameter \n",
        "# values from `wandb.config` and uses them to train a model and return metric\n",
        "def main():\n",
        "    # 🐝 initialise a wandb run\n",
        "    # Use the wandb.init() API to generate a background process \n",
        "    # to sync and log data as a Weights and Biases run.\n",
        "    # Optionally provide the name of the project.\n",
        "    # 🐝 initialise a wandb run\n",
        "    run = wandb.init(project=CASE)\n",
        "\n",
        "    # note that we define values from `wandb.config` instead of \n",
        "    # defining hard values\n",
        "    batch_size = wandb.config.batch_size\n",
        "    optim = wandb.config.optimizer\n",
        "    lr  =  wandb.config.lr\n",
        "    weight_decay = wandb.config.weight_decay\n",
        "    epochs = wandb.config.epochs\n",
        "\n",
        "    my_name = \"model_\" + MY_MODEL_NAME + \"_\" + str(batch_size) + \"_\" + str(optim) + \"_\" + str(lr) + \"_\" + str(weight_decay) + \"_\" + str(epochs)\n",
        "    run.name = my_name\n",
        "\n",
        "    # Get the data\n",
        "    train_loader = torch.utils.data.DataLoader( # Train dataset\n",
        "        train_dataset,\n",
        "        batch_size=batch_size,\n",
        "        shuffle=True,\n",
        "        collate_fn=collate_fn_style,\n",
        "        pin_memory=True, num_workers=2)\n",
        "    dev_loader = torch.utils.data.DataLoader( # Validation dataset\n",
        "        dev_dataset,\n",
        "        batch_size=batch_size*2,\n",
        "        shuffle=False,\n",
        "        collate_fn=collate_fn_style,\n",
        "        num_workers=2)\n",
        "    \n",
        "    if MY_MODEL_NAME == 'bert-base': model = BertForSequenceClassification.from_pretrained('bert-base-uncased')\n",
        "    elif MY_MODEL_NAME == 'bert-large': model = BertForSequenceClassification.from_pretrained('bert-large-uncased')\n",
        "    elif MY_MODEL_NAME == 'albert-base': model = AlbertForSequenceClassification.from_pretrained(\"albert-base-v2\")\n",
        "    elif MY_MODEL_NAME == 'albert-large': model = AlbertForSequenceClassification.from_pretrained(\"albert-large-v2\")\n",
        "    model.to(device)\n",
        "\n",
        "    # Make the loss and optimizer\n",
        "    optimizer = build_optimizer(model, optim, lr, weight_decay)\n",
        "\n",
        "     # 📈 For visualization using Matplotlib\n",
        "    train_loss_history = []\n",
        "    valid_loss_history = []\n",
        "\n",
        "    # Training\n",
        "    for epoch in range(epochs):\n",
        "        with tqdm(train_loader, unit=\"batch\") as tepoch:\n",
        "            for iteration, (input_ids, attention_mask, token_type_ids, position_ids, labels) in enumerate(tepoch):\n",
        "                model.train()\n",
        "                tepoch.set_description(f\"Epoch {epoch}\")\n",
        "                \n",
        "                # Train\n",
        "                input_ids = input_ids.to(device)\n",
        "                attention_mask = attention_mask.to(device)\n",
        "                token_type_ids = token_type_ids.to(device)\n",
        "                position_ids = position_ids.to(device)\n",
        "                labels = labels.to(device, dtype=torch.long)\n",
        "\n",
        "                optimizer.zero_grad()\n",
        "                outputs = model(\n",
        "                    input_ids=input_ids,\n",
        "                    attention_mask=attention_mask,\n",
        "                    token_type_ids=token_type_ids,\n",
        "                    position_ids=position_ids,\n",
        "                    labels=labels)\n",
        "                train_loss = outputs.loss\n",
        "                train_loss.backward()\n",
        "                optimizer.step()\n",
        "                \n",
        "                # 🐝 Log train metrics to wandb \n",
        "                wandb.log({\n",
        "                    \"train/epoch\": epoch,\n",
        "                    \"train/train_loss\": train_loss\n",
        "                })\n",
        "\n",
        "                tepoch.set_postfix(loss=train_loss.item())\n",
        "\n",
        "                if iteration != 0 and iteration % int(len(train_loader) / VALID_INTERVAL) == 0:\n",
        "                    # Evaluate the model [VALID_INTERVAL] times per epoch\n",
        "                    model.eval()\n",
        "                    with torch.no_grad():\n",
        "                        val_losses = []\n",
        "                        predictions = []\n",
        "                        target_labels = []\n",
        "                        for input_ids, attention_mask, token_type_ids, position_ids, labels in tqdm(\n",
        "                            dev_loader,\n",
        "                            desc='Eval',\n",
        "                            position=1,\n",
        "                            leave=None):\n",
        "                            # Validation\n",
        "                            input_ids = input_ids.to(device)\n",
        "                            attention_mask = attention_mask.to(device)\n",
        "                            token_type_ids = token_type_ids.to(device)\n",
        "                            position_ids = position_ids.to(device)\n",
        "                            labels = labels.to(device, dtype=torch.long)\n",
        "\n",
        "                            outputs = model(\n",
        "                                input_ids=input_ids,\n",
        "                                attention_mask=attention_mask,\n",
        "                                token_type_ids=token_type_ids,\n",
        "                                position_ids=position_ids,\n",
        "                                labels=labels)\n",
        "                            loss = outputs.loss\n",
        "                            logits = outputs.logits\n",
        "                            val_losses.append(loss.item())\n",
        "\n",
        "                            batch_predictions = [0 if example[0] > example[1] else 1 for example in logits]\n",
        "                            batch_labels = [int(example) for example in labels]\n",
        "\n",
        "                            predictions += batch_predictions\n",
        "                            target_labels += batch_labels\n",
        "                    \n",
        "                    val_loss = sum(val_losses) / len(val_losses)\n",
        "                    val_acc = compute_acc(predictions, target_labels)\n",
        "\n",
        "                    # 🐝 Log validation metrics to wandb\n",
        "                    wandb.log({\n",
        "                        \"val/val_accuracy\": val_acc,\n",
        "                        \"val/val_loss\": val_loss\n",
        "                    })\n",
        "                    train_loss_history.append(train_loss)  # 📈 For visualization using Matplotlib\n",
        "                    valid_loss_history.append(val_loss)  # 📈 For visualization using Matplotlib\n",
        "                    print('=====> val_acc: ', val_acc)\n",
        "                    \n",
        "                    # 💾 [LOWEST_VAL_ACC]보다 크면 parameters 저장\n",
        "                    if val_acc > LOWEST_VAL_ACC:\n",
        "                        torch.save(model.state_dict(), my_name + '_ckp.bin') # checkpoint\n",
        "                        print('\\nSaved the model!')\n",
        "\n",
        "    # 💾 학습이 완료되면 최종 parameters를 저장\n",
        "    torch.save(model.state_dict(), my_name + '.bin')\n",
        "\n",
        "    if DRAW_GRAPH:\n",
        "        # 📈 For visualization using Matplotlib\n",
        "        # 간단하게 train loss & validation loss 시각화\n",
        "        train_loss_history = torch.tensor(train_loss_history).detach().cpu().numpy()\n",
        "        valid_loss_history = torch.tensor(valid_loss_history).detach().cpu().numpy()\n",
        "        plt.plot(train_loss_history, label = \"Train Loss\")\n",
        "        plt.plot(valid_loss_history, label = \"Validation Loss\")\n",
        "        plt.title('Loss (' + my_name + ')')\n",
        "        plt.xlabel('Iteration')\n",
        "        plt.ylabel('Loss')\n",
        "        plt.legend()\n",
        "        plt.savefig(my_name + '.png') # 💾\n",
        "        plt.close()"
      ]
    },
    {
      "cell_type": "markdown",
      "metadata": {
        "id": "me-Sq71gPy8J"
      },
      "source": [
        "- [`wnadb.agent`](https://docs.wandb.ai/ref/python/agent)\n",
        "    - count\n",
        "(int, optional) the number of trials to run."
      ]
    },
    {
      "cell_type": "code",
      "execution_count": null,
      "metadata": {
        "colab": {
          "background_save": true,
          "base_uri": "https://localhost:8080/",
          "height": 1000,
          "referenced_widgets": [
            "eeb766ec55ab4da0a6bbeaa19ac9c584"
          ]
        },
        "id": "1ygHMTAd_40-",
        "outputId": "1019296f-3127-49c9-b794-867ede6e02ea"
      },
      "outputs": [
        {
          "name": "stderr",
          "output_type": "stream",
          "text": [
            "\u001b[34m\u001b[1mwandb\u001b[0m: Agent Starting Run: 7jdwfdjc with config:\n",
            "\u001b[34m\u001b[1mwandb\u001b[0m: \tbatch_size: 32\n",
            "\u001b[34m\u001b[1mwandb\u001b[0m: \tepochs: 1\n",
            "\u001b[34m\u001b[1mwandb\u001b[0m: \tlr: 0.1\n",
            "\u001b[34m\u001b[1mwandb\u001b[0m: \toptimizer: adamw\n",
            "\u001b[34m\u001b[1mwandb\u001b[0m: \tweight_decay: 0\n",
            "\u001b[34m\u001b[1mwandb\u001b[0m: \u001b[33mWARNING\u001b[0m Ignored wandb.init() arg project when running a sweep.\n"
          ]
        },
        {
          "data": {
            "text/html": [
              "Tracking run with wandb version 0.13.7"
            ],
            "text/plain": [
              "<IPython.core.display.HTML object>"
            ]
          },
          "metadata": {},
          "output_type": "display_data"
        },
        {
          "data": {
            "text/html": [
              "Run data is saved locally in <code>/content/wandb/run-20221229_034148-7jdwfdjc</code>"
            ],
            "text/plain": [
              "<IPython.core.display.HTML object>"
            ]
          },
          "metadata": {},
          "output_type": "display_data"
        },
        {
          "data": {
            "text/html": [
              "Syncing run <strong><a href=\"https://wandb.ai/goorm/albert-baseCase1/runs/7jdwfdjc\" target=\"_blank\">golden-sweep-1</a></strong> to <a href=\"https://wandb.ai/goorm/albert-baseCase1\" target=\"_blank\">Weights & Biases</a> (<a href=\"https://wandb.me/run\" target=\"_blank\">docs</a>)<br/>Sweep page:  <a href=\"https://wandb.ai/goorm/albert-baseCase1/sweeps/1bt1ynzy\" target=\"_blank\">https://wandb.ai/goorm/albert-baseCase1/sweeps/1bt1ynzy</a>"
            ],
            "text/plain": [
              "<IPython.core.display.HTML object>"
            ]
          },
          "metadata": {},
          "output_type": "display_data"
        },
        {
          "name": "stderr",
          "output_type": "stream",
          "text": [
            "Some weights of the model checkpoint at albert-base-v2 were not used when initializing AlbertForSequenceClassification: ['predictions.LayerNorm.weight', 'predictions.bias', 'predictions.dense.bias', 'predictions.decoder.weight', 'predictions.dense.weight', 'predictions.LayerNorm.bias', 'predictions.decoder.bias']\n",
            "- This IS expected if you are initializing AlbertForSequenceClassification from the checkpoint of a model trained on another task or with another architecture (e.g. initializing a BertForSequenceClassification model from a BertForPreTraining model).\n",
            "- This IS NOT expected if you are initializing AlbertForSequenceClassification from the checkpoint of a model that you expect to be exactly identical (initializing a BertForSequenceClassification model from a BertForSequenceClassification model).\n",
            "Some weights of AlbertForSequenceClassification were not initialized from the model checkpoint at albert-base-v2 and are newly initialized: ['classifier.weight', 'classifier.bias']\n",
            "You should probably TRAIN this model on a down-stream task to be able to use it for predictions and inference.\n",
            "/usr/local/lib/python3.8/dist-packages/transformers/optimization.py:306: FutureWarning: This implementation of AdamW is deprecated and will be removed in a future version. Use the PyTorch implementation torch.optim.AdamW instead, or set `no_deprecation_warning=True` to disable this warning\n",
            "  warnings.warn(\n",
            "Epoch 0:  19%|█▊        | 26/139 [00:01<00:05, 20.20batch/s, loss=18.7]\n",
            "Eval:   0%|          | 0/1 [00:00<?, ?it/s]\u001b[A\n",
            "Eval: 100%|██████████| 1/1 [00:00<00:00,  6.97it/s]\u001b[A\n",
            "Epoch 0:  22%|██▏       | 31/139 [00:01<00:07, 14.13batch/s, loss=35.2]"
          ]
        },
        {
          "name": "stdout",
          "output_type": "stream",
          "text": [
            "=====> val_acc:  0.5\n"
          ]
        },
        {
          "name": "stderr",
          "output_type": "stream",
          "text": [
            "Epoch 0:  37%|███▋      | 52/139 [00:03<00:04, 20.26batch/s, loss=8.99]\n",
            "Eval:   0%|          | 0/1 [00:00<?, ?it/s]\u001b[A\n",
            "Eval: 100%|██████████| 1/1 [00:00<00:00,  7.06it/s]\u001b[A\n",
            "Epoch 0:  41%|████      | 57/139 [00:03<00:05, 14.50batch/s, loss=21]"
          ]
        },
        {
          "name": "stdout",
          "output_type": "stream",
          "text": [
            "=====> val_acc:  0.5\n"
          ]
        },
        {
          "name": "stderr",
          "output_type": "stream",
          "text": [
            "Epoch 0:  58%|█████▊    | 80/139 [00:04<00:02, 20.19batch/s, loss=2.77]\n",
            "Eval:   0%|          | 0/1 [00:00<?, ?it/s]\u001b[A\n",
            "Eval: 100%|██████████| 1/1 [00:00<00:00,  7.02it/s]\u001b[A\n",
            "Epoch 0:  61%|██████    | 85/139 [00:05<00:03, 14.69batch/s, loss=2.28]"
          ]
        },
        {
          "name": "stdout",
          "output_type": "stream",
          "text": [
            "=====> val_acc:  0.5\n"
          ]
        },
        {
          "name": "stderr",
          "output_type": "stream",
          "text": [
            "Epoch 0:  76%|███████▋  | 106/139 [00:06<00:01, 20.18batch/s, loss=1.58]\n",
            "Eval:   0%|          | 0/1 [00:00<?, ?it/s]\u001b[A\n",
            "Eval: 100%|██████████| 1/1 [00:00<00:00,  7.00it/s]\u001b[A\n",
            "Epoch 0:  80%|███████▉  | 111/139 [00:06<00:01, 14.62batch/s, loss=2.43]"
          ]
        },
        {
          "name": "stdout",
          "output_type": "stream",
          "text": [
            "=====> val_acc:  0.5\n"
          ]
        },
        {
          "name": "stderr",
          "output_type": "stream",
          "text": [
            "Epoch 0:  97%|█████████▋| 135/139 [00:07<00:00, 20.14batch/s, loss=30.1]\n",
            "Eval:   0%|          | 0/1 [00:00<?, ?it/s]\u001b[A\n",
            "Eval: 100%|██████████| 1/1 [00:00<00:00,  6.18it/s]\u001b[A\n",
            "Epoch 0:  99%|█████████▉| 138/139 [00:08<00:00, 13.25batch/s, loss=4.57]"
          ]
        },
        {
          "name": "stdout",
          "output_type": "stream",
          "text": [
            "=====> val_acc:  0.5\n"
          ]
        },
        {
          "name": "stderr",
          "output_type": "stream",
          "text": [
            "\rEpoch 0: 100%|██████████| 139/139 [00:08<00:00, 16.87batch/s, loss=4.57]\n"
          ]
        },
        {
          "data": {
            "text/html": [
              "Waiting for W&B process to finish... <strong style=\"color:green\">(success).</strong>"
            ],
            "text/plain": [
              "<IPython.core.display.HTML object>"
            ]
          },
          "metadata": {},
          "output_type": "display_data"
        },
        {
          "data": {
            "text/html": [
              "<style>\n",
              "    table.wandb td:nth-child(1) { padding: 0 10px; text-align: left ; width: auto;} td:nth-child(2) {text-align: left ; width: 100%}\n",
              "    .wandb-row { display: flex; flex-direction: row; flex-wrap: wrap; justify-content: flex-start; width: 100% }\n",
              "    .wandb-col { display: flex; flex-direction: column; flex-basis: 100%; flex: 1; padding: 10px; }\n",
              "    </style>\n",
              "<div class=\"wandb-row\"><div class=\"wandb-col\"><h3>Run history:</h3><br/><table class=\"wandb\"><tr><td>train/epoch</td><td>▁▁▁▁▁▁▁▁▁▁▁▁▁▁▁▁▁▁▁▁▁▁▁▁▁▁▁▁▁▁▁▁▁▁▁▁▁▁▁▁</td></tr><tr><td>train/train_loss</td><td>█▂▅▇▃▇▅▄▄▆▅▄▂▁▃▃▃▄▂▂▁▁▂▁▁▁▁▁▂▁▁▁▁▁▁▂▂▂▃▄</td></tr><tr><td>val/val_accuracy</td><td>▁▁▁▁▁</td></tr><tr><td>val/val_loss</td><td>█▅▁▁▅</td></tr></table><br/></div><div class=\"wandb-col\"><h3>Run summary:</h3><br/><table class=\"wandb\"><tr><td>train/epoch</td><td>0</td></tr><tr><td>train/train_loss</td><td>4.56653</td></tr><tr><td>val/val_accuracy</td><td>0.5</td></tr><tr><td>val/val_loss</td><td>27.00147</td></tr></table><br/></div></div>"
            ],
            "text/plain": [
              "<IPython.core.display.HTML object>"
            ]
          },
          "metadata": {},
          "output_type": "display_data"
        },
        {
          "data": {
            "text/html": [
              "Synced <strong style=\"color:#cdcd00\">golden-sweep-1</strong>: <a href=\"https://wandb.ai/goorm/albert-baseCase1/runs/7jdwfdjc\" target=\"_blank\">https://wandb.ai/goorm/albert-baseCase1/runs/7jdwfdjc</a><br/>Synced 5 W&B file(s), 0 media file(s), 0 artifact file(s) and 0 other file(s)"
            ],
            "text/plain": [
              "<IPython.core.display.HTML object>"
            ]
          },
          "metadata": {},
          "output_type": "display_data"
        },
        {
          "data": {
            "text/html": [
              "Find logs at: <code>./wandb/run-20221229_034148-7jdwfdjc/logs</code>"
            ],
            "text/plain": [
              "<IPython.core.display.HTML object>"
            ]
          },
          "metadata": {},
          "output_type": "display_data"
        },
        {
          "name": "stderr",
          "output_type": "stream",
          "text": [
            "\u001b[34m\u001b[1mwandb\u001b[0m: Agent Starting Run: sbuace92 with config:\n",
            "\u001b[34m\u001b[1mwandb\u001b[0m: \tbatch_size: 32\n",
            "\u001b[34m\u001b[1mwandb\u001b[0m: \tepochs: 1\n",
            "\u001b[34m\u001b[1mwandb\u001b[0m: \tlr: 0.01\n",
            "\u001b[34m\u001b[1mwandb\u001b[0m: \toptimizer: adamw\n",
            "\u001b[34m\u001b[1mwandb\u001b[0m: \tweight_decay: 0\n",
            "\u001b[34m\u001b[1mwandb\u001b[0m: \u001b[33mWARNING\u001b[0m Ignored wandb.init() arg project when running a sweep.\n"
          ]
        },
        {
          "data": {
            "text/html": [
              "Tracking run with wandb version 0.13.7"
            ],
            "text/plain": [
              "<IPython.core.display.HTML object>"
            ]
          },
          "metadata": {},
          "output_type": "display_data"
        },
        {
          "data": {
            "text/html": [
              "Run data is saved locally in <code>/content/wandb/run-20221229_034219-sbuace92</code>"
            ],
            "text/plain": [
              "<IPython.core.display.HTML object>"
            ]
          },
          "metadata": {},
          "output_type": "display_data"
        },
        {
          "data": {
            "text/html": [
              "Syncing run <strong><a href=\"https://wandb.ai/goorm/albert-baseCase1/runs/sbuace92\" target=\"_blank\">wild-sweep-2</a></strong> to <a href=\"https://wandb.ai/goorm/albert-baseCase1\" target=\"_blank\">Weights & Biases</a> (<a href=\"https://wandb.me/run\" target=\"_blank\">docs</a>)<br/>Sweep page:  <a href=\"https://wandb.ai/goorm/albert-baseCase1/sweeps/1bt1ynzy\" target=\"_blank\">https://wandb.ai/goorm/albert-baseCase1/sweeps/1bt1ynzy</a>"
            ],
            "text/plain": [
              "<IPython.core.display.HTML object>"
            ]
          },
          "metadata": {},
          "output_type": "display_data"
        },
        {
          "name": "stderr",
          "output_type": "stream",
          "text": [
            "Some weights of the model checkpoint at albert-base-v2 were not used when initializing AlbertForSequenceClassification: ['predictions.LayerNorm.weight', 'predictions.bias', 'predictions.dense.bias', 'predictions.decoder.weight', 'predictions.dense.weight', 'predictions.LayerNorm.bias', 'predictions.decoder.bias']\n",
            "- This IS expected if you are initializing AlbertForSequenceClassification from the checkpoint of a model trained on another task or with another architecture (e.g. initializing a BertForSequenceClassification model from a BertForPreTraining model).\n",
            "- This IS NOT expected if you are initializing AlbertForSequenceClassification from the checkpoint of a model that you expect to be exactly identical (initializing a BertForSequenceClassification model from a BertForSequenceClassification model).\n",
            "Some weights of AlbertForSequenceClassification were not initialized from the model checkpoint at albert-base-v2 and are newly initialized: ['classifier.weight', 'classifier.bias']\n",
            "You should probably TRAIN this model on a down-stream task to be able to use it for predictions and inference.\n",
            "/usr/local/lib/python3.8/dist-packages/transformers/optimization.py:306: FutureWarning: This implementation of AdamW is deprecated and will be removed in a future version. Use the PyTorch implementation torch.optim.AdamW instead, or set `no_deprecation_warning=True` to disable this warning\n",
            "  warnings.warn(\n",
            "Epoch 0:  19%|█▊        | 26/139 [00:01<00:05, 20.44batch/s, loss=0.773]\n",
            "Eval:   0%|          | 0/1 [00:00<?, ?it/s]\u001b[A\n",
            "Eval: 100%|██████████| 1/1 [00:00<00:00,  6.32it/s]\u001b[A\n",
            "Epoch 0:  22%|██▏       | 31/139 [00:01<00:07, 14.29batch/s, loss=1.28]"
          ]
        },
        {
          "name": "stdout",
          "output_type": "stream",
          "text": [
            "=====> val_acc:  0.5\n"
          ]
        },
        {
          "name": "stderr",
          "output_type": "stream",
          "text": [
            "Epoch 0:  39%|███▉      | 54/139 [00:03<00:04, 18.75batch/s, loss=0.693]\n",
            "Eval:   0%|          | 0/1 [00:00<?, ?it/s]\u001b[A\n",
            "Eval: 100%|██████████| 1/1 [00:00<00:00,  6.19it/s]\u001b[A\n",
            "Epoch 0:  40%|████      | 56/139 [00:03<00:07, 11.20batch/s, loss=0.835]"
          ]
        },
        {
          "name": "stdout",
          "output_type": "stream",
          "text": [
            "=====> val_acc:  0.5\n"
          ]
        },
        {
          "name": "stderr",
          "output_type": "stream",
          "text": [
            "Epoch 0:  58%|█████▊    | 81/139 [00:04<00:02, 19.79batch/s, loss=0.686]\n",
            "Eval:   0%|          | 0/1 [00:00<?, ?it/s]\u001b[A\n",
            "Eval: 100%|██████████| 1/1 [00:00<00:00,  6.25it/s]\u001b[A\n",
            "Epoch 0:  60%|██████    | 84/139 [00:05<00:04, 12.95batch/s, loss=0.766]"
          ]
        },
        {
          "name": "stdout",
          "output_type": "stream",
          "text": [
            "=====> val_acc:  0.5\n"
          ]
        },
        {
          "name": "stderr",
          "output_type": "stream",
          "text": [
            "Epoch 0:  78%|███████▊  | 108/139 [00:06<00:01, 20.09batch/s, loss=1.31] \n",
            "Eval:   0%|          | 0/1 [00:00<?, ?it/s]\u001b[A\n",
            "Eval: 100%|██████████| 1/1 [00:00<00:00,  7.04it/s]\u001b[A\n",
            "Epoch 0:  80%|███████▉  | 111/139 [00:06<00:02, 13.52batch/s, loss=0.77] "
          ]
        },
        {
          "name": "stdout",
          "output_type": "stream",
          "text": [
            "=====> val_acc:  0.5\n"
          ]
        },
        {
          "name": "stderr",
          "output_type": "stream",
          "text": [
            "Epoch 0:  97%|█████████▋| 135/139 [00:07<00:00, 19.94batch/s, loss=0.689]\n",
            "Eval:   0%|          | 0/1 [00:00<?, ?it/s]\u001b[A\n",
            "Eval: 100%|██████████| 1/1 [00:00<00:00,  6.99it/s]\u001b[A\n",
            "Epoch 0:  99%|█████████▉| 138/139 [00:08<00:00, 13.63batch/s, loss=0.817]"
          ]
        },
        {
          "name": "stdout",
          "output_type": "stream",
          "text": [
            "=====> val_acc:  0.5\n"
          ]
        },
        {
          "name": "stderr",
          "output_type": "stream",
          "text": [
            "\rEpoch 0: 100%|██████████| 139/139 [00:08<00:00, 16.67batch/s, loss=0.817]\n"
          ]
        },
        {
          "data": {
            "text/html": [
              "Waiting for W&B process to finish... <strong style=\"color:green\">(success).</strong>"
            ],
            "text/plain": [
              "<IPython.core.display.HTML object>"
            ]
          },
          "metadata": {},
          "output_type": "display_data"
        },
        {
          "data": {
            "text/html": [
              "<style>\n",
              "    table.wandb td:nth-child(1) { padding: 0 10px; text-align: left ; width: auto;} td:nth-child(2) {text-align: left ; width: 100%}\n",
              "    .wandb-row { display: flex; flex-direction: row; flex-wrap: wrap; justify-content: flex-start; width: 100% }\n",
              "    .wandb-col { display: flex; flex-direction: column; flex-basis: 100%; flex: 1; padding: 10px; }\n",
              "    </style>\n",
              "<div class=\"wandb-row\"><div class=\"wandb-col\"><h3>Run history:</h3><br/><table class=\"wandb\"><tr><td>train/epoch</td><td>▁▁▁▁▁▁▁▁▁▁▁▁▁▁▁▁▁▁▁▁▁▁▁▁▁▁▁▁▁▁▁▁▁▁▁▁▁▁▁▁</td></tr><tr><td>train/train_loss</td><td>▁█▆▇▂▄▂▂▁▁▁▁▁▁▁▁▁▁▁▂▁▁▁▁▁▁▁▁▁▂▂▁▁▁▁▁▁▁▁▂</td></tr><tr><td>val/val_accuracy</td><td>▁▁▁▁▁</td></tr><tr><td>val/val_loss</td><td>▁▂█▁▂</td></tr></table><br/></div><div class=\"wandb-col\"><h3>Run summary:</h3><br/><table class=\"wandb\"><tr><td>train/epoch</td><td>0</td></tr><tr><td>train/train_loss</td><td>0.81736</td></tr><tr><td>val/val_accuracy</td><td>0.5</td></tr><tr><td>val/val_loss</td><td>0.75051</td></tr></table><br/></div></div>"
            ],
            "text/plain": [
              "<IPython.core.display.HTML object>"
            ]
          },
          "metadata": {},
          "output_type": "display_data"
        },
        {
          "data": {
            "text/html": [
              "Synced <strong style=\"color:#cdcd00\">wild-sweep-2</strong>: <a href=\"https://wandb.ai/goorm/albert-baseCase1/runs/sbuace92\" target=\"_blank\">https://wandb.ai/goorm/albert-baseCase1/runs/sbuace92</a><br/>Synced 5 W&B file(s), 0 media file(s), 0 artifact file(s) and 0 other file(s)"
            ],
            "text/plain": [
              "<IPython.core.display.HTML object>"
            ]
          },
          "metadata": {},
          "output_type": "display_data"
        },
        {
          "data": {
            "text/html": [
              "Find logs at: <code>./wandb/run-20221229_034219-sbuace92/logs</code>"
            ],
            "text/plain": [
              "<IPython.core.display.HTML object>"
            ]
          },
          "metadata": {},
          "output_type": "display_data"
        },
        {
          "name": "stderr",
          "output_type": "stream",
          "text": [
            "\u001b[34m\u001b[1mwandb\u001b[0m: Agent Starting Run: yycrqt2q with config:\n",
            "\u001b[34m\u001b[1mwandb\u001b[0m: \tbatch_size: 32\n",
            "\u001b[34m\u001b[1mwandb\u001b[0m: \tepochs: 1\n",
            "\u001b[34m\u001b[1mwandb\u001b[0m: \tlr: 0.001\n",
            "\u001b[34m\u001b[1mwandb\u001b[0m: \toptimizer: adamw\n",
            "\u001b[34m\u001b[1mwandb\u001b[0m: \tweight_decay: 0\n",
            "\u001b[34m\u001b[1mwandb\u001b[0m: \u001b[33mWARNING\u001b[0m Ignored wandb.init() arg project when running a sweep.\n"
          ]
        },
        {
          "data": {
            "application/vnd.jupyter.widget-view+json": {
              "model_id": "eeb766ec55ab4da0a6bbeaa19ac9c584",
              "version_major": 2,
              "version_minor": 0
            },
            "text/plain": [
              "VBox(children=(Label(value='Waiting for wandb.init()...\\r'), FloatProgress(value=0.016668461449929357, max=1.0…"
            ]
          },
          "metadata": {},
          "output_type": "display_data"
        },
        {
          "data": {
            "text/html": [
              "Tracking run with wandb version 0.13.7"
            ],
            "text/plain": [
              "<IPython.core.display.HTML object>"
            ]
          },
          "metadata": {},
          "output_type": "display_data"
        },
        {
          "data": {
            "text/html": [
              "Run data is saved locally in <code>/content/wandb/run-20221229_034249-yycrqt2q</code>"
            ],
            "text/plain": [
              "<IPython.core.display.HTML object>"
            ]
          },
          "metadata": {},
          "output_type": "display_data"
        },
        {
          "data": {
            "text/html": [
              "Syncing run <strong><a href=\"https://wandb.ai/goorm/albert-baseCase1/runs/yycrqt2q\" target=\"_blank\">young-sweep-3</a></strong> to <a href=\"https://wandb.ai/goorm/albert-baseCase1\" target=\"_blank\">Weights & Biases</a> (<a href=\"https://wandb.me/run\" target=\"_blank\">docs</a>)<br/>Sweep page:  <a href=\"https://wandb.ai/goorm/albert-baseCase1/sweeps/1bt1ynzy\" target=\"_blank\">https://wandb.ai/goorm/albert-baseCase1/sweeps/1bt1ynzy</a>"
            ],
            "text/plain": [
              "<IPython.core.display.HTML object>"
            ]
          },
          "metadata": {},
          "output_type": "display_data"
        },
        {
          "name": "stderr",
          "output_type": "stream",
          "text": [
            "Some weights of the model checkpoint at albert-base-v2 were not used when initializing AlbertForSequenceClassification: ['predictions.LayerNorm.weight', 'predictions.bias', 'predictions.dense.bias', 'predictions.decoder.weight', 'predictions.dense.weight', 'predictions.LayerNorm.bias', 'predictions.decoder.bias']\n",
            "- This IS expected if you are initializing AlbertForSequenceClassification from the checkpoint of a model trained on another task or with another architecture (e.g. initializing a BertForSequenceClassification model from a BertForPreTraining model).\n",
            "- This IS NOT expected if you are initializing AlbertForSequenceClassification from the checkpoint of a model that you expect to be exactly identical (initializing a BertForSequenceClassification model from a BertForSequenceClassification model).\n",
            "Some weights of AlbertForSequenceClassification were not initialized from the model checkpoint at albert-base-v2 and are newly initialized: ['classifier.weight', 'classifier.bias']\n",
            "You should probably TRAIN this model on a down-stream task to be able to use it for predictions and inference.\n",
            "/usr/local/lib/python3.8/dist-packages/transformers/optimization.py:306: FutureWarning: This implementation of AdamW is deprecated and will be removed in a future version. Use the PyTorch implementation torch.optim.AdamW instead, or set `no_deprecation_warning=True` to disable this warning\n",
            "  warnings.warn(\n",
            "Epoch 0:  19%|█▉        | 27/139 [00:01<00:05, 20.35batch/s, loss=0.686]\n",
            "Eval:   0%|          | 0/1 [00:00<?, ?it/s]\u001b[A\n",
            "Eval: 100%|██████████| 1/1 [00:00<00:00,  6.86it/s]\u001b[A\n",
            "Epoch 0:  22%|██▏       | 30/139 [00:01<00:08, 13.41batch/s, loss=0.685]"
          ]
        },
        {
          "name": "stdout",
          "output_type": "stream",
          "text": [
            "=====> val_acc:  0.5\n"
          ]
        },
        {
          "name": "stderr",
          "output_type": "stream",
          "text": [
            "Epoch 0:  38%|███▊      | 53/139 [00:03<00:04, 20.12batch/s, loss=0.651]\n",
            "Eval:   0%|          | 0/1 [00:00<?, ?it/s]\u001b[A\n",
            "Eval: 100%|██████████| 1/1 [00:00<00:00,  6.70it/s]\u001b[A\n",
            "Epoch 0:  42%|████▏     | 58/139 [00:03<00:05, 14.61batch/s, loss=0.661]"
          ]
        },
        {
          "name": "stdout",
          "output_type": "stream",
          "text": [
            "=====> val_acc:  0.5\n"
          ]
        },
        {
          "name": "stderr",
          "output_type": "stream",
          "text": [
            "Epoch 0:  58%|█████▊    | 81/139 [00:04<00:03, 18.93batch/s, loss=0.663]\n",
            "Eval:   0%|          | 0/1 [00:00<?, ?it/s]\u001b[A\n",
            "Eval: 100%|██████████| 1/1 [00:00<00:00,  6.68it/s]\u001b[A\n",
            "Epoch 0:  61%|██████    | 85/139 [00:05<00:04, 12.70batch/s, loss=0.73]"
          ]
        },
        {
          "name": "stdout",
          "output_type": "stream",
          "text": [
            "=====> val_acc:  0.5\n"
          ]
        },
        {
          "name": "stderr",
          "output_type": "stream",
          "text": [
            "Epoch 0:  77%|███████▋  | 107/139 [00:06<00:01, 19.65batch/s, loss=0.659]\n",
            "Eval:   0%|          | 0/1 [00:00<?, ?it/s]\u001b[A\n",
            "Eval: 100%|██████████| 1/1 [00:00<00:00,  6.34it/s]\u001b[A\n",
            "Epoch 0:  80%|███████▉  | 111/139 [00:06<00:02, 13.05batch/s, loss=0.703]"
          ]
        },
        {
          "name": "stdout",
          "output_type": "stream",
          "text": [
            "=====> val_acc:  0.5\n"
          ]
        },
        {
          "name": "stderr",
          "output_type": "stream",
          "text": [
            "Epoch 0:  96%|█████████▌| 133/139 [00:07<00:00, 19.93batch/s, loss=0.605]\n",
            "Eval:   0%|          | 0/1 [00:00<?, ?it/s]\u001b[A\n",
            "Eval: 100%|██████████| 1/1 [00:00<00:00,  6.88it/s]\u001b[A\n",
            "Epoch 0: 100%|██████████| 139/139 [00:08<00:00, 15.16batch/s, loss=0.588]"
          ]
        },
        {
          "name": "stdout",
          "output_type": "stream",
          "text": [
            "=====> val_acc:  0.5\n"
          ]
        },
        {
          "name": "stderr",
          "output_type": "stream",
          "text": [
            "\rEpoch 0: 100%|██████████| 139/139 [00:08<00:00, 16.57batch/s, loss=0.588]\n"
          ]
        },
        {
          "data": {
            "text/html": [
              "Waiting for W&B process to finish... <strong style=\"color:green\">(success).</strong>"
            ],
            "text/plain": [
              "<IPython.core.display.HTML object>"
            ]
          },
          "metadata": {},
          "output_type": "display_data"
        },
        {
          "data": {
            "text/html": [
              "<style>\n",
              "    table.wandb td:nth-child(1) { padding: 0 10px; text-align: left ; width: auto;} td:nth-child(2) {text-align: left ; width: 100%}\n",
              "    .wandb-row { display: flex; flex-direction: row; flex-wrap: wrap; justify-content: flex-start; width: 100% }\n",
              "    .wandb-col { display: flex; flex-direction: column; flex-basis: 100%; flex: 1; padding: 10px; }\n",
              "    </style>\n",
              "<div class=\"wandb-row\"><div class=\"wandb-col\"><h3>Run history:</h3><br/><table class=\"wandb\"><tr><td>train/epoch</td><td>▁▁▁▁▁▁▁▁▁▁▁▁▁▁▁▁▁▁▁▁▁▁▁▁▁▁▁▁▁▁▁▁▁▁▁▁▁▁▁▁</td></tr><tr><td>train/train_loss</td><td>▄█▂▃▂▂▁▂▂▂▂▂▂▂▂▂▂▂▂▂▂▄▃▂▃▂▁▂▂▁▁▁▂▂▂▂▂▁▂▂</td></tr><tr><td>val/val_accuracy</td><td>▁▁▁▁▁</td></tr><tr><td>val/val_loss</td><td>▁▁▁▂█</td></tr></table><br/></div><div class=\"wandb-col\"><h3>Run summary:</h3><br/><table class=\"wandb\"><tr><td>train/epoch</td><td>0</td></tr><tr><td>train/train_loss</td><td>0.58842</td></tr><tr><td>val/val_accuracy</td><td>0.5</td></tr><tr><td>val/val_loss</td><td>0.75351</td></tr></table><br/></div></div>"
            ],
            "text/plain": [
              "<IPython.core.display.HTML object>"
            ]
          },
          "metadata": {},
          "output_type": "display_data"
        },
        {
          "data": {
            "text/html": [
              "Synced <strong style=\"color:#cdcd00\">young-sweep-3</strong>: <a href=\"https://wandb.ai/goorm/albert-baseCase1/runs/yycrqt2q\" target=\"_blank\">https://wandb.ai/goorm/albert-baseCase1/runs/yycrqt2q</a><br/>Synced 5 W&B file(s), 0 media file(s), 0 artifact file(s) and 0 other file(s)"
            ],
            "text/plain": [
              "<IPython.core.display.HTML object>"
            ]
          },
          "metadata": {},
          "output_type": "display_data"
        },
        {
          "data": {
            "text/html": [
              "Find logs at: <code>./wandb/run-20221229_034249-yycrqt2q/logs</code>"
            ],
            "text/plain": [
              "<IPython.core.display.HTML object>"
            ]
          },
          "metadata": {},
          "output_type": "display_data"
        },
        {
          "name": "stderr",
          "output_type": "stream",
          "text": [
            "\u001b[34m\u001b[1mwandb\u001b[0m: Agent Starting Run: 9f8fmuxy with config:\n",
            "\u001b[34m\u001b[1mwandb\u001b[0m: \tbatch_size: 32\n",
            "\u001b[34m\u001b[1mwandb\u001b[0m: \tepochs: 1\n",
            "\u001b[34m\u001b[1mwandb\u001b[0m: \tlr: 0.0001\n",
            "\u001b[34m\u001b[1mwandb\u001b[0m: \toptimizer: adamw\n",
            "\u001b[34m\u001b[1mwandb\u001b[0m: \tweight_decay: 0\n",
            "\u001b[34m\u001b[1mwandb\u001b[0m: \u001b[33mWARNING\u001b[0m Ignored wandb.init() arg project when running a sweep.\n"
          ]
        },
        {
          "data": {
            "text/html": [
              "Tracking run with wandb version 0.13.7"
            ],
            "text/plain": [
              "<IPython.core.display.HTML object>"
            ]
          },
          "metadata": {},
          "output_type": "display_data"
        },
        {
          "data": {
            "text/html": [
              "Run data is saved locally in <code>/content/wandb/run-20221229_034330-9f8fmuxy</code>"
            ],
            "text/plain": [
              "<IPython.core.display.HTML object>"
            ]
          },
          "metadata": {},
          "output_type": "display_data"
        },
        {
          "data": {
            "text/html": [
              "Syncing run <strong><a href=\"https://wandb.ai/goorm/albert-baseCase1/runs/9f8fmuxy\" target=\"_blank\">graceful-sweep-4</a></strong> to <a href=\"https://wandb.ai/goorm/albert-baseCase1\" target=\"_blank\">Weights & Biases</a> (<a href=\"https://wandb.me/run\" target=\"_blank\">docs</a>)<br/>Sweep page:  <a href=\"https://wandb.ai/goorm/albert-baseCase1/sweeps/1bt1ynzy\" target=\"_blank\">https://wandb.ai/goorm/albert-baseCase1/sweeps/1bt1ynzy</a>"
            ],
            "text/plain": [
              "<IPython.core.display.HTML object>"
            ]
          },
          "metadata": {},
          "output_type": "display_data"
        },
        {
          "name": "stderr",
          "output_type": "stream",
          "text": [
            "Some weights of the model checkpoint at albert-base-v2 were not used when initializing AlbertForSequenceClassification: ['predictions.LayerNorm.weight', 'predictions.bias', 'predictions.dense.bias', 'predictions.decoder.weight', 'predictions.dense.weight', 'predictions.LayerNorm.bias', 'predictions.decoder.bias']\n",
            "- This IS expected if you are initializing AlbertForSequenceClassification from the checkpoint of a model trained on another task or with another architecture (e.g. initializing a BertForSequenceClassification model from a BertForPreTraining model).\n",
            "- This IS NOT expected if you are initializing AlbertForSequenceClassification from the checkpoint of a model that you expect to be exactly identical (initializing a BertForSequenceClassification model from a BertForSequenceClassification model).\n",
            "Some weights of AlbertForSequenceClassification were not initialized from the model checkpoint at albert-base-v2 and are newly initialized: ['classifier.weight', 'classifier.bias']\n",
            "You should probably TRAIN this model on a down-stream task to be able to use it for predictions and inference.\n",
            "/usr/local/lib/python3.8/dist-packages/transformers/optimization.py:306: FutureWarning: This implementation of AdamW is deprecated and will be removed in a future version. Use the PyTorch implementation torch.optim.AdamW instead, or set `no_deprecation_warning=True` to disable this warning\n",
            "  warnings.warn(\n",
            "Epoch 0:  19%|█▊        | 26/139 [00:01<00:05, 20.05batch/s, loss=0.0806]\n",
            "Eval:   0%|          | 0/1 [00:00<?, ?it/s]\u001b[A\n",
            "Eval: 100%|██████████| 1/1 [00:00<00:00,  6.80it/s]\u001b[A\n",
            "Epoch 0:  22%|██▏       | 31/139 [00:01<00:07, 14.30batch/s, loss=0.173]"
          ]
        },
        {
          "name": "stdout",
          "output_type": "stream",
          "text": [
            "=====> val_acc:  0.875\n"
          ]
        },
        {
          "name": "stderr",
          "output_type": "stream",
          "text": [
            "Epoch 0:  39%|███▉      | 54/139 [00:03<00:04, 19.37batch/s, loss=0.317]\n",
            "Eval:   0%|          | 0/1 [00:00<?, ?it/s]\u001b[A\n",
            "Eval: 100%|██████████| 1/1 [00:00<00:00,  6.74it/s]\u001b[A\n",
            "Epoch 0:  40%|████      | 56/139 [00:03<00:07, 10.92batch/s, loss=0.0719]"
          ]
        },
        {
          "name": "stdout",
          "output_type": "stream",
          "text": [
            "=====> val_acc:  0.925\n",
            "\n",
            "Saved the model!\n"
          ]
        },
        {
          "name": "stderr",
          "output_type": "stream",
          "text": [
            "Epoch 0:  58%|█████▊    | 80/139 [00:04<00:03, 19.34batch/s, loss=0.616]\n",
            "Eval:   0%|          | 0/1 [00:00<?, ?it/s]\u001b[A\n",
            "Eval: 100%|██████████| 1/1 [00:00<00:00,  6.83it/s]\u001b[A\n",
            "Epoch 0:  60%|██████    | 84/139 [00:05<00:04, 12.42batch/s, loss=0.28]"
          ]
        },
        {
          "name": "stdout",
          "output_type": "stream",
          "text": [
            "=====> val_acc:  0.925\n",
            "\n",
            "Saved the model!\n"
          ]
        },
        {
          "name": "stderr",
          "output_type": "stream",
          "text": [
            "Epoch 0:  78%|███████▊  | 108/139 [00:06<00:01, 20.02batch/s, loss=0.137]\n",
            "Eval:   0%|          | 0/1 [00:00<?, ?it/s]\u001b[A\n",
            "Eval: 100%|██████████| 1/1 [00:00<00:00,  6.88it/s]\u001b[A\n",
            "Epoch 0:  80%|███████▉  | 111/139 [00:06<00:02, 13.54batch/s, loss=0.141]"
          ]
        },
        {
          "name": "stdout",
          "output_type": "stream",
          "text": [
            "=====> val_acc:  0.9\n"
          ]
        },
        {
          "name": "stderr",
          "output_type": "stream",
          "text": [
            "Epoch 0:  97%|█████████▋| 135/139 [00:08<00:00, 19.80batch/s, loss=0.249]\n",
            "Eval:   0%|          | 0/1 [00:00<?, ?it/s]\u001b[A\n",
            "Eval: 100%|██████████| 1/1 [00:00<00:00,  6.57it/s]\u001b[A\n",
            "Epoch 0:  99%|█████████▉| 138/139 [00:08<00:00, 13.43batch/s, loss=0.46] "
          ]
        },
        {
          "name": "stdout",
          "output_type": "stream",
          "text": [
            "=====> val_acc:  0.875\n"
          ]
        },
        {
          "name": "stderr",
          "output_type": "stream",
          "text": [
            "\rEpoch 0: 100%|██████████| 139/139 [00:08<00:00, 16.40batch/s, loss=0.46]\n"
          ]
        },
        {
          "data": {
            "text/html": [
              "Waiting for W&B process to finish... <strong style=\"color:green\">(success).</strong>"
            ],
            "text/plain": [
              "<IPython.core.display.HTML object>"
            ]
          },
          "metadata": {},
          "output_type": "display_data"
        },
        {
          "data": {
            "text/html": [
              "<style>\n",
              "    table.wandb td:nth-child(1) { padding: 0 10px; text-align: left ; width: auto;} td:nth-child(2) {text-align: left ; width: 100%}\n",
              "    .wandb-row { display: flex; flex-direction: row; flex-wrap: wrap; justify-content: flex-start; width: 100% }\n",
              "    .wandb-col { display: flex; flex-direction: column; flex-basis: 100%; flex: 1; padding: 10px; }\n",
              "    </style>\n",
              "<div class=\"wandb-row\"><div class=\"wandb-col\"><h3>Run history:</h3><br/><table class=\"wandb\"><tr><td>train/epoch</td><td>▁▁▁▁▁▁▁▁▁▁▁▁▁▁▁▁▁▁▁▁▁▁▁▁▁▁▁▁▁▁▁▁▁▁▁▁▁▁▁▁</td></tr><tr><td>train/train_loss</td><td>▇█▇▆▇▇▃▁▁▅▂▂▄▂▃▃▂▂▃▂▂▄▇▇▃▆▂▃▃▃▂▃▃▂▁▂▄▄▆▂</td></tr><tr><td>val/val_accuracy</td><td>▁██▄▁</td></tr><tr><td>val/val_loss</td><td>█▂▅▁▁</td></tr></table><br/></div><div class=\"wandb-col\"><h3>Run summary:</h3><br/><table class=\"wandb\"><tr><td>train/epoch</td><td>0</td></tr><tr><td>train/train_loss</td><td>0.46031</td></tr><tr><td>val/val_accuracy</td><td>0.875</td></tr><tr><td>val/val_loss</td><td>0.20892</td></tr></table><br/></div></div>"
            ],
            "text/plain": [
              "<IPython.core.display.HTML object>"
            ]
          },
          "metadata": {},
          "output_type": "display_data"
        },
        {
          "data": {
            "text/html": [
              "Synced <strong style=\"color:#cdcd00\">graceful-sweep-4</strong>: <a href=\"https://wandb.ai/goorm/albert-baseCase1/runs/9f8fmuxy\" target=\"_blank\">https://wandb.ai/goorm/albert-baseCase1/runs/9f8fmuxy</a><br/>Synced 5 W&B file(s), 0 media file(s), 0 artifact file(s) and 0 other file(s)"
            ],
            "text/plain": [
              "<IPython.core.display.HTML object>"
            ]
          },
          "metadata": {},
          "output_type": "display_data"
        },
        {
          "data": {
            "text/html": [
              "Find logs at: <code>./wandb/run-20221229_034330-9f8fmuxy/logs</code>"
            ],
            "text/plain": [
              "<IPython.core.display.HTML object>"
            ]
          },
          "metadata": {},
          "output_type": "display_data"
        },
        {
          "name": "stderr",
          "output_type": "stream",
          "text": [
            "\u001b[34m\u001b[1mwandb\u001b[0m: Agent Starting Run: o2gm0aqd with config:\n",
            "\u001b[34m\u001b[1mwandb\u001b[0m: \tbatch_size: 32\n",
            "\u001b[34m\u001b[1mwandb\u001b[0m: \tepochs: 1\n",
            "\u001b[34m\u001b[1mwandb\u001b[0m: \tlr: 1e-05\n",
            "\u001b[34m\u001b[1mwandb\u001b[0m: \toptimizer: adamw\n",
            "\u001b[34m\u001b[1mwandb\u001b[0m: \tweight_decay: 0\n",
            "\u001b[34m\u001b[1mwandb\u001b[0m: \u001b[33mWARNING\u001b[0m Ignored wandb.init() arg project when running a sweep.\n"
          ]
        },
        {
          "data": {
            "text/html": [
              "Tracking run with wandb version 0.13.7"
            ],
            "text/plain": [
              "<IPython.core.display.HTML object>"
            ]
          },
          "metadata": {},
          "output_type": "display_data"
        },
        {
          "data": {
            "text/html": [
              "Run data is saved locally in <code>/content/wandb/run-20221229_034401-o2gm0aqd</code>"
            ],
            "text/plain": [
              "<IPython.core.display.HTML object>"
            ]
          },
          "metadata": {},
          "output_type": "display_data"
        },
        {
          "data": {
            "text/html": [
              "Syncing run <strong><a href=\"https://wandb.ai/goorm/albert-baseCase1/runs/o2gm0aqd\" target=\"_blank\">fearless-sweep-5</a></strong> to <a href=\"https://wandb.ai/goorm/albert-baseCase1\" target=\"_blank\">Weights & Biases</a> (<a href=\"https://wandb.me/run\" target=\"_blank\">docs</a>)<br/>Sweep page:  <a href=\"https://wandb.ai/goorm/albert-baseCase1/sweeps/1bt1ynzy\" target=\"_blank\">https://wandb.ai/goorm/albert-baseCase1/sweeps/1bt1ynzy</a>"
            ],
            "text/plain": [
              "<IPython.core.display.HTML object>"
            ]
          },
          "metadata": {},
          "output_type": "display_data"
        },
        {
          "name": "stderr",
          "output_type": "stream",
          "text": [
            "Some weights of the model checkpoint at albert-base-v2 were not used when initializing AlbertForSequenceClassification: ['predictions.LayerNorm.weight', 'predictions.bias', 'predictions.dense.bias', 'predictions.decoder.weight', 'predictions.dense.weight', 'predictions.LayerNorm.bias', 'predictions.decoder.bias']\n",
            "- This IS expected if you are initializing AlbertForSequenceClassification from the checkpoint of a model trained on another task or with another architecture (e.g. initializing a BertForSequenceClassification model from a BertForPreTraining model).\n",
            "- This IS NOT expected if you are initializing AlbertForSequenceClassification from the checkpoint of a model that you expect to be exactly identical (initializing a BertForSequenceClassification model from a BertForSequenceClassification model).\n",
            "Some weights of AlbertForSequenceClassification were not initialized from the model checkpoint at albert-base-v2 and are newly initialized: ['classifier.weight', 'classifier.bias']\n",
            "You should probably TRAIN this model on a down-stream task to be able to use it for predictions and inference.\n",
            "/usr/local/lib/python3.8/dist-packages/transformers/optimization.py:306: FutureWarning: This implementation of AdamW is deprecated and will be removed in a future version. Use the PyTorch implementation torch.optim.AdamW instead, or set `no_deprecation_warning=True` to disable this warning\n",
            "  warnings.warn(\n",
            "Epoch 0:  19%|█▊        | 26/139 [00:01<00:05, 20.45batch/s, loss=0.645]\n",
            "Eval:   0%|          | 0/1 [00:00<?, ?it/s]\u001b[A\n",
            "Eval: 100%|██████████| 1/1 [00:00<00:00,  7.08it/s]\u001b[A\n",
            "Epoch 0:  23%|██▎       | 32/139 [00:01<00:07, 15.04batch/s, loss=0.563]"
          ]
        },
        {
          "name": "stdout",
          "output_type": "stream",
          "text": [
            "=====> val_acc:  0.55\n"
          ]
        },
        {
          "name": "stderr",
          "output_type": "stream",
          "text": [
            "Epoch 0:  37%|███▋      | 52/139 [00:03<00:04, 20.20batch/s, loss=0.678]\n",
            "Eval:   0%|          | 0/1 [00:00<?, ?it/s]\u001b[A\n",
            "Eval: 100%|██████████| 1/1 [00:00<00:00,  6.16it/s]\u001b[A\n",
            "Epoch 0:  42%|████▏     | 58/139 [00:03<00:05, 14.84batch/s, loss=0.58]"
          ]
        },
        {
          "name": "stdout",
          "output_type": "stream",
          "text": [
            "=====> val_acc:  0.6\n"
          ]
        },
        {
          "name": "stderr",
          "output_type": "stream",
          "text": [
            "Epoch 0:  57%|█████▋    | 79/139 [00:04<00:03, 19.94batch/s, loss=0.556]\n",
            "Eval:   0%|          | 0/1 [00:00<?, ?it/s]\u001b[A\n",
            "Eval: 100%|██████████| 1/1 [00:00<00:00,  6.96it/s]\u001b[A\n",
            "Epoch 0:  60%|██████    | 84/139 [00:05<00:03, 14.56batch/s, loss=0.501]"
          ]
        },
        {
          "name": "stdout",
          "output_type": "stream",
          "text": [
            "=====> val_acc:  0.625\n"
          ]
        },
        {
          "name": "stderr",
          "output_type": "stream",
          "text": [
            "Epoch 0:  78%|███████▊  | 108/139 [00:06<00:01, 20.28batch/s, loss=0.519]\n",
            "Eval:   0%|          | 0/1 [00:00<?, ?it/s]\u001b[A\n",
            "Eval: 100%|██████████| 1/1 [00:00<00:00,  6.83it/s]\u001b[A\n",
            "Epoch 0:  80%|███████▉  | 111/139 [00:06<00:02, 13.53batch/s, loss=0.443]"
          ]
        },
        {
          "name": "stdout",
          "output_type": "stream",
          "text": [
            "=====> val_acc:  0.8\n"
          ]
        },
        {
          "name": "stderr",
          "output_type": "stream",
          "text": [
            "Epoch 0:  96%|█████████▋| 134/139 [00:07<00:00, 19.88batch/s, loss=0.309]\n",
            "Eval:   0%|          | 0/1 [00:00<?, ?it/s]\u001b[A\n",
            "Eval: 100%|██████████| 1/1 [00:00<00:00,  6.75it/s]\u001b[A\n",
            "Epoch 0:  99%|█████████▊| 137/139 [00:08<00:00, 13.40batch/s, loss=0.249]"
          ]
        },
        {
          "name": "stdout",
          "output_type": "stream",
          "text": [
            "=====> val_acc:  0.9\n"
          ]
        },
        {
          "name": "stderr",
          "output_type": "stream",
          "text": [
            "\rEpoch 0: 100%|██████████| 139/139 [00:08<00:00, 16.87batch/s, loss=0.249]\n"
          ]
        },
        {
          "data": {
            "text/html": [
              "Waiting for W&B process to finish... <strong style=\"color:green\">(success).</strong>"
            ],
            "text/plain": [
              "<IPython.core.display.HTML object>"
            ]
          },
          "metadata": {},
          "output_type": "display_data"
        },
        {
          "data": {
            "text/html": [
              "<style>\n",
              "    table.wandb td:nth-child(1) { padding: 0 10px; text-align: left ; width: auto;} td:nth-child(2) {text-align: left ; width: 100%}\n",
              "    .wandb-row { display: flex; flex-direction: row; flex-wrap: wrap; justify-content: flex-start; width: 100% }\n",
              "    .wandb-col { display: flex; flex-direction: column; flex-basis: 100%; flex: 1; padding: 10px; }\n",
              "    </style>\n",
              "<div class=\"wandb-row\"><div class=\"wandb-col\"><h3>Run history:</h3><br/><table class=\"wandb\"><tr><td>train/epoch</td><td>▁▁▁▁▁▁▁▁▁▁▁▁▁▁▁▁▁▁▁▁▁▁▁▁▁▁▁▁▁▁▁▁▁▁▁▁▁▁▁▁</td></tr><tr><td>train/train_loss</td><td>▇▇▇▆█▆▇▆▆▅█▆▆▆▆█▆▆▆▅▅▅▆▅▇▅▆▆▆▅▃▅▃▃▅▃▂▁▂▁</td></tr><tr><td>val/val_accuracy</td><td>▁▂▂▆█</td></tr><tr><td>val/val_loss</td><td>█▇▇▄▁</td></tr></table><br/></div><div class=\"wandb-col\"><h3>Run summary:</h3><br/><table class=\"wandb\"><tr><td>train/epoch</td><td>0</td></tr><tr><td>train/train_loss</td><td>0.24937</td></tr><tr><td>val/val_accuracy</td><td>0.9</td></tr><tr><td>val/val_loss</td><td>0.25974</td></tr></table><br/></div></div>"
            ],
            "text/plain": [
              "<IPython.core.display.HTML object>"
            ]
          },
          "metadata": {},
          "output_type": "display_data"
        },
        {
          "data": {
            "text/html": [
              "Synced <strong style=\"color:#cdcd00\">fearless-sweep-5</strong>: <a href=\"https://wandb.ai/goorm/albert-baseCase1/runs/o2gm0aqd\" target=\"_blank\">https://wandb.ai/goorm/albert-baseCase1/runs/o2gm0aqd</a><br/>Synced 5 W&B file(s), 0 media file(s), 0 artifact file(s) and 0 other file(s)"
            ],
            "text/plain": [
              "<IPython.core.display.HTML object>"
            ]
          },
          "metadata": {},
          "output_type": "display_data"
        },
        {
          "data": {
            "text/html": [
              "Find logs at: <code>./wandb/run-20221229_034401-o2gm0aqd/logs</code>"
            ],
            "text/plain": [
              "<IPython.core.display.HTML object>"
            ]
          },
          "metadata": {},
          "output_type": "display_data"
        },
        {
          "name": "stderr",
          "output_type": "stream",
          "text": [
            "\u001b[34m\u001b[1mwandb\u001b[0m: Sweep Agent: Waiting for job.\n",
            "\u001b[34m\u001b[1mwandb\u001b[0m: Sweep Agent: Exiting.\n"
          ]
        }
      ],
      "source": [
        "# 🐝 Step 4: Call to `wandb.agent` to start a sweep\n",
        "wandb.agent(sweep_id, function=main)"
      ]
    },
    {
      "cell_type": "code",
      "execution_count": null,
      "metadata": {
        "colab": {
          "background_save": true
        },
        "id": "1S85yT25OtA1"
      },
      "outputs": [],
      "source": [
        "# 🐝 Close your wandb run\n",
        "wandb.finish()"
      ]
    },
    {
      "cell_type": "markdown",
      "metadata": {
        "id": "mtpKYPSSuacG"
      },
      "source": [
        "## Visualization using Matplotlib\n",
        "\n",
        "- 출처: https://stackoverflow.com/questions/19471814/display-multiple-images-in-one-ipython-notebook-cell"
      ]
    },
    {
      "cell_type": "code",
      "execution_count": null,
      "metadata": {
        "id": "vPYG125ktJMZ"
      },
      "outputs": [],
      "source": [
        "import glob\n",
        "import matplotlib.pyplot as plt\n",
        "import matplotlib.image as mpimg\n",
        "%matplotlib inline\n",
        "\n",
        "images = []\n",
        "for img_path in glob.glob('*.png'):\n",
        "    images.append(mpimg.imread(img_path))\n",
        "\n",
        "plt.figure(figsize=(200, 100))\n",
        "columns = 5\n",
        "for i, image in enumerate(images):\n",
        "    plt.subplot(len(images) / columns + 1, columns, i + 1)\n",
        "    plt.imshow(image)"
      ]
    },
    {
      "cell_type": "markdown",
      "metadata": {
        "id": "9I2FzF0WakDM"
      },
      "source": [
        "# 3️⃣ Test & Submit"
      ]
    },
    {
      "cell_type": "markdown",
      "metadata": {
        "id": "i1hoIBC2x06b"
      },
      "source": [
        "## ✅ Define a New Pretrained Language Model\n",
        "\n",
        "\n",
        "- 원하는 모델로 수정\n",
        "```\n",
        "model = BertForSequenceClassification.from_pretrained('bert-base-uncased')\n",
        "```\n",
        "- 앞서 저장한 parameters 중 best 모델의 parameters 불러오기\n",
        "```\n",
        "model.load_state_dict(torch.load('model_32_adamw_5e-05_0.01_3.bin'))\n",
        "```"
      ]
    },
    {
      "cell_type": "code",
      "execution_count": null,
      "metadata": {
        "id": "JLB1LoTgiyHC"
      },
      "outputs": [],
      "source": [
        "model =AlbertForSequenceClassification.from_pretrained(\"albert-base-v2\")\n",
        "model.to(device)\n",
        "model.load_state_dict(torch.load('/content/model_albert-base_32_adamw_1e-05_0_5.bin'))"
      ]
    },
    {
      "cell_type": "code",
      "execution_count": null,
      "metadata": {
        "id": "P95gtlnurvgX"
      },
      "outputs": [],
      "source": [
        "import pandas as pd\n",
        "test_df = pd.read_csv('test_no_label.csv')"
      ]
    },
    {
      "cell_type": "code",
      "execution_count": null,
      "metadata": {
        "id": "cLDzC10ErvgX"
      },
      "outputs": [],
      "source": [
        "test_dataset = test_df['Id']"
      ]
    },
    {
      "cell_type": "code",
      "execution_count": null,
      "metadata": {
        "id": "jnt693N0rvgX"
      },
      "outputs": [],
      "source": [
        "def make_id_file_test(tokenizer, test_dataset):\n",
        "    data_strings = []\n",
        "    id_file_data = [tokenizer.encode(sent.lower()) for sent in test_dataset]\n",
        "    for item in id_file_data:\n",
        "        data_strings.append(' '.join([str(k) for k in item]))\n",
        "    return data_strings"
      ]
    },
    {
      "cell_type": "code",
      "execution_count": null,
      "metadata": {
        "id": "7C5PpXtlrvgY"
      },
      "outputs": [],
      "source": [
        "test = make_id_file_test(tokenizer, test_dataset)"
      ]
    },
    {
      "cell_type": "code",
      "execution_count": null,
      "metadata": {
        "id": "1aqse7SHrvgY"
      },
      "outputs": [],
      "source": [
        "test[:10]"
      ]
    },
    {
      "cell_type": "code",
      "execution_count": null,
      "metadata": {
        "id": "cZi14gnnrvgY"
      },
      "outputs": [],
      "source": [
        "class SentimentTestDataset(object):\n",
        "    def __init__(self, tokenizer, test):\n",
        "        self.tokenizer = tokenizer\n",
        "        self.data = []\n",
        "\n",
        "        for sent in test:\n",
        "            self.data += [self._cast_to_int(sent.strip().split())]\n",
        "\n",
        "    def _cast_to_int(self, sample):\n",
        "        return [int(word_id) for word_id in sample]\n",
        "\n",
        "    def __len__(self):\n",
        "        return len(self.data)\n",
        "\n",
        "    def __getitem__(self, index):\n",
        "        sample = self.data[index]\n",
        "        return np.array(sample)"
      ]
    },
    {
      "cell_type": "code",
      "execution_count": null,
      "metadata": {
        "id": "erHjGE9rrvgY"
      },
      "outputs": [],
      "source": [
        "test_dataset = SentimentTestDataset(tokenizer, test)"
      ]
    },
    {
      "cell_type": "markdown",
      "metadata": {
        "id": "P_e2IXyItPqm"
      },
      "source": [
        "## 🌟 collate_fn_style_test 함수\n",
        "- collate_fn_style_test 함수란?\n",
        "    - map-style 데이터셋에서 sample list를 batch 단위로 바꾸기 위해 필요한 기능입니다. zero-padding이나 Variable Size 데이터 등 데이터 사이즈를 맞추기 위해 많이 사용합니다.\n",
        "    - 출처: https://subinium.github.io/pytorch-dataloader/\n",
        "    - 추가로 아마 이 함수는 넘파이 타입이었던 데이터를 텐서 타입으로 바꾸는 게 아닐까 싶습니다. (torch.tensor)\n",
        "- 문제점\n",
        "    ```\n",
        "    sorted_indices = np.argsort([len(input_id) for input_id in input_ids])[::-1]\n",
        "    ```\n",
        "    - argsort: array를 정렬하는 array의 인덱스를 반환\n",
        "    - 학습 데이터와 다르게 테스트 데이터는 라벨이 정해져 있지 않음\n",
        "    - 따라서 학습데이터는 마음대로 정렬할 수 있지만(라벨이 따라오니까) 테스트는 그러면 안 됨. 왜냐면 섞일 수 있기 때문에(제출물 파일이 순서가 정해져 있음)\n",
        "    - 그러니까 첫 번째를 긍정으로 맞게 분류했는데 맞게 분류된 긍정 라벨이 막 5번째 부정 문장과 짝지어질 수도 있음\n",
        "    - 따라서 정렬하지 않고 범위만 해줌\n",
        "    - 출처: https://nthree.tistory.com/33"
      ]
    },
    {
      "cell_type": "code",
      "execution_count": null,
      "metadata": {
        "id": "y03-nDX9rvgZ"
      },
      "outputs": [],
      "source": [
        "def collate_fn_style_test(samples):\n",
        "    input_ids = samples\n",
        "    max_len = max(len(input_id) for input_id in input_ids)\n",
        "    # sorted_indices = np.argsort([len(input_id) for input_id in input_ids])[::-1]\n",
        "    sorted_indices = range(len(input_ids))\n",
        "    input_ids = pad_sequence([torch.tensor(input_ids[index]) for index in sorted_indices], batch_first=True)\n",
        "    attention_mask = torch.tensor([[1] * len(input_ids[index]) + [0] * (max_len - len(input_ids[index])) for index in sorted_indices])\n",
        "    token_type_ids = torch.tensor([[0] * len(input_ids[index]) for index in sorted_indices])\n",
        "    position_ids = torch.tensor([list(range(len(input_ids[index]))) for index in sorted_indices])\n",
        "\n",
        "    return input_ids, attention_mask, token_type_ids, position_ids"
      ]
    },
    {
      "cell_type": "code",
      "execution_count": null,
      "metadata": {
        "id": "gZ0l1HparvgZ"
      },
      "outputs": [],
      "source": [
        "test_batch_size = 64\n",
        "test_loader = torch.utils.data.DataLoader(\n",
        "    test_dataset,\n",
        "    batch_size=test_batch_size,\n",
        "    shuffle=False,\n",
        "    collate_fn=collate_fn_style_test,\n",
        "    num_workers=2)"
      ]
    },
    {
      "cell_type": "code",
      "execution_count": null,
      "metadata": {
        "id": "XoSHTbJUrvgZ"
      },
      "outputs": [],
      "source": [
        "with torch.no_grad():\n",
        "    model.eval()\n",
        "    predictions = []\n",
        "    for input_ids, attention_mask, token_type_ids, position_ids in tqdm(\n",
        "        test_loader,\n",
        "        desc='Test',\n",
        "        position=1,\n",
        "        leave=None):\n",
        "        # Test\n",
        "        input_ids = input_ids.to(device)\n",
        "        attention_mask = attention_mask.to(device)\n",
        "        token_type_ids = token_type_ids.to(device)\n",
        "        position_ids = position_ids.to(device)\n",
        "\n",
        "        outputs = model(\n",
        "            input_ids=input_ids,\n",
        "            attention_mask=attention_mask,\n",
        "            token_type_ids=token_type_ids,\n",
        "            position_ids=position_ids)\n",
        "\n",
        "        logits = outputs.logits\n",
        "        \n",
        "        batch_predictions = [0 if example[0] > example[1] else 1 for example in logits]\n",
        "        predictions += batch_predictions"
      ]
    },
    {
      "cell_type": "code",
      "execution_count": null,
      "metadata": {
        "id": "tGO3aS-VrvgZ"
      },
      "outputs": [],
      "source": [
        "test_df['Category'] = predictions"
      ]
    },
    {
      "cell_type": "code",
      "execution_count": null,
      "metadata": {
        "id": "VndXxal3rvgZ"
      },
      "outputs": [],
      "source": [
        "test_df.to_csv('submission_albert_base_best.csv', index=False)"
      ]
    },
    {
      "cell_type": "code",
      "execution_count": null,
      "metadata": {
        "id": "VrJBPu1kwUTj"
      },
      "outputs": [],
      "source": [
        "'''\n",
        "submission_test = pd.read_csv('submission_0.983.csv')\n",
        "compute_acc(predictions, submission_test['Category'])\n",
        "'''"
      ]
    },
    {
      "cell_type": "markdown",
      "metadata": {
        "id": "C9SOcqj7nLzJ"
      },
      "source": [
        "# References\n",
        "- 🐝 WandB\n",
        "    - https://colab.research.google.com/github/wandb/examples/blob/master/colabs/intro/Intro_to_Weights_%26_Biases.ipynb\n",
        "    - https://colab.research.google.com/github/wandb/examples/blob/master/colabs/pytorch/Organizing_Hyperparameter_Sweeps_in_PyTorch_with_W%26B.ipynb"
      ]
    }
  ],
  "metadata": {
    "accelerator": "GPU",
    "colab": {
      "machine_shape": "hm",
      "provenance": [],
      "include_colab_link": true
    },
    "gpuClass": "premium",
    "kernelspec": {
      "display_name": "Python 3",
      "language": "python",
      "name": "python3"
    },
    "language_info": {
      "codemirror_mode": {
        "name": "ipython",
        "version": 3
      },
      "file_extension": ".py",
      "mimetype": "text/x-python",
      "name": "python",
      "nbconvert_exporter": "python",
      "pygments_lexer": "ipython3",
      "version": "3.6.4"
    },
    "widgets": {
      "application/vnd.jupyter.widget-state+json": {
        "0df2ba9e88a24d53bc9ee1abc90c0268": {
          "model_module": "@jupyter-widgets/controls",
          "model_module_version": "1.5.0",
          "model_name": "DescriptionStyleModel",
          "state": {
            "_model_module": "@jupyter-widgets/controls",
            "_model_module_version": "1.5.0",
            "_model_name": "DescriptionStyleModel",
            "_view_count": null,
            "_view_module": "@jupyter-widgets/base",
            "_view_module_version": "1.2.0",
            "_view_name": "StyleView",
            "description_width": ""
          }
        },
        "0eff0df6f8894c22a18b30a8dac32b3c": {
          "model_module": "@jupyter-widgets/controls",
          "model_module_version": "1.5.0",
          "model_name": "DescriptionStyleModel",
          "state": {
            "_model_module": "@jupyter-widgets/controls",
            "_model_module_version": "1.5.0",
            "_model_name": "DescriptionStyleModel",
            "_view_count": null,
            "_view_module": "@jupyter-widgets/base",
            "_view_module_version": "1.2.0",
            "_view_name": "StyleView",
            "description_width": ""
          }
        },
        "1b8b301498c249f1ae2284d5c51c103e": {
          "model_module": "@jupyter-widgets/base",
          "model_module_version": "1.2.0",
          "model_name": "LayoutModel",
          "state": {
            "_model_module": "@jupyter-widgets/base",
            "_model_module_version": "1.2.0",
            "_model_name": "LayoutModel",
            "_view_count": null,
            "_view_module": "@jupyter-widgets/base",
            "_view_module_version": "1.2.0",
            "_view_name": "LayoutView",
            "align_content": null,
            "align_items": null,
            "align_self": null,
            "border": null,
            "bottom": null,
            "display": null,
            "flex": null,
            "flex_flow": null,
            "grid_area": null,
            "grid_auto_columns": null,
            "grid_auto_flow": null,
            "grid_auto_rows": null,
            "grid_column": null,
            "grid_gap": null,
            "grid_row": null,
            "grid_template_areas": null,
            "grid_template_columns": null,
            "grid_template_rows": null,
            "height": null,
            "justify_content": null,
            "justify_items": null,
            "left": null,
            "margin": null,
            "max_height": null,
            "max_width": null,
            "min_height": null,
            "min_width": null,
            "object_fit": null,
            "object_position": null,
            "order": null,
            "overflow": null,
            "overflow_x": null,
            "overflow_y": null,
            "padding": null,
            "right": null,
            "top": null,
            "visibility": null,
            "width": null
          }
        },
        "1cf8e7996e7e4188a907de1fe9055506": {
          "model_module": "@jupyter-widgets/controls",
          "model_module_version": "1.5.0",
          "model_name": "DescriptionStyleModel",
          "state": {
            "_model_module": "@jupyter-widgets/controls",
            "_model_module_version": "1.5.0",
            "_model_name": "DescriptionStyleModel",
            "_view_count": null,
            "_view_module": "@jupyter-widgets/base",
            "_view_module_version": "1.2.0",
            "_view_name": "StyleView",
            "description_width": ""
          }
        },
        "23ae12a7f764481d86fba65536281821": {
          "model_module": "@jupyter-widgets/base",
          "model_module_version": "1.2.0",
          "model_name": "LayoutModel",
          "state": {
            "_model_module": "@jupyter-widgets/base",
            "_model_module_version": "1.2.0",
            "_model_name": "LayoutModel",
            "_view_count": null,
            "_view_module": "@jupyter-widgets/base",
            "_view_module_version": "1.2.0",
            "_view_name": "LayoutView",
            "align_content": null,
            "align_items": null,
            "align_self": null,
            "border": null,
            "bottom": null,
            "display": null,
            "flex": null,
            "flex_flow": null,
            "grid_area": null,
            "grid_auto_columns": null,
            "grid_auto_flow": null,
            "grid_auto_rows": null,
            "grid_column": null,
            "grid_gap": null,
            "grid_row": null,
            "grid_template_areas": null,
            "grid_template_columns": null,
            "grid_template_rows": null,
            "height": null,
            "justify_content": null,
            "justify_items": null,
            "left": null,
            "margin": null,
            "max_height": null,
            "max_width": null,
            "min_height": null,
            "min_width": null,
            "object_fit": null,
            "object_position": null,
            "order": null,
            "overflow": null,
            "overflow_x": null,
            "overflow_y": null,
            "padding": null,
            "right": null,
            "top": null,
            "visibility": null,
            "width": null
          }
        },
        "2b3abfc1b467484fac60f34600abd701": {
          "model_module": "@jupyter-widgets/controls",
          "model_module_version": "1.5.0",
          "model_name": "FloatProgressModel",
          "state": {
            "_dom_classes": [],
            "_model_module": "@jupyter-widgets/controls",
            "_model_module_version": "1.5.0",
            "_model_name": "FloatProgressModel",
            "_view_count": null,
            "_view_module": "@jupyter-widgets/controls",
            "_view_module_version": "1.5.0",
            "_view_name": "ProgressView",
            "bar_style": "success",
            "description": "",
            "description_tooltip": null,
            "layout": "IPY_MODEL_23ae12a7f764481d86fba65536281821",
            "max": 760289,
            "min": 0,
            "orientation": "horizontal",
            "style": "IPY_MODEL_f8bc64fb5dde44c6a144bf4f5f4dfa36",
            "value": 760289
          }
        },
        "2d3e8144132f40e8b2668fe71150c7ee": {
          "model_module": "@jupyter-widgets/base",
          "model_module_version": "1.2.0",
          "model_name": "LayoutModel",
          "state": {
            "_model_module": "@jupyter-widgets/base",
            "_model_module_version": "1.2.0",
            "_model_name": "LayoutModel",
            "_view_count": null,
            "_view_module": "@jupyter-widgets/base",
            "_view_module_version": "1.2.0",
            "_view_name": "LayoutView",
            "align_content": null,
            "align_items": null,
            "align_self": null,
            "border": null,
            "bottom": null,
            "display": null,
            "flex": null,
            "flex_flow": null,
            "grid_area": null,
            "grid_auto_columns": null,
            "grid_auto_flow": null,
            "grid_auto_rows": null,
            "grid_column": null,
            "grid_gap": null,
            "grid_row": null,
            "grid_template_areas": null,
            "grid_template_columns": null,
            "grid_template_rows": null,
            "height": null,
            "justify_content": null,
            "justify_items": null,
            "left": null,
            "margin": null,
            "max_height": null,
            "max_width": null,
            "min_height": null,
            "min_width": null,
            "object_fit": null,
            "object_position": null,
            "order": null,
            "overflow": null,
            "overflow_x": null,
            "overflow_y": null,
            "padding": null,
            "right": null,
            "top": null,
            "visibility": null,
            "width": null
          }
        },
        "4f03221e1f8d4f89bbfdec6c8b3af536": {
          "model_module": "@jupyter-widgets/controls",
          "model_module_version": "1.5.0",
          "model_name": "HTMLModel",
          "state": {
            "_dom_classes": [],
            "_model_module": "@jupyter-widgets/controls",
            "_model_module_version": "1.5.0",
            "_model_name": "HTMLModel",
            "_view_count": null,
            "_view_module": "@jupyter-widgets/controls",
            "_view_module_version": "1.5.0",
            "_view_name": "HTMLView",
            "description": "",
            "description_tooltip": null,
            "layout": "IPY_MODEL_f1059cfe975e4fcda15c6daa01767158",
            "placeholder": "​",
            "style": "IPY_MODEL_1cf8e7996e7e4188a907de1fe9055506",
            "value": "Downloading: 100%"
          }
        },
        "5ccea8d3ebba494a905980112122dcff": {
          "model_module": "@jupyter-widgets/controls",
          "model_module_version": "1.5.0",
          "model_name": "DescriptionStyleModel",
          "state": {
            "_model_module": "@jupyter-widgets/controls",
            "_model_module_version": "1.5.0",
            "_model_name": "DescriptionStyleModel",
            "_view_count": null,
            "_view_module": "@jupyter-widgets/base",
            "_view_module_version": "1.2.0",
            "_view_name": "StyleView",
            "description_width": ""
          }
        },
        "657be0ae107d4462b46643f15ffc4653": {
          "model_module": "@jupyter-widgets/controls",
          "model_module_version": "1.5.0",
          "model_name": "HTMLModel",
          "state": {
            "_dom_classes": [],
            "_model_module": "@jupyter-widgets/controls",
            "_model_module_version": "1.5.0",
            "_model_name": "HTMLModel",
            "_view_count": null,
            "_view_module": "@jupyter-widgets/controls",
            "_view_module_version": "1.5.0",
            "_view_name": "HTMLView",
            "description": "",
            "description_tooltip": null,
            "layout": "IPY_MODEL_a2fc8ab330ef4ffb8a32184f49fea55f",
            "placeholder": "​",
            "style": "IPY_MODEL_0eff0df6f8894c22a18b30a8dac32b3c",
            "value": " 760k/760k [00:00&lt;00:00, 7.27MB/s]"
          }
        },
        "6599dd40faa5446da000a54a0d6ec9d3": {
          "model_module": "@jupyter-widgets/controls",
          "model_module_version": "1.5.0",
          "model_name": "HBoxModel",
          "state": {
            "_dom_classes": [],
            "_model_module": "@jupyter-widgets/controls",
            "_model_module_version": "1.5.0",
            "_model_name": "HBoxModel",
            "_view_count": null,
            "_view_module": "@jupyter-widgets/controls",
            "_view_module_version": "1.5.0",
            "_view_name": "HBoxView",
            "box_style": "",
            "children": [
              "IPY_MODEL_4f03221e1f8d4f89bbfdec6c8b3af536",
              "IPY_MODEL_2b3abfc1b467484fac60f34600abd701",
              "IPY_MODEL_657be0ae107d4462b46643f15ffc4653"
            ],
            "layout": "IPY_MODEL_2d3e8144132f40e8b2668fe71150c7ee"
          }
        },
        "a2fc8ab330ef4ffb8a32184f49fea55f": {
          "model_module": "@jupyter-widgets/base",
          "model_module_version": "1.2.0",
          "model_name": "LayoutModel",
          "state": {
            "_model_module": "@jupyter-widgets/base",
            "_model_module_version": "1.2.0",
            "_model_name": "LayoutModel",
            "_view_count": null,
            "_view_module": "@jupyter-widgets/base",
            "_view_module_version": "1.2.0",
            "_view_name": "LayoutView",
            "align_content": null,
            "align_items": null,
            "align_self": null,
            "border": null,
            "bottom": null,
            "display": null,
            "flex": null,
            "flex_flow": null,
            "grid_area": null,
            "grid_auto_columns": null,
            "grid_auto_flow": null,
            "grid_auto_rows": null,
            "grid_column": null,
            "grid_gap": null,
            "grid_row": null,
            "grid_template_areas": null,
            "grid_template_columns": null,
            "grid_template_rows": null,
            "height": null,
            "justify_content": null,
            "justify_items": null,
            "left": null,
            "margin": null,
            "max_height": null,
            "max_width": null,
            "min_height": null,
            "min_width": null,
            "object_fit": null,
            "object_position": null,
            "order": null,
            "overflow": null,
            "overflow_x": null,
            "overflow_y": null,
            "padding": null,
            "right": null,
            "top": null,
            "visibility": null,
            "width": null
          }
        },
        "db3e1f18160f48f088fa23486290b124": {
          "model_module": "@jupyter-widgets/controls",
          "model_module_version": "1.5.0",
          "model_name": "ProgressStyleModel",
          "state": {
            "_model_module": "@jupyter-widgets/controls",
            "_model_module_version": "1.5.0",
            "_model_name": "ProgressStyleModel",
            "_view_count": null,
            "_view_module": "@jupyter-widgets/base",
            "_view_module_version": "1.2.0",
            "_view_name": "StyleView",
            "bar_color": null,
            "description_width": ""
          }
        },
        "dba7eb24a20c485ca00a0daa6c75f81d": {
          "model_module": "@jupyter-widgets/controls",
          "model_module_version": "1.5.0",
          "model_name": "HBoxModel",
          "state": {
            "_dom_classes": [],
            "_model_module": "@jupyter-widgets/controls",
            "_model_module_version": "1.5.0",
            "_model_name": "HBoxModel",
            "_view_count": null,
            "_view_module": "@jupyter-widgets/controls",
            "_view_module_version": "1.5.0",
            "_view_name": "HBoxView",
            "box_style": "",
            "children": [
              "IPY_MODEL_eedbd6bbbebf464b9430f0b4f91f11d8",
              "IPY_MODEL_e6354760f9574bc8a8d3b6423f0de300",
              "IPY_MODEL_ee7024032baf404187633576d9b30d93"
            ],
            "layout": "IPY_MODEL_1b8b301498c249f1ae2284d5c51c103e"
          }
        },
        "dc2d445f0a574c90bb6d77201f50fcb0": {
          "model_module": "@jupyter-widgets/base",
          "model_module_version": "1.2.0",
          "model_name": "LayoutModel",
          "state": {
            "_model_module": "@jupyter-widgets/base",
            "_model_module_version": "1.2.0",
            "_model_name": "LayoutModel",
            "_view_count": null,
            "_view_module": "@jupyter-widgets/base",
            "_view_module_version": "1.2.0",
            "_view_name": "LayoutView",
            "align_content": null,
            "align_items": null,
            "align_self": null,
            "border": null,
            "bottom": null,
            "display": null,
            "flex": null,
            "flex_flow": null,
            "grid_area": null,
            "grid_auto_columns": null,
            "grid_auto_flow": null,
            "grid_auto_rows": null,
            "grid_column": null,
            "grid_gap": null,
            "grid_row": null,
            "grid_template_areas": null,
            "grid_template_columns": null,
            "grid_template_rows": null,
            "height": null,
            "justify_content": null,
            "justify_items": null,
            "left": null,
            "margin": null,
            "max_height": null,
            "max_width": null,
            "min_height": null,
            "min_width": null,
            "object_fit": null,
            "object_position": null,
            "order": null,
            "overflow": null,
            "overflow_x": null,
            "overflow_y": null,
            "padding": null,
            "right": null,
            "top": null,
            "visibility": null,
            "width": null
          }
        },
        "e5e86312d9c14b1ab15c3757a48e0247": {
          "model_module": "@jupyter-widgets/base",
          "model_module_version": "1.2.0",
          "model_name": "LayoutModel",
          "state": {
            "_model_module": "@jupyter-widgets/base",
            "_model_module_version": "1.2.0",
            "_model_name": "LayoutModel",
            "_view_count": null,
            "_view_module": "@jupyter-widgets/base",
            "_view_module_version": "1.2.0",
            "_view_name": "LayoutView",
            "align_content": null,
            "align_items": null,
            "align_self": null,
            "border": null,
            "bottom": null,
            "display": null,
            "flex": null,
            "flex_flow": null,
            "grid_area": null,
            "grid_auto_columns": null,
            "grid_auto_flow": null,
            "grid_auto_rows": null,
            "grid_column": null,
            "grid_gap": null,
            "grid_row": null,
            "grid_template_areas": null,
            "grid_template_columns": null,
            "grid_template_rows": null,
            "height": null,
            "justify_content": null,
            "justify_items": null,
            "left": null,
            "margin": null,
            "max_height": null,
            "max_width": null,
            "min_height": null,
            "min_width": null,
            "object_fit": null,
            "object_position": null,
            "order": null,
            "overflow": null,
            "overflow_x": null,
            "overflow_y": null,
            "padding": null,
            "right": null,
            "top": null,
            "visibility": null,
            "width": null
          }
        },
        "e6354760f9574bc8a8d3b6423f0de300": {
          "model_module": "@jupyter-widgets/controls",
          "model_module_version": "1.5.0",
          "model_name": "FloatProgressModel",
          "state": {
            "_dom_classes": [],
            "_model_module": "@jupyter-widgets/controls",
            "_model_module_version": "1.5.0",
            "_model_name": "FloatProgressModel",
            "_view_count": null,
            "_view_module": "@jupyter-widgets/controls",
            "_view_module_version": "1.5.0",
            "_view_name": "ProgressView",
            "bar_style": "success",
            "description": "",
            "description_tooltip": null,
            "layout": "IPY_MODEL_dc2d445f0a574c90bb6d77201f50fcb0",
            "max": 684,
            "min": 0,
            "orientation": "horizontal",
            "style": "IPY_MODEL_db3e1f18160f48f088fa23486290b124",
            "value": 684
          }
        },
        "ee7024032baf404187633576d9b30d93": {
          "model_module": "@jupyter-widgets/controls",
          "model_module_version": "1.5.0",
          "model_name": "HTMLModel",
          "state": {
            "_dom_classes": [],
            "_model_module": "@jupyter-widgets/controls",
            "_model_module_version": "1.5.0",
            "_model_name": "HTMLModel",
            "_view_count": null,
            "_view_module": "@jupyter-widgets/controls",
            "_view_module_version": "1.5.0",
            "_view_name": "HTMLView",
            "description": "",
            "description_tooltip": null,
            "layout": "IPY_MODEL_f993b7ab068e4c74ad1cbd16dd82e0c6",
            "placeholder": "​",
            "style": "IPY_MODEL_0df2ba9e88a24d53bc9ee1abc90c0268",
            "value": " 684/684 [00:00&lt;00:00, 53.4kB/s]"
          }
        },
        "eedbd6bbbebf464b9430f0b4f91f11d8": {
          "model_module": "@jupyter-widgets/controls",
          "model_module_version": "1.5.0",
          "model_name": "HTMLModel",
          "state": {
            "_dom_classes": [],
            "_model_module": "@jupyter-widgets/controls",
            "_model_module_version": "1.5.0",
            "_model_name": "HTMLModel",
            "_view_count": null,
            "_view_module": "@jupyter-widgets/controls",
            "_view_module_version": "1.5.0",
            "_view_name": "HTMLView",
            "description": "",
            "description_tooltip": null,
            "layout": "IPY_MODEL_e5e86312d9c14b1ab15c3757a48e0247",
            "placeholder": "​",
            "style": "IPY_MODEL_5ccea8d3ebba494a905980112122dcff",
            "value": "Downloading: 100%"
          }
        },
        "f1059cfe975e4fcda15c6daa01767158": {
          "model_module": "@jupyter-widgets/base",
          "model_module_version": "1.2.0",
          "model_name": "LayoutModel",
          "state": {
            "_model_module": "@jupyter-widgets/base",
            "_model_module_version": "1.2.0",
            "_model_name": "LayoutModel",
            "_view_count": null,
            "_view_module": "@jupyter-widgets/base",
            "_view_module_version": "1.2.0",
            "_view_name": "LayoutView",
            "align_content": null,
            "align_items": null,
            "align_self": null,
            "border": null,
            "bottom": null,
            "display": null,
            "flex": null,
            "flex_flow": null,
            "grid_area": null,
            "grid_auto_columns": null,
            "grid_auto_flow": null,
            "grid_auto_rows": null,
            "grid_column": null,
            "grid_gap": null,
            "grid_row": null,
            "grid_template_areas": null,
            "grid_template_columns": null,
            "grid_template_rows": null,
            "height": null,
            "justify_content": null,
            "justify_items": null,
            "left": null,
            "margin": null,
            "max_height": null,
            "max_width": null,
            "min_height": null,
            "min_width": null,
            "object_fit": null,
            "object_position": null,
            "order": null,
            "overflow": null,
            "overflow_x": null,
            "overflow_y": null,
            "padding": null,
            "right": null,
            "top": null,
            "visibility": null,
            "width": null
          }
        },
        "f8bc64fb5dde44c6a144bf4f5f4dfa36": {
          "model_module": "@jupyter-widgets/controls",
          "model_module_version": "1.5.0",
          "model_name": "ProgressStyleModel",
          "state": {
            "_model_module": "@jupyter-widgets/controls",
            "_model_module_version": "1.5.0",
            "_model_name": "ProgressStyleModel",
            "_view_count": null,
            "_view_module": "@jupyter-widgets/base",
            "_view_module_version": "1.2.0",
            "_view_name": "StyleView",
            "bar_color": null,
            "description_width": ""
          }
        },
        "f993b7ab068e4c74ad1cbd16dd82e0c6": {
          "model_module": "@jupyter-widgets/base",
          "model_module_version": "1.2.0",
          "model_name": "LayoutModel",
          "state": {
            "_model_module": "@jupyter-widgets/base",
            "_model_module_version": "1.2.0",
            "_model_name": "LayoutModel",
            "_view_count": null,
            "_view_module": "@jupyter-widgets/base",
            "_view_module_version": "1.2.0",
            "_view_name": "LayoutView",
            "align_content": null,
            "align_items": null,
            "align_self": null,
            "border": null,
            "bottom": null,
            "display": null,
            "flex": null,
            "flex_flow": null,
            "grid_area": null,
            "grid_auto_columns": null,
            "grid_auto_flow": null,
            "grid_auto_rows": null,
            "grid_column": null,
            "grid_gap": null,
            "grid_row": null,
            "grid_template_areas": null,
            "grid_template_columns": null,
            "grid_template_rows": null,
            "height": null,
            "justify_content": null,
            "justify_items": null,
            "left": null,
            "margin": null,
            "max_height": null,
            "max_width": null,
            "min_height": null,
            "min_width": null,
            "object_fit": null,
            "object_position": null,
            "order": null,
            "overflow": null,
            "overflow_x": null,
            "overflow_y": null,
            "padding": null,
            "right": null,
            "top": null,
            "visibility": null,
            "width": null
          }
        }
      }
    }
  },
  "nbformat": 4,
  "nbformat_minor": 0
}
